{
 "cells": [
  {
   "cell_type": "markdown",
   "metadata": {},
   "source": [
    "# Lab 5: How the Immune System Detects Mutations"
   ]
  },
  {
   "cell_type": "markdown",
   "metadata": {},
   "source": [
    "For Lab 5, we will be using the [IEDB Database](http://www.iedb.org/) to predict the binding strength of HLA-A to different peptides. Specifically, we will be using the different p53 sequences from Lab 3 and predict the binding strength of multiple HLA-A alleles to these sequences."
   ]
  },
  {
   "cell_type": "markdown",
   "metadata": {},
   "source": [
    "## Part 0: Fundamental Concepts\n",
    "These questions include fundamental concepts crucial to understanding this lab. Answer the following questions."
   ]
  },
  {
   "cell_type": "markdown",
   "metadata": {},
   "source": [
    "**Question 1** What is an allele?"
   ]
  },
  {
   "cell_type": "markdown",
   "metadata": {},
   "source": [
    "(Write your answer here)"
   ]
  },
  {
   "cell_type": "markdown",
   "metadata": {},
   "source": [
    "**Question 2** What are some important roles of HLA-A?"
   ]
  },
  {
   "cell_type": "markdown",
   "metadata": {},
   "source": [
    "(Write your answer here)"
   ]
  },
  {
   "cell_type": "markdown",
   "metadata": {},
   "source": [
    "**Question 3** What is an MHC Class I molecule?"
   ]
  },
  {
   "cell_type": "markdown",
   "metadata": {},
   "source": [
    "(Write your answer here)"
   ]
  },
  {
   "cell_type": "markdown",
   "metadata": {},
   "source": [
    "## Part 1: Understanding HLA-A and its Alleles"
   ]
  },
  {
   "cell_type": "markdown",
   "metadata": {},
   "source": [
    "For part 1 of this lab, we will research different HLA-A allele frequencies in a specific population of interest.\n",
    "1. Navigate to [Allele Frequencies](http://www.iedb.org/).\n",
    "2. We will use this portal to explore HLA-A frequencies. In the sidebar menu, hover above **HLA** and click on **HLA Allele Freq (Classical)**.\n",
    "2. In the resulting search page, under locus, select **locus A**.\n",
    "<img src=\"images/locus.png\" width=\"100\" />\n",
    "3. In the population dropdown menu, select any country or region of interest (e.g. Albania). **Note**: Some countries do not contain information for HLA-A. If you get an error, choose a different country or region.\n",
    "4. Click **Search**.\n",
    "5. The resulting search results will tell you the different alleles for HLA-A and their frequencies in that population."
   ]
  },
  {
   "cell_type": "markdown",
   "metadata": {},
   "source": [
    "### Questions: Populations and HLA-A Frequencies"
   ]
  },
  {
   "cell_type": "markdown",
   "metadata": {},
   "source": [
    "**Question 1** What is the name of the most frequent allele in the population you chose?"
   ]
  },
  {
   "cell_type": "markdown",
   "metadata": {},
   "source": [
    "(Write your answer here)"
   ]
  },
  {
   "cell_type": "markdown",
   "metadata": {},
   "source": [
    "**Question 2** Click on the Distribution map of the most frequent allele for your chosen population. This should redirect you to a global map and the locations of your chosen allele."
   ]
  },
  {
   "cell_type": "markdown",
   "metadata": {},
   "source": [
    "(Write your answer here)"
   ]
  },
  {
   "cell_type": "markdown",
   "metadata": {},
   "source": [
    "<img src=\"images/distribution.png\" width=\"75\" />"
   ]
  },
  {
   "cell_type": "markdown",
   "metadata": {},
   "source": [
    "**Q3a** Is this allele geographically concentrated or spread out?"
   ]
  },
  {
   "cell_type": "markdown",
   "metadata": {},
   "source": [
    "(Write your answer here)"
   ]
  },
  {
   "cell_type": "markdown",
   "metadata": {},
   "source": [
    "**Q3b** In which regions is this allele the most concentrated?"
   ]
  },
  {
   "cell_type": "markdown",
   "metadata": {},
   "source": [
    "(Write your answer here)"
   ]
  },
  {
   "cell_type": "markdown",
   "metadata": {},
   "source": [
    "**Q3c** Can you think of potential explanations for the distribution of this allele? (e.g. If it is spread out\n",
    "  around the globe, what could have caused this spread? If it is concentrated in a couple areas, what factors would concentrate this allele?)"
   ]
  },
  {
   "cell_type": "markdown",
   "metadata": {},
   "source": [
    "(Write your answer here)"
   ]
  },
  {
   "cell_type": "markdown",
   "metadata": {},
   "source": [
    "1. Click the back arrow to navigate from the map to your search results.\n",
    "2. Under the column labeled **IMGT/HLA Database**, click \"**see**\" next to the most frequent allele.\n",
    "\n",
    "<img src=\"images/imgtDB.png\" width=\"75\" />\n",
    "\n",
    "3. On the resulting page, click on the first allele. This will redirect you to a page of information for that allele.\n"
   ]
  },
  {
   "cell_type": "markdown",
   "metadata": {},
   "source": [
    "### Question: Most Frequent Allele"
   ]
  },
  {
   "cell_type": "markdown",
   "metadata": {},
   "source": [
    "**What is the protein sequence for this allele?**"
   ]
  },
  {
   "cell_type": "markdown",
   "metadata": {},
   "source": [
    "(Write your answer here)"
   ]
  },
  {
   "cell_type": "markdown",
   "metadata": {},
   "source": [
    "## Part 2: Designing a Reference Allele Set\n",
    "As we will see in part 2 of this lab, IEDB provides us with a set of reference alleles that cover a large portion of the population.\n",
    "\n",
    "1. Navigate to [IEDB](http://www.iedb.org/)\n",
    "2. On the resulting page, in the right sidebar, there is a box labeled **T cell Epitope Prediction**. In this box, click on **MHC I Binding**.\n",
    "\n",
    "<img src=\"images/tcellepitopeSidebar.png\" width=\"150\" />\n",
    "\n",
    "This will redirect you to a new page where you can upload sequences and predict the binding affinity of multiple HLA alleles to that sequence. This\n",
    "page allows you to predict on self-selected alleles or predicted on a reference set of alleles. First, we will explore a pre-curated reference set of alleles.\n",
    "\n",
    "<img src=\"images/predictionInterface.png\" width=\"300\" />\n",
    "\n",
    "In the section labeled **Specify what to make binding predictions for**, click on the link labeled **Select HLA allele reference set**.\n",
    "\n",
    "<img src=\"images/navigaterefset.png\" width=\"400\"/>"
   ]
  },
  {
   "cell_type": "markdown",
   "metadata": {},
   "source": [
    "### Questions: Reference Set Alleles\n",
    "\n",
    "The resulting page should have information about the reference set. With this information, answer the following questions."
   ]
  },
  {
   "cell_type": "markdown",
   "metadata": {},
   "source": [
    "**Q1. What is the reference set?**"
   ]
  },
  {
   "cell_type": "markdown",
   "metadata": {},
   "source": [
    "(Write your answer here)"
   ]
  },
  {
   "cell_type": "markdown",
   "metadata": {},
   "source": [
    "**Q2. What are the advantages of using a reference set when studying binding affinity of epitopes?**"
   ]
  },
  {
   "cell_type": "markdown",
   "metadata": {},
   "source": [
    "(Write your answer here)"
   ]
  },
  {
   "cell_type": "markdown",
   "metadata": {},
   "source": [
    "**Q3. In your own words, what criteria are used to decide whether a certain allele is added to a reference set?**"
   ]
  },
  {
   "cell_type": "markdown",
   "metadata": {},
   "source": [
    "(Write your answer here)"
   ]
  },
  {
   "cell_type": "markdown",
   "metadata": {},
   "source": [
    "**Q4. At the bottom of the page, download the HLA class 1 reference set. In this file, does the most frequent allele you found in your population in part 1 of the lab appear in this list?**"
   ]
  },
  {
   "cell_type": "markdown",
   "metadata": {},
   "source": [
    "<img src=\"images/hlarefset.png\" width=\"400\" />"
   ]
  },
  {
   "cell_type": "markdown",
   "metadata": {},
   "source": [
    "(Write your answer here)"
   ]
  },
  {
   "cell_type": "markdown",
   "metadata": {},
   "source": [
    "# Part 2: Prediction Methods for MHC Class I Molecules\n",
    "In part 2 of the lab, we will investigate the types of methods used to predict binding affinity of sequences to MHC class I molecules.\n",
    "1. On the MHC-I Binding Predictions page, click on **Help on prediction method selections** under the section labeled **Choose a Prediction Method**\n",
    "<img src=\"images/choosePredictionMethod.png\" />\n",
    "\n",
    "2. On the resulting page, you will see a description for **Choose a prediction method**. Read the explanation and answer the following questions."
   ]
  },
  {
   "cell_type": "markdown",
   "metadata": {},
   "source": [
    "## Questions: Prediction Methods for MHC Class I Molecules"
   ]
  },
  {
   "cell_type": "markdown",
   "metadata": {},
   "source": [
    "**Q1. How many available prediction methods are there for prediction of MHC Class 1 binding affinity?**"
   ]
  },
  {
   "cell_type": "markdown",
   "metadata": {},
   "source": [
    "(Write your answer here)"
   ]
  },
  {
   "cell_type": "markdown",
   "metadata": {},
   "source": [
    "**Q2. What is the IEDB recommended method? Give a brief explanation of the method.**"
   ]
  },
  {
   "cell_type": "markdown",
   "metadata": {},
   "source": [
    "(Write your answer here)"
   ]
  },
  {
   "cell_type": "markdown",
   "metadata": {},
   "source": [
    "**Q3. *Bonus*: Click on any method from the available methods and read the abstract. (If you are feeling explorative, read the whole paper!) Give a brief description of this method.**"
   ]
  },
  {
   "cell_type": "markdown",
   "metadata": {},
   "source": [
    "(Write your answer here)"
   ]
  },
  {
   "cell_type": "markdown",
   "metadata": {},
   "source": [
    "## Part 3: Prediction of Sequences"
   ]
  },
  {
   "cell_type": "markdown",
   "metadata": {},
   "source": [
    "For part 3 of the lab, we will take mutated p53 sequences from lab 3 and compare their ability to be recognized by the immune system.\n",
    "\n",
    "First, to do this, we must predict how the p53 sequences will be chopped up by the proteosome. These chopped peptides will then be transported to the cell membrane by an MHC Class I Molecule.\n",
    "For a visual demonstration of this process, see [Proteosome Cleavage][6].\n",
    "\n",
    "To predict where these sequences are chopped, we used **Clipper**, a tool that predicts the cleavage sites of protein sequences by the proteosome. We predict the cleavage of three sequences from lab 3: a template p53 sequence, a sequence with R273H mutation, and another sequence with booth r273c and t284r mutations. To learn more about Clipper, see [Clipper Slideshow][7]. Here is the resulting cleavage pattern of sequence portion with the mutations:\n",
    "\n",
    ">Mutation?\n",
    "\n",
    "``---------X----------X------------------``\n",
    "\n",
    ">p53_normal\n",
    "\n",
    "``LLGRNSFEVRVCACPGRDRRTEEENLRKKGEPHHELPPG``\n",
    "\n",
    "``++++--+++++++++-+--------++++---++-+---``\n",
    "\n",
    ">p53_mutations_r273h\n",
    "\n",
    "``LLGRNSFEVHVCACPGRDRRTEEENLRKKGEPHHELPPG``\n",
    "\n",
    "``++++--+-+++++++-+--------++++---++-+---``\n",
    "\n",
    ">p53_mutations_r273c_t284r\n",
    "\n",
    "``LLGRNSFEVCVCACPGRDRRREEENLRKKGEPHHELPPG``\n",
    "\n",
    "``++++-+++++++++-----------++++---++-+---``\n",
    "\n",
    "Here, the '+' and '-' indicate where the sequences are cleaved and not cleaved, respectively. On the first line, an \"X\" represents the location of a mutation.\n"
   ]
  },
  {
   "cell_type": "markdown",
   "metadata": {},
   "source": [
    "Using these cleaved sequences, answer the following questions."
   ]
  },
  {
   "cell_type": "markdown",
   "metadata": {},
   "source": [
    "### Questions: Cleavage of p53 Sequences"
   ]
  },
  {
   "cell_type": "markdown",
   "metadata": {},
   "source": [
    "1. Look each sequence's cleavage patterns and mutations.\n",
    "<br>\n",
    "**a. Which mutations create the strongest deviation in cleavage pattern?**"
   ]
  },
  {
   "cell_type": "markdown",
   "metadata": {},
   "source": [
    "(Write your answer here)"
   ]
  },
  {
   "cell_type": "markdown",
   "metadata": {},
   "source": [
    "**b. Is there a certain base pair distance between a mutation and the cleavage range it effects?**"
   ]
  },
  {
   "cell_type": "markdown",
   "metadata": {},
   "source": [
    "(Write your answer here)"
   ]
  },
  {
   "cell_type": "markdown",
   "metadata": {},
   "source": [
    "Now, we will use the cleavage patterns of these sequences to extract epitopes and predict the binding affinity of these sequences to HLA-A.\n",
    "\n",
    "Epitope       |    Presence in Sequences         \n",
    "------------- |--------------------------------\n",
    "VDSTPPPGT       |       All                      \n",
    "SDSDGLAPPQH     |       All                      \n",
    "DRRTEEEN        | p53_normal,p53_mutations_r273h\n",
    "PGRDRRREEEN     | p53_mutations_r273c_t284r      \n",
    "\n",
    "1. Navigate back to the MHC_I Binding Prediction page: [MHC 1 Binding][5]\n",
    "3. Under the section called **Specify Sequence(s)**, enter in the epitopes provided in the table above:\n",
    "<img src=\"images/enterEpitopes.png\" />\n",
    "\n",
    "2. Under the section called **Specify what to make binding predictions for**, upload your reference allele set downloaded in part 2. **Important**: Before uploading the reference allele set, be sure to open the file, and\n",
    "remove all HLA-B alleles. Only include HLA-A alleles.\n",
    "<img src=\"images/uploadAlleles.png\" />\n",
    "\n",
    "3. Click **Submit**.\n",
    "4. Wait. This may take a couple minutes...\n",
    "\n",
    "On the resulting page, you will see a list of epitopes extracted from your input epitopes and a prediction of binding for each allele."
   ]
  },
  {
   "cell_type": "markdown",
   "metadata": {},
   "source": [
    "### Questions: Binding Prediction of p53 Epitopes"
   ]
  },
  {
   "cell_type": "markdown",
   "metadata": {},
   "source": [
    "**Q1. Given the information on this page, what does the percentile rank indicate?**"
   ]
  },
  {
   "cell_type": "markdown",
   "metadata": {},
   "source": [
    "(Write your answer here)"
   ]
  },
  {
   "cell_type": "markdown",
   "metadata": {},
   "source": [
    "**Q2. For the \tSDSDGLAPPQH epitope, which HLA-A allele has the highest binding affinity? What is the percentile rank for that allele?**"
   ]
  },
  {
   "cell_type": "markdown",
   "metadata": {},
   "source": [
    "(Write your answer here)"
   ]
  },
  {
   "cell_type": "markdown",
   "metadata": {},
   "source": [
    "**Q3. Compare the binding affinity for epitopes DRRTEEEN and PGRDRRREEEN.**\n",
    "<br>\n",
    "**a. Which alleles have the strongest affinity for these sequences?**"
   ]
  },
  {
   "cell_type": "markdown",
   "metadata": {},
   "source": [
    "(Write your answer here)"
   ]
  },
  {
   "cell_type": "markdown",
   "metadata": {},
   "source": [
    "**b. The prefix for epitope PGRDRRREEEN is PGR. This sequence does not exist in DRRTEEEN, due to difference in cleavage patterns.**\n",
    "<br>\n",
    "**Summarize the differences in binding affinity that results in the addition of this prefix.**"
   ]
  },
  {
   "cell_type": "markdown",
   "metadata": {},
   "source": [
    "(Write your answer here)"
   ]
  },
  {
   "cell_type": "markdown",
   "metadata": {},
   "source": [
    "### References\n",
    "\n",
    "Double click\n",
    "\n",
    "<references>\n",
    "\n",
    "[1]: http://www.iedb.org/ \"IEDB\"\n",
    "\n",
    "[2]: http://help.iedb.org/hc/en-us/articles/114094151851 \"HLA-A Alleles\"\n",
    "\n",
    "[3]: http://allelefrequencies.net \"Allele Frequencies\"\n",
    "\n",
    "[4]: https://github.com/massie/chipper \"Clipper\"\n",
    "\n",
    "[5]: http://tools.iedb.org/mhci/ \"MHC I Binding\"\n",
    "\n",
    "[6]: https://en.wikipedia.org/wiki/Major_histocompatibility_complex#/media/File:MHC_Class_I_processing.svg \"Proteosome Cleavage\"\n",
    "\n",
    "[7]: https://people.eecs.berkeley.edu/~massie/slides/vhse/#/ \"Clipper Slideshow\"\n",
    "\n",
    "\n",
    "\n",
    "<Images>\n",
    "[alleleFreqHome]: ../images/lab5/alleleFreqHome.png \"Allele Frequencies Home\"\n",
    "[locusA]: ../images/lab5/locus.png \"Locus A\"\n",
    "[population]: ../images/lab5/population.png \"Population\"\n",
    "[distribution]: ../images/lab5/distribution.png \"Distribution\"\n",
    "[imgtDB]: ../images/lab5/imgtDB.png \"IMGT Database\"\n"
   ]
  }
 ],
 "metadata": {
  "kernelspec": {
   "display_name": "Python 3",
   "language": "python",
   "name": "python3"
  },
  "language_info": {
   "codemirror_mode": {
    "name": "ipython",
    "version": 3
   },
   "file_extension": ".py",
   "mimetype": "text/x-python",
   "name": "python",
   "nbconvert_exporter": "python",
   "pygments_lexer": "ipython3",
   "version": "3.5.2"
  }
 },
 "nbformat": 4,
 "nbformat_minor": 2
}
