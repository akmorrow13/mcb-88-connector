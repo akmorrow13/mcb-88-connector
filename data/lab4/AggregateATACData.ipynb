{
 "cells": [
  {
   "cell_type": "markdown",
   "metadata": {},
   "source": [
    "This notebook aggregates dysfunctional T Cell data for lab 4.\n",
    "\n",
    "This data was from the paper https://www.nature.com/articles/nature22367.\n",
    "The data can be accessed at https://www.ncbi.nlm.nih.gov/geo/query/acc.cgi?acc=GSE89309.\n",
    "\n",
    "Data was first downloaded, and the following files were selected and unzipped for use:\n",
    "\n",
    "Healthy T Cells:\n",
    "-\t\t\n",
    "- GSM2365802_ATAC_E5_1_normalizedCounts.txt\t\n",
    "- GSM2365805_ATAC_E7_2_normalizedCounts.txt\t\n",
    "- GSM2365807_ATAC_M1_normalizedCounts.txt\t\t\n",
    "\n",
    "Dysfunctional T Cells (after LX days)\n",
    "- GSM2365817_ATAC_L14_1_normalizedCounts.txt\t\n",
    "- GSM2365820_ATAC_L21_1_normalizedCounts.txt\t\n",
    "- GSM2365823_ATAC_L28_1_normalizedCounts.txt\n",
    "- GSM2365826_ATAC_L35_1_normalizedCounts.txt\n",
    "- GSM2365810_ATAC_L5_1_normalizedCounts.txt\n",
    "- GSM2365829_ATAC_L60_1_normalizedCounts.txt\n",
    "- GSM2365814_ATAC_L7_1_normalizedCounts.txt\t\n",
    "\n",
    "Dysfunctional Memory T Cells (After MLX days)\n",
    "- GSM2365832_ATAC_ML7_1_normalizedCounts.txt\n",
    "- GSM2365835_ATAC_ML14_1_normalizedCounts.txt\n",
    "- GSM2365837_ATAC_ML35_1_normalizedCounts.txt\n",
    "\n"
   ]
  },
  {
   "cell_type": "code",
   "execution_count": 2,
   "metadata": {
    "collapsed": true
   },
   "outputs": [],
   "source": [
    "# imports\n",
    "from datascience import Table\n",
    "import numpy as np\n",
    "import os\n",
    "from os import listdir\n",
    "from os.path import isfile, join"
   ]
  },
  {
   "cell_type": "code",
   "execution_count": 41,
   "metadata": {},
   "outputs": [
    {
     "data": {
      "text/plain": [
       "['GSM2365799_ATAC_N1_normalizedCounts.txt',\n",
       " 'GSM2365802_ATAC_E5_1_normalizedCounts.txt',\n",
       " 'GSM2365805_ATAC_E7_2_normalizedCounts.txt',\n",
       " 'GSM2365807_ATAC_M1_normalizedCounts.txt',\n",
       " 'GSM2365810_ATAC_L5_1_normalizedCounts.txt',\n",
       " 'GSM2365814_ATAC_L7_1_normalizedCounts.txt',\n",
       " 'GSM2365817_ATAC_L14_1_normalizedCounts.txt',\n",
       " 'GSM2365820_ATAC_L21_2_normalizedCounts.txt',\n",
       " 'GSM2365823_ATAC_L28_1_normalizedCounts.txt',\n",
       " 'GSM2365826_ATAC_L35_1_normalizedCounts.txt',\n",
       " 'GSM2365829_ATAC_L60_1_normalizedCounts.txt',\n",
       " 'GSM2365832_ATAC_ML7_2_normalizedCounts.txt',\n",
       " 'GSM2365835_ATAC_ML14_1_normalizedCounts.txt',\n",
       " 'GSM2365837_ATAC_ML35_1_normalizedCounts.txt']"
      ]
     },
     "execution_count": 41,
     "metadata": {},
     "output_type": "execute_result"
    }
   ],
   "source": [
    "# get all txt file names\n",
    "cwd = os.getcwd()\n",
    "\n",
    "files = [f for f in listdir(cwd) if isfile(join(cwd, f))]\n",
    "txtFiles = [f for f in files if f.endswith('.txt')]\n",
    "txtFiles"
   ]
  },
  {
   "cell_type": "code",
   "execution_count": 42,
   "metadata": {},
   "outputs": [
    {
     "data": {
      "text/html": [
       "<table border=\"1\" class=\"dataframe\">\n",
       "    <thead>\n",
       "        <tr>\n",
       "            <th>chr</th> <th>start</th> <th>end</th> <th>symbol</th> <th>refseqID</th> <th>peak_annotation</th> <th>N1</th>\n",
       "        </tr>\n",
       "    </thead>\n",
       "    <tbody>\n",
       "        <tr>\n",
       "            <td>chr1</td> <td>9772732 </td> <td>9773228 </td> <td>1700034P13Rik</td> <td>NR_040462</td> <td>intergenic     </td> <td>209.153</td>\n",
       "        </tr>\n",
       "    </tbody>\n",
       "        <tr>\n",
       "            <td>chr1</td> <td>9797805 </td> <td>9798616 </td> <td>Sgk3         </td> <td>NM_133220</td> <td>promoter       </td> <td>538.113</td>\n",
       "        </tr>\n",
       "    </tbody>\n",
       "        <tr>\n",
       "            <td>chr1</td> <td>9859046 </td> <td>9859750 </td> <td>Sgk3         </td> <td>NM_133220</td> <td>intron         </td> <td>178.694</td>\n",
       "        </tr>\n",
       "    </tbody>\n",
       "        <tr>\n",
       "            <td>chr1</td> <td>10089499</td> <td>10089955</td> <td>Cspp1        </td> <td>NM_026493</td> <td>intron         </td> <td>251.796</td>\n",
       "        </tr>\n",
       "    </tbody>\n",
       "        <tr>\n",
       "            <td>chr1</td> <td>12875425</td> <td>12875883</td> <td>Slco5a1      </td> <td>NM_172841</td> <td>intron         </td> <td>185.801</td>\n",
       "        </tr>\n",
       "    </tbody>\n",
       "        <tr>\n",
       "            <td>chr1</td> <td>13293331</td> <td>13293833</td> <td>Ncoa2        </td> <td>NM_008678</td> <td>intron         </td> <td>305.607</td>\n",
       "        </tr>\n",
       "    </tbody>\n",
       "        <tr>\n",
       "            <td>chr1</td> <td>20933432</td> <td>20933875</td> <td>Paqr8        </td> <td>NM_028829</td> <td>intron         </td> <td>480.24 </td>\n",
       "        </tr>\n",
       "    </tbody>\n",
       "        <tr>\n",
       "            <td>chr1</td> <td>23255935</td> <td>23256632</td> <td>Mir30a       </td> <td>NR_029533</td> <td>intergenic     </td> <td>681.271</td>\n",
       "        </tr>\n",
       "    </tbody>\n",
       "        <tr>\n",
       "            <td>chr1</td> <td>23762738</td> <td>23763139</td> <td>B3gat2       </td> <td>NM_172124</td> <td>promoter       </td> <td>102.546</td>\n",
       "        </tr>\n",
       "    </tbody>\n",
       "        <tr>\n",
       "            <td>chr1</td> <td>33739113</td> <td>33739764</td> <td>Rab23        </td> <td>NM_008999</td> <td>exon           </td> <td>248.75 </td>\n",
       "        </tr>\n",
       "    </tbody>\n",
       "</table>\n",
       "<p>... (75679 rows omitted)</p"
      ],
      "text/plain": [
       "chr  | start    | end      | symbol        | refseqID  | peak_annotation | N1\n",
       "chr1 | 9772732  | 9773228  | 1700034P13Rik | NR_040462 | intergenic      | 209.153\n",
       "chr1 | 9797805  | 9798616  | Sgk3          | NM_133220 | promoter        | 538.113\n",
       "chr1 | 9859046  | 9859750  | Sgk3          | NM_133220 | intron          | 178.694\n",
       "chr1 | 10089499 | 10089955 | Cspp1         | NM_026493 | intron          | 251.796\n",
       "chr1 | 12875425 | 12875883 | Slco5a1       | NM_172841 | intron          | 185.801\n",
       "chr1 | 13293331 | 13293833 | Ncoa2         | NM_008678 | intron          | 305.607\n",
       "chr1 | 20933432 | 20933875 | Paqr8         | NM_028829 | intron          | 480.24\n",
       "chr1 | 23255935 | 23256632 | Mir30a        | NR_029533 | intergenic      | 681.271\n",
       "chr1 | 23762738 | 23763139 | B3gat2        | NM_172124 | promoter        | 102.546\n",
       "chr1 | 33739113 | 33739764 | Rab23         | NM_008999 | exon            | 248.75\n",
       "... (75679 rows omitted)"
      ]
     },
     "execution_count": 42,
     "metadata": {},
     "output_type": "execute_result"
    }
   ],
   "source": [
    "# load in initial data from 1 file\n",
    "table = Table.read_table(txtFiles[0])\n",
    "table"
   ]
  },
  {
   "cell_type": "code",
   "execution_count": 43,
   "metadata": {
    "collapsed": true
   },
   "outputs": [],
   "source": [
    "# get start and end string points for parsing column name\n",
    "end = len('_normalizedCounts.txt')\n",
    "start = len('GSM2365802_ATAC_')"
   ]
  },
  {
   "cell_type": "code",
   "execution_count": 45,
   "metadata": {},
   "outputs": [],
   "source": [
    "# for the rest of the files, iterate through and append them to the list\n",
    "\n",
    "for i in range(1, len(txtFiles)):\n",
    "    file = txtFiles[i]\n",
    "    # get column name for data column\n",
    "    columnName = file[start:len(file)-end]\n",
    "    \n",
    "    tmp = Table.read_table(file)\n",
    "    \n",
    "    # append to table\n",
    "    table = table.with_column(columnName, tmp[columnName])\n",
    "\n",
    "table"
   ]
  },
  {
   "cell_type": "code",
   "execution_count": 46,
   "metadata": {},
   "outputs": [
    {
     "data": {
      "text/html": [
       "<table border=\"1\" class=\"dataframe\">\n",
       "    <thead>\n",
       "        <tr>\n",
       "            <th>chr</th> <th>start</th> <th>end</th> <th>symbol</th> <th>refseqID</th> <th>peak_annotation</th> <th>N1</th> <th>E5_1</th> <th>E7_2</th> <th>M1</th> <th>L5_1</th> <th>L7_1</th> <th>L14_1</th> <th>L21_2</th> <th>L28_1</th> <th>L35_1</th> <th>L60_1</th> <th>ML7_2</th> <th>ML14_1</th> <th>ML35_1</th>\n",
       "        </tr>\n",
       "    </thead>\n",
       "    <tbody>\n",
       "        <tr>\n",
       "            <td>chr1</td> <td>9772732 </td> <td>9773228 </td> <td>1700034P13Rik</td> <td>NR_040462</td> <td>intergenic     </td> <td>209.153</td> <td>129.291</td> <td>150.143</td> <td>255.555</td> <td>113.379</td> <td>113.542</td> <td>125.268</td> <td>205.532</td> <td>243.36 </td> <td>167.201</td> <td>147.345</td> <td>109.24 </td> <td>133.588</td> <td>202.068</td>\n",
       "        </tr>\n",
       "    </tbody>\n",
       "        <tr>\n",
       "            <td>chr1</td> <td>9797805 </td> <td>9798616 </td> <td>Sgk3         </td> <td>NM_133220</td> <td>promoter       </td> <td>538.113</td> <td>355.311</td> <td>390.926</td> <td>542.902</td> <td>249.435</td> <td>299.414</td> <td>291.065</td> <td>275.05 </td> <td>274.863</td> <td>214.586</td> <td>216.862</td> <td>245.79 </td> <td>174.482</td> <td>218.579</td>\n",
       "        </tr>\n",
       "    </tbody>\n",
       "        <tr>\n",
       "            <td>chr1</td> <td>9859046 </td> <td>9859750 </td> <td>Sgk3         </td> <td>NM_133220</td> <td>intron         </td> <td>178.694</td> <td>702.002</td> <td>671.84 </td> <td>666.4  </td> <td>231.992</td> <td>432.299</td> <td>257.905</td> <td>384.616</td> <td>224.458</td> <td>286.34 </td> <td>163.213</td> <td>294.473</td> <td>196.293</td> <td>366.395</td>\n",
       "        </tr>\n",
       "    </tbody>\n",
       "        <tr>\n",
       "            <td>chr1</td> <td>10089499</td> <td>10089955</td> <td>Cspp1        </td> <td>NM_026493</td> <td>intron         </td> <td>251.796</td> <td>161.853</td> <td>170.901</td> <td>235.991</td> <td>97.6808</td> <td>117.747</td> <td>127.11 </td> <td>161.705</td> <td>191.38 </td> <td>150.955</td> <td>148.101</td> <td>116.364</td> <td>124.046</td> <td>224.083</td>\n",
       "        </tr>\n",
       "    </tbody>\n",
       "        <tr>\n",
       "            <td>chr1</td> <td>12875425</td> <td>12875883</td> <td>Slco5a1      </td> <td>NM_172841</td> <td>intron         </td> <td>185.801</td> <td>131.206</td> <td>143.916</td> <td>176.076</td> <td>125.59 </td> <td>203.534</td> <td>198.034</td> <td>281.095</td> <td>353.621</td> <td>326.278</td> <td>272.777</td> <td>118.739</td> <td>140.404</td> <td>283.052</td>\n",
       "        </tr>\n",
       "    </tbody>\n",
       "        <tr>\n",
       "            <td>chr1</td> <td>13293331</td> <td>13293833</td> <td>Ncoa2        </td> <td>NM_008678</td> <td>intron         </td> <td>305.607</td> <td>203.035</td> <td>282.989</td> <td>289.792</td> <td>172.686</td> <td>264.089</td> <td>183.297</td> <td>315.854</td> <td>367.009</td> <td>373.663</td> <td>334.738</td> <td>212.543</td> <td>164.94 </td> <td>247.671</td>\n",
       "        </tr>\n",
       "    </tbody>\n",
       "        <tr>\n",
       "            <td>chr1</td> <td>20933432</td> <td>20933875</td> <td>Paqr8        </td> <td>NM_028829</td> <td>intron         </td> <td>480.24 </td> <td>267.201</td> <td>208.263</td> <td>326.475</td> <td>176.174</td> <td>237.176</td> <td>227.509</td> <td>247.847</td> <td>215.795</td> <td>200.37 </td> <td>173.036</td> <td>172.172</td> <td>148.583</td> <td>283.052</td>\n",
       "        </tr>\n",
       "    </tbody>\n",
       "        <tr>\n",
       "            <td>chr1</td> <td>23255935</td> <td>23256632</td> <td>Mir30a       </td> <td>NR_029533</td> <td>intergenic     </td> <td>681.271</td> <td>398.408</td> <td>455.965</td> <td>627.272</td> <td>378.513</td> <td>555.934</td> <td>233.036</td> <td>205.532</td> <td>165.39 </td> <td>158.401</td> <td>281.845</td> <td>298.035</td> <td>184.025</td> <td>158.038</td>\n",
       "        </tr>\n",
       "    </tbody>\n",
       "        <tr>\n",
       "            <td>chr1</td> <td>23762738</td> <td>23763139</td> <td>B3gat2       </td> <td>NM_172124</td> <td>promoter       </td> <td>102.546</td> <td>168.557</td> <td>152.219</td> <td>397.394</td> <td>231.992</td> <td>300.255</td> <td>136.321</td> <td>144.326</td> <td>129.162</td> <td>111.693</td> <td>151.879</td> <td>163.86 </td> <td>95.4201</td> <td>158.038</td>\n",
       "        </tr>\n",
       "    </tbody>\n",
       "        <tr>\n",
       "            <td>chr1</td> <td>33739113</td> <td>33739764</td> <td>Rab23        </td> <td>NM_008999</td> <td>exon           </td> <td>248.75 </td> <td>239.428</td> <td>199.269</td> <td>231.1  </td> <td>160.476</td> <td>204.375</td> <td>228.43 </td> <td>221.4  </td> <td>176.417</td> <td>194.955</td> <td>163.969</td> <td>176.921</td> <td>196.293</td> <td>194.205</td>\n",
       "        </tr>\n",
       "    </tbody>\n",
       "</table>\n",
       "<p>... (75679 rows omitted)</p"
      ],
      "text/plain": [
       "chr  | start    | end      | symbol        | refseqID  | peak_annotation | N1      | E5_1    | E7_2    | M1      | L5_1    | L7_1    | L14_1   | L21_2   | L28_1   | L35_1   | L60_1   | ML7_2   | ML14_1  | ML35_1\n",
       "chr1 | 9772732  | 9773228  | 1700034P13Rik | NR_040462 | intergenic      | 209.153 | 129.291 | 150.143 | 255.555 | 113.379 | 113.542 | 125.268 | 205.532 | 243.36  | 167.201 | 147.345 | 109.24  | 133.588 | 202.068\n",
       "chr1 | 9797805  | 9798616  | Sgk3          | NM_133220 | promoter        | 538.113 | 355.311 | 390.926 | 542.902 | 249.435 | 299.414 | 291.065 | 275.05  | 274.863 | 214.586 | 216.862 | 245.79  | 174.482 | 218.579\n",
       "chr1 | 9859046  | 9859750  | Sgk3          | NM_133220 | intron          | 178.694 | 702.002 | 671.84  | 666.4   | 231.992 | 432.299 | 257.905 | 384.616 | 224.458 | 286.34  | 163.213 | 294.473 | 196.293 | 366.395\n",
       "chr1 | 10089499 | 10089955 | Cspp1         | NM_026493 | intron          | 251.796 | 161.853 | 170.901 | 235.991 | 97.6808 | 117.747 | 127.11  | 161.705 | 191.38  | 150.955 | 148.101 | 116.364 | 124.046 | 224.083\n",
       "chr1 | 12875425 | 12875883 | Slco5a1       | NM_172841 | intron          | 185.801 | 131.206 | 143.916 | 176.076 | 125.59  | 203.534 | 198.034 | 281.095 | 353.621 | 326.278 | 272.777 | 118.739 | 140.404 | 283.052\n",
       "chr1 | 13293331 | 13293833 | Ncoa2         | NM_008678 | intron          | 305.607 | 203.035 | 282.989 | 289.792 | 172.686 | 264.089 | 183.297 | 315.854 | 367.009 | 373.663 | 334.738 | 212.543 | 164.94  | 247.671\n",
       "chr1 | 20933432 | 20933875 | Paqr8         | NM_028829 | intron          | 480.24  | 267.201 | 208.263 | 326.475 | 176.174 | 237.176 | 227.509 | 247.847 | 215.795 | 200.37  | 173.036 | 172.172 | 148.583 | 283.052\n",
       "chr1 | 23255935 | 23256632 | Mir30a        | NR_029533 | intergenic      | 681.271 | 398.408 | 455.965 | 627.272 | 378.513 | 555.934 | 233.036 | 205.532 | 165.39  | 158.401 | 281.845 | 298.035 | 184.025 | 158.038\n",
       "chr1 | 23762738 | 23763139 | B3gat2        | NM_172124 | promoter        | 102.546 | 168.557 | 152.219 | 397.394 | 231.992 | 300.255 | 136.321 | 144.326 | 129.162 | 111.693 | 151.879 | 163.86  | 95.4201 | 158.038\n",
       "chr1 | 33739113 | 33739764 | Rab23         | NM_008999 | exon            | 248.75  | 239.428 | 199.269 | 231.1   | 160.476 | 204.375 | 228.43  | 221.4   | 176.417 | 194.955 | 163.969 | 176.921 | 196.293 | 194.205\n",
       "... (75679 rows omitted)"
      ]
     },
     "execution_count": 46,
     "metadata": {},
     "output_type": "execute_result"
    }
   ],
   "source": [
    "table"
   ]
  },
  {
   "cell_type": "code",
   "execution_count": 48,
   "metadata": {},
   "outputs": [],
   "source": [
    "# remove underscore mouse labels from column labels\n",
    "table = table.relabeled('E5_1', 'E5')\n",
    "table = table.relabeled('E7_2', 'E7')\n",
    "table = table.relabeled('L5_1', 'L5')\n",
    "table = table.relabeled('L7_1', 'L7')\n",
    "table = table.relabeled('L14_1', 'L14')\n",
    "table = table.relabeled('L21_2', 'L21')\n",
    "table = table.relabeled('L28_1', 'L28')\n",
    "table = table.relabeled('L35_1', 'L35')\n",
    "table = table.relabeled('L60_1', 'L60')\n",
    "table = table.relabeled('ML7_2', 'ML7')\n",
    "table = table.relabeled('ML14_1', 'ML14')\n",
    "table = table.relabeled('ML35_1', 'ML35')"
   ]
  },
  {
   "cell_type": "code",
   "execution_count": 50,
   "metadata": {},
   "outputs": [],
   "source": [
    "# save table as csv\n",
    "saved_filename = 'dysfunctional_ATACseq_timeseries.csv'\n",
    "table.to_csv('dysfunctional_ATACseq_timeseries.csv')"
   ]
  },
  {
   "cell_type": "code",
   "execution_count": 51,
   "metadata": {
    "collapsed": true
   },
   "outputs": [],
   "source": [
    "# test that you can load the table in\n",
    "Table.read_table(saved_filename)"
   ]
  },
  {
   "cell_type": "code",
   "execution_count": null,
   "metadata": {
    "collapsed": true
   },
   "outputs": [],
   "source": []
  }
 ],
 "metadata": {
  "kernelspec": {
   "display_name": "Python 3",
   "language": "python",
   "name": "python3"
  },
  "language_info": {
   "codemirror_mode": {
    "name": "ipython",
    "version": 3
   },
   "file_extension": ".py",
   "mimetype": "text/x-python",
   "name": "python",
   "nbconvert_exporter": "python",
   "pygments_lexer": "ipython3",
   "version": "3.5.2"
  }
 },
 "nbformat": 4,
 "nbformat_minor": 2
}
