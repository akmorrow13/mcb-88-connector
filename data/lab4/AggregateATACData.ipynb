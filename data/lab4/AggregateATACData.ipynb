{
 "cells": [
  {
   "cell_type": "markdown",
   "metadata": {},
   "source": [
    "This notebook aggregates dysfunctional T Cell data for lab 4.\n",
    "\n",
    "This data was from the paper https://www.nature.com/articles/nature22367.\n",
    "The data can be accessed at https://www.ncbi.nlm.nih.gov/geo/query/acc.cgi?acc=GSE89309.\n",
    "\n",
    "Data was first downloaded, and all ATAC-seq files were used gunzipped and used.\n",
    "\n"
   ]
  },
  {
   "cell_type": "code",
   "execution_count": 7,
   "metadata": {
    "collapsed": true
   },
   "outputs": [],
   "source": [
    "# imports\n",
    "from datascience import Table\n",
    "import numpy as np\n",
    "import os\n",
    "from os import listdir\n",
    "from os.path import isfile, join"
   ]
  },
  {
   "cell_type": "code",
   "execution_count": 8,
   "metadata": {},
   "outputs": [
    {
     "data": {
      "text/plain": [
       "['GSM2365799_ATAC_N1_normalizedCounts.txt',\n",
       " 'GSM2365800_ATAC_N2_normalizedCounts.txt',\n",
       " 'GSM2365801_ATAC_N3_normalizedCounts.txt',\n",
       " 'GSM2365802_ATAC_E5_1_normalizedCounts.txt',\n",
       " 'GSM2365803_ATAC_E5_2_normalizedCounts.txt',\n",
       " 'GSM2365804_ATAC_E5_3_normalizedCounts.txt',\n",
       " 'GSM2365805_ATAC_E7_2_normalizedCounts.txt',\n",
       " 'GSM2365806_ATAC_E7_3_normalizedCounts.txt',\n",
       " 'GSM2365807_ATAC_M1_normalizedCounts.txt',\n",
       " 'GSM2365808_ATAC_M2_normalizedCounts.txt',\n",
       " 'GSM2365809_ATAC_M3_normalizedCounts.txt',\n",
       " 'GSM2365810_ATAC_L5_1_normalizedCounts.txt',\n",
       " 'GSM2365811_ATAC_L5_2_normalizedCounts.txt',\n",
       " 'GSM2365812_ATAC_L5_3_normalizedCounts.txt',\n",
       " 'GSM2365813_ATAC_L5_4_normalizedCounts.txt',\n",
       " 'GSM2365814_ATAC_L7_1_normalizedCounts.txt',\n",
       " 'GSM2365815_ATAC_L7_2_normalizedCounts.txt',\n",
       " 'GSM2365816_ATAC_L7_3_normalizedCounts.txt',\n",
       " 'GSM2365817_ATAC_L14_1_normalizedCounts.txt',\n",
       " 'GSM2365818_ATAC_L14_2_normalizedCounts.txt',\n",
       " 'GSM2365819_ATAC_L14_3_normalizedCounts.txt',\n",
       " 'GSM2365820_ATAC_L21_1_normalizedCounts.txt',\n",
       " 'GSM2365821_ATAC_L21_2_normalizedCounts.txt',\n",
       " 'GSM2365822_ATAC_L21_3_normalizedCounts.txt',\n",
       " 'GSM2365823_ATAC_L28_1_normalizedCounts.txt',\n",
       " 'GSM2365824_ATAC_L28_2_normalizedCounts.txt',\n",
       " 'GSM2365825_ATAC_L28_3_normalizedCounts.txt',\n",
       " 'GSM2365826_ATAC_L35_1_normalizedCounts.txt',\n",
       " 'GSM2365827_ATAC_L35_2_normalizedCounts.txt',\n",
       " 'GSM2365828_ATAC_L35_3_normalizedCounts.txt',\n",
       " 'GSM2365829_ATAC_L60_1_normalizedCounts.txt',\n",
       " 'GSM2365830_ATAC_L60_2_normalizedCounts.txt',\n",
       " 'GSM2365831_ATAC_L60_3_normalizedCounts.txt']"
      ]
     },
     "execution_count": 8,
     "metadata": {},
     "output_type": "execute_result"
    }
   ],
   "source": [
    "# get all txt file names\n",
    "cwd = os.getcwd()\n",
    "cwd = '/Users/akmorrow/Downloads/GSE89309_RAW'\n",
    "files = [f for f in listdir(cwd) if isfile(join(cwd, f))]\n",
    "txtFiles = [f for f in files if f.endswith('.txt')]\n",
    "txtFiles"
   ]
  },
  {
   "cell_type": "code",
   "execution_count": 9,
   "metadata": {},
   "outputs": [
    {
     "data": {
      "text/html": [
       "<table border=\"1\" class=\"dataframe\">\n",
       "    <thead>\n",
       "        <tr>\n",
       "            <th>chr</th> <th>start</th> <th>end</th> <th>symbol</th> <th>refseqID</th> <th>peak_annotation</th> <th>N1</th>\n",
       "        </tr>\n",
       "    </thead>\n",
       "    <tbody>\n",
       "        <tr>\n",
       "            <td>chr1</td> <td>9772732 </td> <td>9773228 </td> <td>1700034P13Rik</td> <td>NR_040462</td> <td>intergenic     </td> <td>209.153</td>\n",
       "        </tr>\n",
       "    </tbody>\n",
       "        <tr>\n",
       "            <td>chr1</td> <td>9797805 </td> <td>9798616 </td> <td>Sgk3         </td> <td>NM_133220</td> <td>promoter       </td> <td>538.113</td>\n",
       "        </tr>\n",
       "    </tbody>\n",
       "        <tr>\n",
       "            <td>chr1</td> <td>9859046 </td> <td>9859750 </td> <td>Sgk3         </td> <td>NM_133220</td> <td>intron         </td> <td>178.694</td>\n",
       "        </tr>\n",
       "    </tbody>\n",
       "        <tr>\n",
       "            <td>chr1</td> <td>10089499</td> <td>10089955</td> <td>Cspp1        </td> <td>NM_026493</td> <td>intron         </td> <td>251.796</td>\n",
       "        </tr>\n",
       "    </tbody>\n",
       "        <tr>\n",
       "            <td>chr1</td> <td>12875425</td> <td>12875883</td> <td>Slco5a1      </td> <td>NM_172841</td> <td>intron         </td> <td>185.801</td>\n",
       "        </tr>\n",
       "    </tbody>\n",
       "        <tr>\n",
       "            <td>chr1</td> <td>13293331</td> <td>13293833</td> <td>Ncoa2        </td> <td>NM_008678</td> <td>intron         </td> <td>305.607</td>\n",
       "        </tr>\n",
       "    </tbody>\n",
       "        <tr>\n",
       "            <td>chr1</td> <td>20933432</td> <td>20933875</td> <td>Paqr8        </td> <td>NM_028829</td> <td>intron         </td> <td>480.24 </td>\n",
       "        </tr>\n",
       "    </tbody>\n",
       "        <tr>\n",
       "            <td>chr1</td> <td>23255935</td> <td>23256632</td> <td>Mir30a       </td> <td>NR_029533</td> <td>intergenic     </td> <td>681.271</td>\n",
       "        </tr>\n",
       "    </tbody>\n",
       "        <tr>\n",
       "            <td>chr1</td> <td>23762738</td> <td>23763139</td> <td>B3gat2       </td> <td>NM_172124</td> <td>promoter       </td> <td>102.546</td>\n",
       "        </tr>\n",
       "    </tbody>\n",
       "        <tr>\n",
       "            <td>chr1</td> <td>33739113</td> <td>33739764</td> <td>Rab23        </td> <td>NM_008999</td> <td>exon           </td> <td>248.75 </td>\n",
       "        </tr>\n",
       "    </tbody>\n",
       "</table>\n",
       "<p>... (75679 rows omitted)</p"
      ],
      "text/plain": [
       "chr  | start    | end      | symbol        | refseqID  | peak_annotation | N1\n",
       "chr1 | 9772732  | 9773228  | 1700034P13Rik | NR_040462 | intergenic      | 209.153\n",
       "chr1 | 9797805  | 9798616  | Sgk3          | NM_133220 | promoter        | 538.113\n",
       "chr1 | 9859046  | 9859750  | Sgk3          | NM_133220 | intron          | 178.694\n",
       "chr1 | 10089499 | 10089955 | Cspp1         | NM_026493 | intron          | 251.796\n",
       "chr1 | 12875425 | 12875883 | Slco5a1       | NM_172841 | intron          | 185.801\n",
       "chr1 | 13293331 | 13293833 | Ncoa2         | NM_008678 | intron          | 305.607\n",
       "chr1 | 20933432 | 20933875 | Paqr8         | NM_028829 | intron          | 480.24\n",
       "chr1 | 23255935 | 23256632 | Mir30a        | NR_029533 | intergenic      | 681.271\n",
       "chr1 | 23762738 | 23763139 | B3gat2        | NM_172124 | promoter        | 102.546\n",
       "chr1 | 33739113 | 33739764 | Rab23         | NM_008999 | exon            | 248.75\n",
       "... (75679 rows omitted)"
      ]
     },
     "execution_count": 9,
     "metadata": {},
     "output_type": "execute_result"
    }
   ],
   "source": [
    "# load in initial data from 1 file\n",
    "table = Table.read_table(txtFiles[0])\n",
    "table"
   ]
  },
  {
   "cell_type": "code",
   "execution_count": 10,
   "metadata": {
    "collapsed": true
   },
   "outputs": [],
   "source": [
    "# get start and end string points for parsing column name\n",
    "end = len('_normalizedCounts.txt')\n",
    "start = len('GSM2365802_ATAC_')"
   ]
  },
  {
   "cell_type": "code",
   "execution_count": 22,
   "metadata": {},
   "outputs": [
    {
     "name": "stdout",
     "output_type": "stream",
     "text": [
      "GSM2365800_ATAC_N2_normalizedCounts.txt\n",
      "GSM2365801_ATAC_N3_normalizedCounts.txt\n",
      "GSM2365802_ATAC_E5_1_normalizedCounts.txt\n",
      "GSM2365803_ATAC_E5_2_normalizedCounts.txt\n",
      "GSM2365804_ATAC_E5_3_normalizedCounts.txt\n",
      "GSM2365805_ATAC_E7_2_normalizedCounts.txt\n",
      "GSM2365806_ATAC_E7_3_normalizedCounts.txt\n",
      "GSM2365807_ATAC_M1_normalizedCounts.txt\n",
      "GSM2365808_ATAC_M2_normalizedCounts.txt\n",
      "GSM2365809_ATAC_M3_normalizedCounts.txt\n",
      "GSM2365810_ATAC_L5_1_normalizedCounts.txt\n",
      "GSM2365811_ATAC_L5_2_normalizedCounts.txt\n",
      "GSM2365812_ATAC_L5_3_normalizedCounts.txt\n",
      "GSM2365813_ATAC_L5_4_normalizedCounts.txt\n",
      "GSM2365814_ATAC_L7_1_normalizedCounts.txt\n",
      "GSM2365815_ATAC_L7_2_normalizedCounts.txt\n",
      "GSM2365816_ATAC_L7_3_normalizedCounts.txt\n",
      "GSM2365817_ATAC_L14_1_normalizedCounts.txt\n",
      "GSM2365818_ATAC_L14_2_normalizedCounts.txt\n",
      "GSM2365819_ATAC_L14_3_normalizedCounts.txt\n",
      "GSM2365820_ATAC_L21_1_normalizedCounts.txt\n",
      "GSM2365821_ATAC_L21_2_normalizedCounts.txt\n",
      "GSM2365822_ATAC_L21_3_normalizedCounts.txt\n",
      "GSM2365823_ATAC_L28_1_normalizedCounts.txt\n",
      "GSM2365824_ATAC_L28_2_normalizedCounts.txt\n",
      "GSM2365825_ATAC_L28_3_normalizedCounts.txt\n",
      "GSM2365826_ATAC_L35_1_normalizedCounts.txt\n",
      "GSM2365827_ATAC_L35_2_normalizedCounts.txt\n",
      "GSM2365828_ATAC_L35_3_normalizedCounts.txt\n",
      "GSM2365829_ATAC_L60_1_normalizedCounts.txt\n",
      "GSM2365830_ATAC_L60_2_normalizedCounts.txt\n",
      "GSM2365831_ATAC_L60_3_normalizedCounts.txt\n"
     ]
    },
    {
     "data": {
      "text/html": [
       "<table border=\"1\" class=\"dataframe\">\n",
       "    <thead>\n",
       "        <tr>\n",
       "            <th>chr</th> <th>start</th> <th>end</th> <th>symbol</th> <th>refseqID</th> <th>peak_annotation</th> <th>N1</th> <th>N2</th> <th>N3</th> <th>E5_1</th> <th>E5_2</th> <th>E5_3</th> <th>E7_2</th> <th>E7_3</th> <th>M1</th> <th>M2</th> <th>M3</th> <th>L5_1</th> <th>L5_2</th> <th>L5_3</th> <th>L5_4</th> <th>L7_1</th> <th>L7_2</th> <th>L7_3</th> <th>L14_1</th> <th>L14_2</th> <th>L14_3</th> <th>L21_1</th> <th>L21_2</th> <th>L21_3</th> <th>L28_1</th> <th>L28_2</th> <th>L28_3</th> <th>L35_1</th> <th>L35_2</th> <th>L35_3</th> <th>L60_1</th> <th>L60_2</th> <th>L60_3</th>\n",
       "        </tr>\n",
       "    </thead>\n",
       "    <tbody>\n",
       "        <tr>\n",
       "            <td>chr1</td> <td>9772732 </td> <td>9773228 </td> <td>1700034P13Rik</td> <td>NR_040462</td> <td>intergenic     </td> <td>209.153</td> <td>221.576</td> <td>241.935</td> <td>129.291</td> <td>148.714</td> <td>132.882</td> <td>150.143</td> <td>189.593</td> <td>255.555</td> <td>270.364</td> <td>236.631</td> <td>113.379</td> <td>113.803</td> <td>123.402</td> <td>128.035</td> <td>113.542</td> <td>145.413</td> <td>153.614</td> <td>125.268</td> <td>124.401</td> <td>145.569</td> <td>205.532</td> <td>221.787</td> <td>193.068</td> <td>243.36 </td> <td>145.573</td> <td>197.799</td> <td>167.201</td> <td>180.65 </td> <td>159.028</td> <td>147.345</td> <td>180.696</td> <td>166.505</td>\n",
       "        </tr>\n",
       "    </tbody>\n",
       "        <tr>\n",
       "            <td>chr1</td> <td>9797805 </td> <td>9798616 </td> <td>Sgk3         </td> <td>NM_133220</td> <td>promoter       </td> <td>538.113</td> <td>596.551</td> <td>655.475</td> <td>355.311</td> <td>294.949</td> <td>347.62 </td> <td>390.926</td> <td>387.085</td> <td>542.902</td> <td>707.899</td> <td>495.03 </td> <td>249.435</td> <td>323.829</td> <td>393.837</td> <td>393.25 </td> <td>299.414</td> <td>284.931</td> <td>417.973</td> <td>291.065</td> <td>237.629</td> <td>237.223</td> <td>275.05 </td> <td>264.352</td> <td>234.588</td> <td>274.863</td> <td>255.656</td> <td>302.111</td> <td>214.586</td> <td>214.048</td> <td>170.021</td> <td>216.862</td> <td>155.424</td> <td>201.024</td>\n",
       "        </tr>\n",
       "    </tbody>\n",
       "        <tr>\n",
       "            <td>chr1</td> <td>9859046 </td> <td>9859750 </td> <td>Sgk3         </td> <td>NM_133220</td> <td>intron         </td> <td>178.694</td> <td>186.59 </td> <td>187.546</td> <td>702.002</td> <td>616.336</td> <td>559.168</td> <td>671.84 </td> <td>641.004</td> <td>666.4  </td> <td>769.815</td> <td>579.29 </td> <td>231.992</td> <td>248.886</td> <td>370.207</td> <td>397.823</td> <td>432.299</td> <td>350.76 </td> <td>405.469</td> <td>257.905</td> <td>290.518</td> <td>273.423</td> <td>384.616</td> <td>357.324</td> <td>311.4  </td> <td>224.458</td> <td>333.255</td> <td>311.951</td> <td>286.34 </td> <td>274.012</td> <td>367.89 </td> <td>163.213</td> <td>180.696</td> <td>226.406</td>\n",
       "        </tr>\n",
       "    </tbody>\n",
       "        <tr>\n",
       "            <td>chr1</td> <td>10089499</td> <td>10089955</td> <td>Cspp1        </td> <td>NM_026493</td> <td>intron         </td> <td>251.796</td> <td>204.532</td> <td>209.114</td> <td>161.853</td> <td>113.188</td> <td>126.504</td> <td>170.901</td> <td>202.007</td> <td>235.991</td> <td>212.576</td> <td>153.775</td> <td>97.6808</td> <td>111.027</td> <td>110.274</td> <td>121.938</td> <td>117.747</td> <td>114.955</td> <td>162.545</td> <td>127.11 </td> <td>108.013</td> <td>179.458</td> <td>161.705</td> <td>210.586</td> <td>167.118</td> <td>191.38 </td> <td>141.362</td> <td>184.022</td> <td>150.955</td> <td>193.554</td> <td>201.533</td> <td>148.101</td> <td>190.805</td> <td>191.887</td>\n",
       "        </tr>\n",
       "    </tbody>\n",
       "        <tr>\n",
       "            <td>chr1</td> <td>12875425</td> <td>12875883</td> <td>Slco5a1      </td> <td>NM_172841</td> <td>intron         </td> <td>185.801</td> <td>126.487</td> <td>137.847</td> <td>131.206</td> <td>115.666</td> <td>144.576</td> <td>143.916</td> <td>135.423</td> <td>176.076</td> <td>189.874</td> <td>126.391</td> <td>125.59 </td> <td>123.055</td> <td>149.658</td> <td>195.101</td> <td>203.534</td> <td>105.13 </td> <td>210.773</td> <td>198.034</td> <td>196.658</td> <td>200.253</td> <td>281.095</td> <td>228.508</td> <td>230.436</td> <td>353.621</td> <td>300.17 </td> <td>307.031</td> <td>326.278</td> <td>255.036</td> <td>312.926</td> <td>272.777</td> <td>295.685</td> <td>341.132</td>\n",
       "        </tr>\n",
       "    </tbody>\n",
       "        <tr>\n",
       "            <td>chr1</td> <td>13293331</td> <td>13293833</td> <td>Ncoa2        </td> <td>NM_008678</td> <td>intron         </td> <td>305.607</td> <td>357.93 </td> <td>292.572</td> <td>203.035</td> <td>280.904</td> <td>248.755</td> <td>282.989</td> <td>226.834</td> <td>289.792</td> <td>251.789</td> <td>415.685</td> <td>172.686</td> <td>222.979</td> <td>212.672</td> <td>285.03 </td> <td>264.089</td> <td>211.242</td> <td>235.78 </td> <td>183.297</td> <td>265.936</td> <td>284.206</td> <td>315.854</td> <td>262.112</td> <td>290.64 </td> <td>367.009</td> <td>259.866</td> <td>274.557</td> <td>373.663</td> <td>335.494</td> <td>375.218</td> <td>334.738</td> <td>341.175</td> <td>342.148</td>\n",
       "        </tr>\n",
       "    </tbody>\n",
       "        <tr>\n",
       "            <td>chr1</td> <td>20933432</td> <td>20933875</td> <td>Paqr8        </td> <td>NM_028829</td> <td>intron         </td> <td>480.24 </td> <td>470.961</td> <td>512.94 </td> <td>267.201</td> <td>195.806</td> <td>223.242</td> <td>208.263</td> <td>273.104</td> <td>326.475</td> <td>375.62 </td> <td>339.148</td> <td>176.174</td> <td>271.091</td> <td>241.553</td> <td>233.207</td> <td>237.176</td> <td>280.018</td> <td>344.738</td> <td>227.509</td> <td>188.464</td> <td>250.317</td> <td>247.847</td> <td>250.911</td> <td>247.044</td> <td>215.795</td> <td>192.494</td> <td>224.369</td> <td>200.37 </td> <td>239.096</td> <td>244.771</td> <td>173.036</td> <td>245.14 </td> <td>222.345</td>\n",
       "        </tr>\n",
       "    </tbody>\n",
       "        <tr>\n",
       "            <td>chr1</td> <td>23255935</td> <td>23256632</td> <td>Mir30a       </td> <td>NR_029533</td> <td>intergenic     </td> <td>681.271</td> <td>940.128</td> <td>810.201</td> <td>398.408</td> <td>372.61 </td> <td>407.151</td> <td>455.965</td> <td>457.054</td> <td>627.272</td> <td>1362.14</td> <td>870.691</td> <td>378.513</td> <td>401.548</td> <td>446.349</td> <td>495.374</td> <td>555.934</td> <td>445.082</td> <td>512.642</td> <td>233.036</td> <td>192.934</td> <td>331.958</td> <td>205.532</td> <td>254.271</td> <td>166.08 </td> <td>165.39 </td> <td>294.756</td> <td>137.77 </td> <td>158.401</td> <td>199.626</td> <td>240.374</td> <td>281.845</td> <td>235.032</td> <td>194.933</td>\n",
       "        </tr>\n",
       "    </tbody>\n",
       "        <tr>\n",
       "            <td>chr1</td> <td>23762738</td> <td>23763139</td> <td>B3gat2       </td> <td>NM_172124</td> <td>promoter       </td> <td>102.546</td> <td>82.5303</td> <td>58.1394</td> <td>168.557</td> <td>125.58 </td> <td>143.513</td> <td>152.219</td> <td>168.151</td> <td>397.394</td> <td>400.386</td> <td>193.097</td> <td>231.992</td> <td>215.577</td> <td>216.61 </td> <td>184.431</td> <td>300.255</td> <td>199.452</td> <td>185.766</td> <td>136.321</td> <td>113.228</td> <td>106.288</td> <td>144.326</td> <td>153.459</td> <td>107.952</td> <td>129.162</td> <td>153.393</td> <td>130.882</td> <td>111.693</td> <td>165.47 </td> <td>168.555</td> <td>151.879</td> <td>236.295</td> <td>138.077</td>\n",
       "        </tr>\n",
       "    </tbody>\n",
       "        <tr>\n",
       "            <td>chr1</td> <td>33739113</td> <td>33739764</td> <td>Rab23        </td> <td>NM_008999</td> <td>exon           </td> <td>248.75 </td> <td>276.297</td> <td>302.888</td> <td>239.428</td> <td>228.854</td> <td>186.035</td> <td>199.269</td> <td>268.59 </td> <td>231.1  </td> <td>284.811</td> <td>223.29 </td> <td>160.476</td> <td>183.195</td> <td>168.037</td> <td>245.4  </td> <td>204.375</td> <td>193.556</td> <td>207.2  </td> <td>228.43 </td> <td>238.374</td> <td>179.458</td> <td>221.4  </td> <td>229.628</td> <td>205.524</td> <td>176.417</td> <td>179.861</td> <td>266.684</td> <td>194.955</td> <td>233.783</td> <td>263.092</td> <td>163.969</td> <td>183.224</td> <td>159.398</td>\n",
       "        </tr>\n",
       "    </tbody>\n",
       "</table>\n",
       "<p>... (75679 rows omitted)</p"
      ],
      "text/plain": [
       "chr  | start    | end      | symbol        | refseqID  | peak_annotation | N1      | N2      | N3      | E5_1    | E5_2    | E5_3    | E7_2    | E7_3    | M1      | M2      | M3      | L5_1    | L5_2    | L5_3    | L5_4    | L7_1    | L7_2    | L7_3    | L14_1   | L14_2   | L14_3   | L21_1   | L21_2   | L21_3   | L28_1   | L28_2   | L28_3   | L35_1   | L35_2   | L35_3   | L60_1   | L60_2   | L60_3\n",
       "chr1 | 9772732  | 9773228  | 1700034P13Rik | NR_040462 | intergenic      | 209.153 | 221.576 | 241.935 | 129.291 | 148.714 | 132.882 | 150.143 | 189.593 | 255.555 | 270.364 | 236.631 | 113.379 | 113.803 | 123.402 | 128.035 | 113.542 | 145.413 | 153.614 | 125.268 | 124.401 | 145.569 | 205.532 | 221.787 | 193.068 | 243.36  | 145.573 | 197.799 | 167.201 | 180.65  | 159.028 | 147.345 | 180.696 | 166.505\n",
       "chr1 | 9797805  | 9798616  | Sgk3          | NM_133220 | promoter        | 538.113 | 596.551 | 655.475 | 355.311 | 294.949 | 347.62  | 390.926 | 387.085 | 542.902 | 707.899 | 495.03  | 249.435 | 323.829 | 393.837 | 393.25  | 299.414 | 284.931 | 417.973 | 291.065 | 237.629 | 237.223 | 275.05  | 264.352 | 234.588 | 274.863 | 255.656 | 302.111 | 214.586 | 214.048 | 170.021 | 216.862 | 155.424 | 201.024\n",
       "chr1 | 9859046  | 9859750  | Sgk3          | NM_133220 | intron          | 178.694 | 186.59  | 187.546 | 702.002 | 616.336 | 559.168 | 671.84  | 641.004 | 666.4   | 769.815 | 579.29  | 231.992 | 248.886 | 370.207 | 397.823 | 432.299 | 350.76  | 405.469 | 257.905 | 290.518 | 273.423 | 384.616 | 357.324 | 311.4   | 224.458 | 333.255 | 311.951 | 286.34  | 274.012 | 367.89  | 163.213 | 180.696 | 226.406\n",
       "chr1 | 10089499 | 10089955 | Cspp1         | NM_026493 | intron          | 251.796 | 204.532 | 209.114 | 161.853 | 113.188 | 126.504 | 170.901 | 202.007 | 235.991 | 212.576 | 153.775 | 97.6808 | 111.027 | 110.274 | 121.938 | 117.747 | 114.955 | 162.545 | 127.11  | 108.013 | 179.458 | 161.705 | 210.586 | 167.118 | 191.38  | 141.362 | 184.022 | 150.955 | 193.554 | 201.533 | 148.101 | 190.805 | 191.887\n",
       "chr1 | 12875425 | 12875883 | Slco5a1       | NM_172841 | intron          | 185.801 | 126.487 | 137.847 | 131.206 | 115.666 | 144.576 | 143.916 | 135.423 | 176.076 | 189.874 | 126.391 | 125.59  | 123.055 | 149.658 | 195.101 | 203.534 | 105.13  | 210.773 | 198.034 | 196.658 | 200.253 | 281.095 | 228.508 | 230.436 | 353.621 | 300.17  | 307.031 | 326.278 | 255.036 | 312.926 | 272.777 | 295.685 | 341.132\n",
       "chr1 | 13293331 | 13293833 | Ncoa2         | NM_008678 | intron          | 305.607 | 357.93  | 292.572 | 203.035 | 280.904 | 248.755 | 282.989 | 226.834 | 289.792 | 251.789 | 415.685 | 172.686 | 222.979 | 212.672 | 285.03  | 264.089 | 211.242 | 235.78  | 183.297 | 265.936 | 284.206 | 315.854 | 262.112 | 290.64  | 367.009 | 259.866 | 274.557 | 373.663 | 335.494 | 375.218 | 334.738 | 341.175 | 342.148\n",
       "chr1 | 20933432 | 20933875 | Paqr8         | NM_028829 | intron          | 480.24  | 470.961 | 512.94  | 267.201 | 195.806 | 223.242 | 208.263 | 273.104 | 326.475 | 375.62  | 339.148 | 176.174 | 271.091 | 241.553 | 233.207 | 237.176 | 280.018 | 344.738 | 227.509 | 188.464 | 250.317 | 247.847 | 250.911 | 247.044 | 215.795 | 192.494 | 224.369 | 200.37  | 239.096 | 244.771 | 173.036 | 245.14  | 222.345\n",
       "chr1 | 23255935 | 23256632 | Mir30a        | NR_029533 | intergenic      | 681.271 | 940.128 | 810.201 | 398.408 | 372.61  | 407.151 | 455.965 | 457.054 | 627.272 | 1362.14 | 870.691 | 378.513 | 401.548 | 446.349 | 495.374 | 555.934 | 445.082 | 512.642 | 233.036 | 192.934 | 331.958 | 205.532 | 254.271 | 166.08  | 165.39  | 294.756 | 137.77  | 158.401 | 199.626 | 240.374 | 281.845 | 235.032 | 194.933\n",
       "chr1 | 23762738 | 23763139 | B3gat2        | NM_172124 | promoter        | 102.546 | 82.5303 | 58.1394 | 168.557 | 125.58  | 143.513 | 152.219 | 168.151 | 397.394 | 400.386 | 193.097 | 231.992 | 215.577 | 216.61  | 184.431 | 300.255 | 199.452 | 185.766 | 136.321 | 113.228 | 106.288 | 144.326 | 153.459 | 107.952 | 129.162 | 153.393 | 130.882 | 111.693 | 165.47  | 168.555 | 151.879 | 236.295 | 138.077\n",
       "chr1 | 33739113 | 33739764 | Rab23         | NM_008999 | exon            | 248.75  | 276.297 | 302.888 | 239.428 | 228.854 | 186.035 | 199.269 | 268.59  | 231.1   | 284.811 | 223.29  | 160.476 | 183.195 | 168.037 | 245.4   | 204.375 | 193.556 | 207.2   | 228.43  | 238.374 | 179.458 | 221.4   | 229.628 | 205.524 | 176.417 | 179.861 | 266.684 | 194.955 | 233.783 | 263.092 | 163.969 | 183.224 | 159.398\n",
       "... (75679 rows omitted)"
      ]
     },
     "execution_count": 22,
     "metadata": {},
     "output_type": "execute_result"
    }
   ],
   "source": [
    "# for the rest of the files, iterate through and append them to the list\n",
    "# NOTE: if any of the files fail, the headers are most likely mislabeled and you will have to modify them by hand. \n",
    "# ie L21_3 header is written as L21_4.\n",
    "\n",
    "for i in range(1, len(txtFiles)):\n",
    "    file = txtFiles[i]\n",
    "    print(file)\n",
    "    # get column name for data column\n",
    "    columnName = file[start:len(file)-end]\n",
    "    \n",
    "    tmp = Table.read_table(cwd + '/' + file)\n",
    "    \n",
    "    # append to table\n",
    "    table = table.with_column(columnName, tmp[columnName])\n",
    "\n",
    "table"
   ]
  },
  {
   "cell_type": "code",
   "execution_count": 24,
   "metadata": {},
   "outputs": [
    {
     "data": {
      "text/html": [
       "<table border=\"1\" class=\"dataframe\">\n",
       "    <thead>\n",
       "        <tr>\n",
       "            <th>chr</th> <th>start</th> <th>end</th> <th>symbol</th> <th>refseqID</th> <th>peak_annotation</th> <th>N1</th> <th>N2</th> <th>N3</th> <th>E5_1</th> <th>E5_2</th> <th>E5_3</th> <th>E7_2</th> <th>E7_3</th> <th>M1</th> <th>M2</th> <th>M3</th> <th>L5_1</th> <th>L5_2</th> <th>L5_3</th> <th>L5_4</th> <th>L7_1</th> <th>L7_2</th> <th>L7_3</th> <th>L14_1</th> <th>L14_2</th> <th>L14_3</th> <th>L21_1</th> <th>L21_2</th> <th>L21_3</th> <th>L28_1</th> <th>L28_2</th> <th>L28_3</th> <th>L35_1</th> <th>L35_2</th> <th>L35_3</th> <th>L60_1</th> <th>L60_2</th> <th>L60_3</th>\n",
       "        </tr>\n",
       "    </thead>\n",
       "    <tbody>\n",
       "        <tr>\n",
       "            <td>chr1</td> <td>9772732 </td> <td>9773228 </td> <td>1700034P13Rik</td> <td>NR_040462</td> <td>intergenic     </td> <td>209.153</td> <td>221.576</td> <td>241.935</td> <td>129.291</td> <td>148.714</td> <td>132.882</td> <td>150.143</td> <td>189.593</td> <td>255.555</td> <td>270.364</td> <td>236.631</td> <td>113.379</td> <td>113.803</td> <td>123.402</td> <td>128.035</td> <td>113.542</td> <td>145.413</td> <td>153.614</td> <td>125.268</td> <td>124.401</td> <td>145.569</td> <td>205.532</td> <td>221.787</td> <td>193.068</td> <td>243.36 </td> <td>145.573</td> <td>197.799</td> <td>167.201</td> <td>180.65 </td> <td>159.028</td> <td>147.345</td> <td>180.696</td> <td>166.505</td>\n",
       "        </tr>\n",
       "    </tbody>\n",
       "        <tr>\n",
       "            <td>chr1</td> <td>9797805 </td> <td>9798616 </td> <td>Sgk3         </td> <td>NM_133220</td> <td>promoter       </td> <td>538.113</td> <td>596.551</td> <td>655.475</td> <td>355.311</td> <td>294.949</td> <td>347.62 </td> <td>390.926</td> <td>387.085</td> <td>542.902</td> <td>707.899</td> <td>495.03 </td> <td>249.435</td> <td>323.829</td> <td>393.837</td> <td>393.25 </td> <td>299.414</td> <td>284.931</td> <td>417.973</td> <td>291.065</td> <td>237.629</td> <td>237.223</td> <td>275.05 </td> <td>264.352</td> <td>234.588</td> <td>274.863</td> <td>255.656</td> <td>302.111</td> <td>214.586</td> <td>214.048</td> <td>170.021</td> <td>216.862</td> <td>155.424</td> <td>201.024</td>\n",
       "        </tr>\n",
       "    </tbody>\n",
       "        <tr>\n",
       "            <td>chr1</td> <td>9859046 </td> <td>9859750 </td> <td>Sgk3         </td> <td>NM_133220</td> <td>intron         </td> <td>178.694</td> <td>186.59 </td> <td>187.546</td> <td>702.002</td> <td>616.336</td> <td>559.168</td> <td>671.84 </td> <td>641.004</td> <td>666.4  </td> <td>769.815</td> <td>579.29 </td> <td>231.992</td> <td>248.886</td> <td>370.207</td> <td>397.823</td> <td>432.299</td> <td>350.76 </td> <td>405.469</td> <td>257.905</td> <td>290.518</td> <td>273.423</td> <td>384.616</td> <td>357.324</td> <td>311.4  </td> <td>224.458</td> <td>333.255</td> <td>311.951</td> <td>286.34 </td> <td>274.012</td> <td>367.89 </td> <td>163.213</td> <td>180.696</td> <td>226.406</td>\n",
       "        </tr>\n",
       "    </tbody>\n",
       "        <tr>\n",
       "            <td>chr1</td> <td>10089499</td> <td>10089955</td> <td>Cspp1        </td> <td>NM_026493</td> <td>intron         </td> <td>251.796</td> <td>204.532</td> <td>209.114</td> <td>161.853</td> <td>113.188</td> <td>126.504</td> <td>170.901</td> <td>202.007</td> <td>235.991</td> <td>212.576</td> <td>153.775</td> <td>97.6808</td> <td>111.027</td> <td>110.274</td> <td>121.938</td> <td>117.747</td> <td>114.955</td> <td>162.545</td> <td>127.11 </td> <td>108.013</td> <td>179.458</td> <td>161.705</td> <td>210.586</td> <td>167.118</td> <td>191.38 </td> <td>141.362</td> <td>184.022</td> <td>150.955</td> <td>193.554</td> <td>201.533</td> <td>148.101</td> <td>190.805</td> <td>191.887</td>\n",
       "        </tr>\n",
       "    </tbody>\n",
       "        <tr>\n",
       "            <td>chr1</td> <td>12875425</td> <td>12875883</td> <td>Slco5a1      </td> <td>NM_172841</td> <td>intron         </td> <td>185.801</td> <td>126.487</td> <td>137.847</td> <td>131.206</td> <td>115.666</td> <td>144.576</td> <td>143.916</td> <td>135.423</td> <td>176.076</td> <td>189.874</td> <td>126.391</td> <td>125.59 </td> <td>123.055</td> <td>149.658</td> <td>195.101</td> <td>203.534</td> <td>105.13 </td> <td>210.773</td> <td>198.034</td> <td>196.658</td> <td>200.253</td> <td>281.095</td> <td>228.508</td> <td>230.436</td> <td>353.621</td> <td>300.17 </td> <td>307.031</td> <td>326.278</td> <td>255.036</td> <td>312.926</td> <td>272.777</td> <td>295.685</td> <td>341.132</td>\n",
       "        </tr>\n",
       "    </tbody>\n",
       "        <tr>\n",
       "            <td>chr1</td> <td>13293331</td> <td>13293833</td> <td>Ncoa2        </td> <td>NM_008678</td> <td>intron         </td> <td>305.607</td> <td>357.93 </td> <td>292.572</td> <td>203.035</td> <td>280.904</td> <td>248.755</td> <td>282.989</td> <td>226.834</td> <td>289.792</td> <td>251.789</td> <td>415.685</td> <td>172.686</td> <td>222.979</td> <td>212.672</td> <td>285.03 </td> <td>264.089</td> <td>211.242</td> <td>235.78 </td> <td>183.297</td> <td>265.936</td> <td>284.206</td> <td>315.854</td> <td>262.112</td> <td>290.64 </td> <td>367.009</td> <td>259.866</td> <td>274.557</td> <td>373.663</td> <td>335.494</td> <td>375.218</td> <td>334.738</td> <td>341.175</td> <td>342.148</td>\n",
       "        </tr>\n",
       "    </tbody>\n",
       "        <tr>\n",
       "            <td>chr1</td> <td>20933432</td> <td>20933875</td> <td>Paqr8        </td> <td>NM_028829</td> <td>intron         </td> <td>480.24 </td> <td>470.961</td> <td>512.94 </td> <td>267.201</td> <td>195.806</td> <td>223.242</td> <td>208.263</td> <td>273.104</td> <td>326.475</td> <td>375.62 </td> <td>339.148</td> <td>176.174</td> <td>271.091</td> <td>241.553</td> <td>233.207</td> <td>237.176</td> <td>280.018</td> <td>344.738</td> <td>227.509</td> <td>188.464</td> <td>250.317</td> <td>247.847</td> <td>250.911</td> <td>247.044</td> <td>215.795</td> <td>192.494</td> <td>224.369</td> <td>200.37 </td> <td>239.096</td> <td>244.771</td> <td>173.036</td> <td>245.14 </td> <td>222.345</td>\n",
       "        </tr>\n",
       "    </tbody>\n",
       "        <tr>\n",
       "            <td>chr1</td> <td>23255935</td> <td>23256632</td> <td>Mir30a       </td> <td>NR_029533</td> <td>intergenic     </td> <td>681.271</td> <td>940.128</td> <td>810.201</td> <td>398.408</td> <td>372.61 </td> <td>407.151</td> <td>455.965</td> <td>457.054</td> <td>627.272</td> <td>1362.14</td> <td>870.691</td> <td>378.513</td> <td>401.548</td> <td>446.349</td> <td>495.374</td> <td>555.934</td> <td>445.082</td> <td>512.642</td> <td>233.036</td> <td>192.934</td> <td>331.958</td> <td>205.532</td> <td>254.271</td> <td>166.08 </td> <td>165.39 </td> <td>294.756</td> <td>137.77 </td> <td>158.401</td> <td>199.626</td> <td>240.374</td> <td>281.845</td> <td>235.032</td> <td>194.933</td>\n",
       "        </tr>\n",
       "    </tbody>\n",
       "        <tr>\n",
       "            <td>chr1</td> <td>23762738</td> <td>23763139</td> <td>B3gat2       </td> <td>NM_172124</td> <td>promoter       </td> <td>102.546</td> <td>82.5303</td> <td>58.1394</td> <td>168.557</td> <td>125.58 </td> <td>143.513</td> <td>152.219</td> <td>168.151</td> <td>397.394</td> <td>400.386</td> <td>193.097</td> <td>231.992</td> <td>215.577</td> <td>216.61 </td> <td>184.431</td> <td>300.255</td> <td>199.452</td> <td>185.766</td> <td>136.321</td> <td>113.228</td> <td>106.288</td> <td>144.326</td> <td>153.459</td> <td>107.952</td> <td>129.162</td> <td>153.393</td> <td>130.882</td> <td>111.693</td> <td>165.47 </td> <td>168.555</td> <td>151.879</td> <td>236.295</td> <td>138.077</td>\n",
       "        </tr>\n",
       "    </tbody>\n",
       "        <tr>\n",
       "            <td>chr1</td> <td>33739113</td> <td>33739764</td> <td>Rab23        </td> <td>NM_008999</td> <td>exon           </td> <td>248.75 </td> <td>276.297</td> <td>302.888</td> <td>239.428</td> <td>228.854</td> <td>186.035</td> <td>199.269</td> <td>268.59 </td> <td>231.1  </td> <td>284.811</td> <td>223.29 </td> <td>160.476</td> <td>183.195</td> <td>168.037</td> <td>245.4  </td> <td>204.375</td> <td>193.556</td> <td>207.2  </td> <td>228.43 </td> <td>238.374</td> <td>179.458</td> <td>221.4  </td> <td>229.628</td> <td>205.524</td> <td>176.417</td> <td>179.861</td> <td>266.684</td> <td>194.955</td> <td>233.783</td> <td>263.092</td> <td>163.969</td> <td>183.224</td> <td>159.398</td>\n",
       "        </tr>\n",
       "    </tbody>\n",
       "</table>\n",
       "<p>... (75679 rows omitted)</p"
      ],
      "text/plain": [
       "chr  | start    | end      | symbol        | refseqID  | peak_annotation | N1      | N2      | N3      | E5_1    | E5_2    | E5_3    | E7_2    | E7_3    | M1      | M2      | M3      | L5_1    | L5_2    | L5_3    | L5_4    | L7_1    | L7_2    | L7_3    | L14_1   | L14_2   | L14_3   | L21_1   | L21_2   | L21_3   | L28_1   | L28_2   | L28_3   | L35_1   | L35_2   | L35_3   | L60_1   | L60_2   | L60_3\n",
       "chr1 | 9772732  | 9773228  | 1700034P13Rik | NR_040462 | intergenic      | 209.153 | 221.576 | 241.935 | 129.291 | 148.714 | 132.882 | 150.143 | 189.593 | 255.555 | 270.364 | 236.631 | 113.379 | 113.803 | 123.402 | 128.035 | 113.542 | 145.413 | 153.614 | 125.268 | 124.401 | 145.569 | 205.532 | 221.787 | 193.068 | 243.36  | 145.573 | 197.799 | 167.201 | 180.65  | 159.028 | 147.345 | 180.696 | 166.505\n",
       "chr1 | 9797805  | 9798616  | Sgk3          | NM_133220 | promoter        | 538.113 | 596.551 | 655.475 | 355.311 | 294.949 | 347.62  | 390.926 | 387.085 | 542.902 | 707.899 | 495.03  | 249.435 | 323.829 | 393.837 | 393.25  | 299.414 | 284.931 | 417.973 | 291.065 | 237.629 | 237.223 | 275.05  | 264.352 | 234.588 | 274.863 | 255.656 | 302.111 | 214.586 | 214.048 | 170.021 | 216.862 | 155.424 | 201.024\n",
       "chr1 | 9859046  | 9859750  | Sgk3          | NM_133220 | intron          | 178.694 | 186.59  | 187.546 | 702.002 | 616.336 | 559.168 | 671.84  | 641.004 | 666.4   | 769.815 | 579.29  | 231.992 | 248.886 | 370.207 | 397.823 | 432.299 | 350.76  | 405.469 | 257.905 | 290.518 | 273.423 | 384.616 | 357.324 | 311.4   | 224.458 | 333.255 | 311.951 | 286.34  | 274.012 | 367.89  | 163.213 | 180.696 | 226.406\n",
       "chr1 | 10089499 | 10089955 | Cspp1         | NM_026493 | intron          | 251.796 | 204.532 | 209.114 | 161.853 | 113.188 | 126.504 | 170.901 | 202.007 | 235.991 | 212.576 | 153.775 | 97.6808 | 111.027 | 110.274 | 121.938 | 117.747 | 114.955 | 162.545 | 127.11  | 108.013 | 179.458 | 161.705 | 210.586 | 167.118 | 191.38  | 141.362 | 184.022 | 150.955 | 193.554 | 201.533 | 148.101 | 190.805 | 191.887\n",
       "chr1 | 12875425 | 12875883 | Slco5a1       | NM_172841 | intron          | 185.801 | 126.487 | 137.847 | 131.206 | 115.666 | 144.576 | 143.916 | 135.423 | 176.076 | 189.874 | 126.391 | 125.59  | 123.055 | 149.658 | 195.101 | 203.534 | 105.13  | 210.773 | 198.034 | 196.658 | 200.253 | 281.095 | 228.508 | 230.436 | 353.621 | 300.17  | 307.031 | 326.278 | 255.036 | 312.926 | 272.777 | 295.685 | 341.132\n",
       "chr1 | 13293331 | 13293833 | Ncoa2         | NM_008678 | intron          | 305.607 | 357.93  | 292.572 | 203.035 | 280.904 | 248.755 | 282.989 | 226.834 | 289.792 | 251.789 | 415.685 | 172.686 | 222.979 | 212.672 | 285.03  | 264.089 | 211.242 | 235.78  | 183.297 | 265.936 | 284.206 | 315.854 | 262.112 | 290.64  | 367.009 | 259.866 | 274.557 | 373.663 | 335.494 | 375.218 | 334.738 | 341.175 | 342.148\n",
       "chr1 | 20933432 | 20933875 | Paqr8         | NM_028829 | intron          | 480.24  | 470.961 | 512.94  | 267.201 | 195.806 | 223.242 | 208.263 | 273.104 | 326.475 | 375.62  | 339.148 | 176.174 | 271.091 | 241.553 | 233.207 | 237.176 | 280.018 | 344.738 | 227.509 | 188.464 | 250.317 | 247.847 | 250.911 | 247.044 | 215.795 | 192.494 | 224.369 | 200.37  | 239.096 | 244.771 | 173.036 | 245.14  | 222.345\n",
       "chr1 | 23255935 | 23256632 | Mir30a        | NR_029533 | intergenic      | 681.271 | 940.128 | 810.201 | 398.408 | 372.61  | 407.151 | 455.965 | 457.054 | 627.272 | 1362.14 | 870.691 | 378.513 | 401.548 | 446.349 | 495.374 | 555.934 | 445.082 | 512.642 | 233.036 | 192.934 | 331.958 | 205.532 | 254.271 | 166.08  | 165.39  | 294.756 | 137.77  | 158.401 | 199.626 | 240.374 | 281.845 | 235.032 | 194.933\n",
       "chr1 | 23762738 | 23763139 | B3gat2        | NM_172124 | promoter        | 102.546 | 82.5303 | 58.1394 | 168.557 | 125.58  | 143.513 | 152.219 | 168.151 | 397.394 | 400.386 | 193.097 | 231.992 | 215.577 | 216.61  | 184.431 | 300.255 | 199.452 | 185.766 | 136.321 | 113.228 | 106.288 | 144.326 | 153.459 | 107.952 | 129.162 | 153.393 | 130.882 | 111.693 | 165.47  | 168.555 | 151.879 | 236.295 | 138.077\n",
       "chr1 | 33739113 | 33739764 | Rab23         | NM_008999 | exon            | 248.75  | 276.297 | 302.888 | 239.428 | 228.854 | 186.035 | 199.269 | 268.59  | 231.1   | 284.811 | 223.29  | 160.476 | 183.195 | 168.037 | 245.4   | 204.375 | 193.556 | 207.2   | 228.43  | 238.374 | 179.458 | 221.4   | 229.628 | 205.524 | 176.417 | 179.861 | 266.684 | 194.955 | 233.783 | 263.092 | 163.969 | 183.224 | 159.398\n",
       "... (75679 rows omitted)"
      ]
     },
     "execution_count": 24,
     "metadata": {},
     "output_type": "execute_result"
    }
   ],
   "source": [
    "table"
   ]
  },
  {
   "cell_type": "code",
   "execution_count": 25,
   "metadata": {
    "collapsed": true
   },
   "outputs": [],
   "source": [
    "# save table as csv\n",
    "saved_filename = 'dysfunctional_ATACseq_timeseries.csv'\n",
    "table.to_csv('dysfunctional_ATACseq_timeseries.csv')"
   ]
  },
  {
   "cell_type": "code",
   "execution_count": 26,
   "metadata": {},
   "outputs": [
    {
     "data": {
      "text/html": [
       "<table border=\"1\" class=\"dataframe\">\n",
       "    <thead>\n",
       "        <tr>\n",
       "            <th>chr</th> <th>start</th> <th>end</th> <th>symbol</th> <th>refseqID</th> <th>peak_annotation</th> <th>N1</th> <th>N2</th> <th>N3</th> <th>E5_1</th> <th>E5_2</th> <th>E5_3</th> <th>E7_2</th> <th>E7_3</th> <th>M1</th> <th>M2</th> <th>M3</th> <th>L5_1</th> <th>L5_2</th> <th>L5_3</th> <th>L5_4</th> <th>L7_1</th> <th>L7_2</th> <th>L7_3</th> <th>L14_1</th> <th>L14_2</th> <th>L14_3</th> <th>L21_1</th> <th>L21_2</th> <th>L21_3</th> <th>L28_1</th> <th>L28_2</th> <th>L28_3</th> <th>L35_1</th> <th>L35_2</th> <th>L35_3</th> <th>L60_1</th> <th>L60_2</th> <th>L60_3</th>\n",
       "        </tr>\n",
       "    </thead>\n",
       "    <tbody>\n",
       "        <tr>\n",
       "            <td>chr1</td> <td>9772732 </td> <td>9773228 </td> <td>1700034P13Rik</td> <td>NR_040462</td> <td>intergenic     </td> <td>209.153</td> <td>221.576</td> <td>241.935</td> <td>129.291</td> <td>148.714</td> <td>132.882</td> <td>150.143</td> <td>189.593</td> <td>255.555</td> <td>270.364</td> <td>236.631</td> <td>113.379</td> <td>113.803</td> <td>123.402</td> <td>128.035</td> <td>113.542</td> <td>145.413</td> <td>153.614</td> <td>125.268</td> <td>124.401</td> <td>145.569</td> <td>205.532</td> <td>221.787</td> <td>193.068</td> <td>243.36 </td> <td>145.573</td> <td>197.799</td> <td>167.201</td> <td>180.65 </td> <td>159.028</td> <td>147.345</td> <td>180.696</td> <td>166.505</td>\n",
       "        </tr>\n",
       "    </tbody>\n",
       "        <tr>\n",
       "            <td>chr1</td> <td>9797805 </td> <td>9798616 </td> <td>Sgk3         </td> <td>NM_133220</td> <td>promoter       </td> <td>538.113</td> <td>596.551</td> <td>655.475</td> <td>355.311</td> <td>294.949</td> <td>347.62 </td> <td>390.926</td> <td>387.085</td> <td>542.902</td> <td>707.899</td> <td>495.03 </td> <td>249.435</td> <td>323.829</td> <td>393.837</td> <td>393.25 </td> <td>299.414</td> <td>284.931</td> <td>417.973</td> <td>291.065</td> <td>237.629</td> <td>237.223</td> <td>275.05 </td> <td>264.352</td> <td>234.588</td> <td>274.863</td> <td>255.656</td> <td>302.111</td> <td>214.586</td> <td>214.048</td> <td>170.021</td> <td>216.862</td> <td>155.424</td> <td>201.024</td>\n",
       "        </tr>\n",
       "    </tbody>\n",
       "        <tr>\n",
       "            <td>chr1</td> <td>9859046 </td> <td>9859750 </td> <td>Sgk3         </td> <td>NM_133220</td> <td>intron         </td> <td>178.694</td> <td>186.59 </td> <td>187.546</td> <td>702.002</td> <td>616.336</td> <td>559.168</td> <td>671.84 </td> <td>641.004</td> <td>666.4  </td> <td>769.815</td> <td>579.29 </td> <td>231.992</td> <td>248.886</td> <td>370.207</td> <td>397.823</td> <td>432.299</td> <td>350.76 </td> <td>405.469</td> <td>257.905</td> <td>290.518</td> <td>273.423</td> <td>384.616</td> <td>357.324</td> <td>311.4  </td> <td>224.458</td> <td>333.255</td> <td>311.951</td> <td>286.34 </td> <td>274.012</td> <td>367.89 </td> <td>163.213</td> <td>180.696</td> <td>226.406</td>\n",
       "        </tr>\n",
       "    </tbody>\n",
       "        <tr>\n",
       "            <td>chr1</td> <td>10089499</td> <td>10089955</td> <td>Cspp1        </td> <td>NM_026493</td> <td>intron         </td> <td>251.796</td> <td>204.532</td> <td>209.114</td> <td>161.853</td> <td>113.188</td> <td>126.504</td> <td>170.901</td> <td>202.007</td> <td>235.991</td> <td>212.576</td> <td>153.775</td> <td>97.6808</td> <td>111.027</td> <td>110.274</td> <td>121.938</td> <td>117.747</td> <td>114.955</td> <td>162.545</td> <td>127.11 </td> <td>108.013</td> <td>179.458</td> <td>161.705</td> <td>210.586</td> <td>167.118</td> <td>191.38 </td> <td>141.362</td> <td>184.022</td> <td>150.955</td> <td>193.554</td> <td>201.533</td> <td>148.101</td> <td>190.805</td> <td>191.887</td>\n",
       "        </tr>\n",
       "    </tbody>\n",
       "        <tr>\n",
       "            <td>chr1</td> <td>12875425</td> <td>12875883</td> <td>Slco5a1      </td> <td>NM_172841</td> <td>intron         </td> <td>185.801</td> <td>126.487</td> <td>137.847</td> <td>131.206</td> <td>115.666</td> <td>144.576</td> <td>143.916</td> <td>135.423</td> <td>176.076</td> <td>189.874</td> <td>126.391</td> <td>125.59 </td> <td>123.055</td> <td>149.658</td> <td>195.101</td> <td>203.534</td> <td>105.13 </td> <td>210.773</td> <td>198.034</td> <td>196.658</td> <td>200.253</td> <td>281.095</td> <td>228.508</td> <td>230.436</td> <td>353.621</td> <td>300.17 </td> <td>307.031</td> <td>326.278</td> <td>255.036</td> <td>312.926</td> <td>272.777</td> <td>295.685</td> <td>341.132</td>\n",
       "        </tr>\n",
       "    </tbody>\n",
       "        <tr>\n",
       "            <td>chr1</td> <td>13293331</td> <td>13293833</td> <td>Ncoa2        </td> <td>NM_008678</td> <td>intron         </td> <td>305.607</td> <td>357.93 </td> <td>292.572</td> <td>203.035</td> <td>280.904</td> <td>248.755</td> <td>282.989</td> <td>226.834</td> <td>289.792</td> <td>251.789</td> <td>415.685</td> <td>172.686</td> <td>222.979</td> <td>212.672</td> <td>285.03 </td> <td>264.089</td> <td>211.242</td> <td>235.78 </td> <td>183.297</td> <td>265.936</td> <td>284.206</td> <td>315.854</td> <td>262.112</td> <td>290.64 </td> <td>367.009</td> <td>259.866</td> <td>274.557</td> <td>373.663</td> <td>335.494</td> <td>375.218</td> <td>334.738</td> <td>341.175</td> <td>342.148</td>\n",
       "        </tr>\n",
       "    </tbody>\n",
       "        <tr>\n",
       "            <td>chr1</td> <td>20933432</td> <td>20933875</td> <td>Paqr8        </td> <td>NM_028829</td> <td>intron         </td> <td>480.24 </td> <td>470.961</td> <td>512.94 </td> <td>267.201</td> <td>195.806</td> <td>223.242</td> <td>208.263</td> <td>273.104</td> <td>326.475</td> <td>375.62 </td> <td>339.148</td> <td>176.174</td> <td>271.091</td> <td>241.553</td> <td>233.207</td> <td>237.176</td> <td>280.018</td> <td>344.738</td> <td>227.509</td> <td>188.464</td> <td>250.317</td> <td>247.847</td> <td>250.911</td> <td>247.044</td> <td>215.795</td> <td>192.494</td> <td>224.369</td> <td>200.37 </td> <td>239.096</td> <td>244.771</td> <td>173.036</td> <td>245.14 </td> <td>222.345</td>\n",
       "        </tr>\n",
       "    </tbody>\n",
       "        <tr>\n",
       "            <td>chr1</td> <td>23255935</td> <td>23256632</td> <td>Mir30a       </td> <td>NR_029533</td> <td>intergenic     </td> <td>681.271</td> <td>940.128</td> <td>810.201</td> <td>398.408</td> <td>372.61 </td> <td>407.151</td> <td>455.965</td> <td>457.054</td> <td>627.272</td> <td>1362.14</td> <td>870.691</td> <td>378.513</td> <td>401.548</td> <td>446.349</td> <td>495.374</td> <td>555.934</td> <td>445.082</td> <td>512.642</td> <td>233.036</td> <td>192.934</td> <td>331.958</td> <td>205.532</td> <td>254.271</td> <td>166.08 </td> <td>165.39 </td> <td>294.756</td> <td>137.77 </td> <td>158.401</td> <td>199.626</td> <td>240.374</td> <td>281.845</td> <td>235.032</td> <td>194.933</td>\n",
       "        </tr>\n",
       "    </tbody>\n",
       "        <tr>\n",
       "            <td>chr1</td> <td>23762738</td> <td>23763139</td> <td>B3gat2       </td> <td>NM_172124</td> <td>promoter       </td> <td>102.546</td> <td>82.5303</td> <td>58.1394</td> <td>168.557</td> <td>125.58 </td> <td>143.513</td> <td>152.219</td> <td>168.151</td> <td>397.394</td> <td>400.386</td> <td>193.097</td> <td>231.992</td> <td>215.577</td> <td>216.61 </td> <td>184.431</td> <td>300.255</td> <td>199.452</td> <td>185.766</td> <td>136.321</td> <td>113.228</td> <td>106.288</td> <td>144.326</td> <td>153.459</td> <td>107.952</td> <td>129.162</td> <td>153.393</td> <td>130.882</td> <td>111.693</td> <td>165.47 </td> <td>168.555</td> <td>151.879</td> <td>236.295</td> <td>138.077</td>\n",
       "        </tr>\n",
       "    </tbody>\n",
       "        <tr>\n",
       "            <td>chr1</td> <td>33739113</td> <td>33739764</td> <td>Rab23        </td> <td>NM_008999</td> <td>exon           </td> <td>248.75 </td> <td>276.297</td> <td>302.888</td> <td>239.428</td> <td>228.854</td> <td>186.035</td> <td>199.269</td> <td>268.59 </td> <td>231.1  </td> <td>284.811</td> <td>223.29 </td> <td>160.476</td> <td>183.195</td> <td>168.037</td> <td>245.4  </td> <td>204.375</td> <td>193.556</td> <td>207.2  </td> <td>228.43 </td> <td>238.374</td> <td>179.458</td> <td>221.4  </td> <td>229.628</td> <td>205.524</td> <td>176.417</td> <td>179.861</td> <td>266.684</td> <td>194.955</td> <td>233.783</td> <td>263.092</td> <td>163.969</td> <td>183.224</td> <td>159.398</td>\n",
       "        </tr>\n",
       "    </tbody>\n",
       "</table>\n",
       "<p>... (75679 rows omitted)</p"
      ],
      "text/plain": [
       "chr  | start    | end      | symbol        | refseqID  | peak_annotation | N1      | N2      | N3      | E5_1    | E5_2    | E5_3    | E7_2    | E7_3    | M1      | M2      | M3      | L5_1    | L5_2    | L5_3    | L5_4    | L7_1    | L7_2    | L7_3    | L14_1   | L14_2   | L14_3   | L21_1   | L21_2   | L21_3   | L28_1   | L28_2   | L28_3   | L35_1   | L35_2   | L35_3   | L60_1   | L60_2   | L60_3\n",
       "chr1 | 9772732  | 9773228  | 1700034P13Rik | NR_040462 | intergenic      | 209.153 | 221.576 | 241.935 | 129.291 | 148.714 | 132.882 | 150.143 | 189.593 | 255.555 | 270.364 | 236.631 | 113.379 | 113.803 | 123.402 | 128.035 | 113.542 | 145.413 | 153.614 | 125.268 | 124.401 | 145.569 | 205.532 | 221.787 | 193.068 | 243.36  | 145.573 | 197.799 | 167.201 | 180.65  | 159.028 | 147.345 | 180.696 | 166.505\n",
       "chr1 | 9797805  | 9798616  | Sgk3          | NM_133220 | promoter        | 538.113 | 596.551 | 655.475 | 355.311 | 294.949 | 347.62  | 390.926 | 387.085 | 542.902 | 707.899 | 495.03  | 249.435 | 323.829 | 393.837 | 393.25  | 299.414 | 284.931 | 417.973 | 291.065 | 237.629 | 237.223 | 275.05  | 264.352 | 234.588 | 274.863 | 255.656 | 302.111 | 214.586 | 214.048 | 170.021 | 216.862 | 155.424 | 201.024\n",
       "chr1 | 9859046  | 9859750  | Sgk3          | NM_133220 | intron          | 178.694 | 186.59  | 187.546 | 702.002 | 616.336 | 559.168 | 671.84  | 641.004 | 666.4   | 769.815 | 579.29  | 231.992 | 248.886 | 370.207 | 397.823 | 432.299 | 350.76  | 405.469 | 257.905 | 290.518 | 273.423 | 384.616 | 357.324 | 311.4   | 224.458 | 333.255 | 311.951 | 286.34  | 274.012 | 367.89  | 163.213 | 180.696 | 226.406\n",
       "chr1 | 10089499 | 10089955 | Cspp1         | NM_026493 | intron          | 251.796 | 204.532 | 209.114 | 161.853 | 113.188 | 126.504 | 170.901 | 202.007 | 235.991 | 212.576 | 153.775 | 97.6808 | 111.027 | 110.274 | 121.938 | 117.747 | 114.955 | 162.545 | 127.11  | 108.013 | 179.458 | 161.705 | 210.586 | 167.118 | 191.38  | 141.362 | 184.022 | 150.955 | 193.554 | 201.533 | 148.101 | 190.805 | 191.887\n",
       "chr1 | 12875425 | 12875883 | Slco5a1       | NM_172841 | intron          | 185.801 | 126.487 | 137.847 | 131.206 | 115.666 | 144.576 | 143.916 | 135.423 | 176.076 | 189.874 | 126.391 | 125.59  | 123.055 | 149.658 | 195.101 | 203.534 | 105.13  | 210.773 | 198.034 | 196.658 | 200.253 | 281.095 | 228.508 | 230.436 | 353.621 | 300.17  | 307.031 | 326.278 | 255.036 | 312.926 | 272.777 | 295.685 | 341.132\n",
       "chr1 | 13293331 | 13293833 | Ncoa2         | NM_008678 | intron          | 305.607 | 357.93  | 292.572 | 203.035 | 280.904 | 248.755 | 282.989 | 226.834 | 289.792 | 251.789 | 415.685 | 172.686 | 222.979 | 212.672 | 285.03  | 264.089 | 211.242 | 235.78  | 183.297 | 265.936 | 284.206 | 315.854 | 262.112 | 290.64  | 367.009 | 259.866 | 274.557 | 373.663 | 335.494 | 375.218 | 334.738 | 341.175 | 342.148\n",
       "chr1 | 20933432 | 20933875 | Paqr8         | NM_028829 | intron          | 480.24  | 470.961 | 512.94  | 267.201 | 195.806 | 223.242 | 208.263 | 273.104 | 326.475 | 375.62  | 339.148 | 176.174 | 271.091 | 241.553 | 233.207 | 237.176 | 280.018 | 344.738 | 227.509 | 188.464 | 250.317 | 247.847 | 250.911 | 247.044 | 215.795 | 192.494 | 224.369 | 200.37  | 239.096 | 244.771 | 173.036 | 245.14  | 222.345\n",
       "chr1 | 23255935 | 23256632 | Mir30a        | NR_029533 | intergenic      | 681.271 | 940.128 | 810.201 | 398.408 | 372.61  | 407.151 | 455.965 | 457.054 | 627.272 | 1362.14 | 870.691 | 378.513 | 401.548 | 446.349 | 495.374 | 555.934 | 445.082 | 512.642 | 233.036 | 192.934 | 331.958 | 205.532 | 254.271 | 166.08  | 165.39  | 294.756 | 137.77  | 158.401 | 199.626 | 240.374 | 281.845 | 235.032 | 194.933\n",
       "chr1 | 23762738 | 23763139 | B3gat2        | NM_172124 | promoter        | 102.546 | 82.5303 | 58.1394 | 168.557 | 125.58  | 143.513 | 152.219 | 168.151 | 397.394 | 400.386 | 193.097 | 231.992 | 215.577 | 216.61  | 184.431 | 300.255 | 199.452 | 185.766 | 136.321 | 113.228 | 106.288 | 144.326 | 153.459 | 107.952 | 129.162 | 153.393 | 130.882 | 111.693 | 165.47  | 168.555 | 151.879 | 236.295 | 138.077\n",
       "chr1 | 33739113 | 33739764 | Rab23         | NM_008999 | exon            | 248.75  | 276.297 | 302.888 | 239.428 | 228.854 | 186.035 | 199.269 | 268.59  | 231.1   | 284.811 | 223.29  | 160.476 | 183.195 | 168.037 | 245.4   | 204.375 | 193.556 | 207.2   | 228.43  | 238.374 | 179.458 | 221.4   | 229.628 | 205.524 | 176.417 | 179.861 | 266.684 | 194.955 | 233.783 | 263.092 | 163.969 | 183.224 | 159.398\n",
       "... (75679 rows omitted)"
      ]
     },
     "execution_count": 26,
     "metadata": {},
     "output_type": "execute_result"
    }
   ],
   "source": [
    "# test that you can load the table in\n",
    "Table.read_table(saved_filename)"
   ]
  },
  {
   "cell_type": "code",
   "execution_count": null,
   "metadata": {
    "collapsed": true
   },
   "outputs": [],
   "source": []
  }
 ],
 "metadata": {
  "kernelspec": {
   "display_name": "Python 3",
   "language": "python",
   "name": "python3"
  },
  "language_info": {
   "codemirror_mode": {
    "name": "ipython",
    "version": 3
   },
   "file_extension": ".py",
   "mimetype": "text/x-python",
   "name": "python",
   "nbconvert_exporter": "python",
   "pygments_lexer": "ipython3",
   "version": "3.5.2"
  }
 },
 "nbformat": 4,
 "nbformat_minor": 2
}
