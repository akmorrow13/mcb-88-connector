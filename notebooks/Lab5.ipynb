{
 "cells": [
  {
   "cell_type": "markdown",
   "metadata": {},
   "source": [
    "# How Cells Divide\n"
   ]
  },
  {
   "cell_type": "code",
   "execution_count": 1,
   "metadata": {},
   "outputs": [],
   "source": [
    "# imports\n",
    "from datascience import Table\n",
    "import matplotlib\n",
    "matplotlib.use('Agg')\n",
    "from datascience import Table\n",
    "%matplotlib inline\n",
    "import matplotlib.pyplot as plt\n",
    "import numpy as np\n",
    "plt.style.use('fivethirtyeight')"
   ]
  },
  {
   "cell_type": "markdown",
   "metadata": {},
   "source": [
    "In this lab, we will be looking and RNA-seq data from three phases of cell division: G1, G2 and M phases.\n",
    "\n",
    "The data in this lab is from \"Regulation of mRNA translation during mitosis by Tanenbaum et al\". This paper can be found at https://elifesciences.org/articles/07957. Data for this lab was taken from GEO and can be found at https://www.ncbi.nlm.nih.gov/geo/query/acc.cgi?acc=GSE67902.\n",
    "\n",
    "\n",
    "First, let's load in expression data for multiple genes during different phases in the cell division process."
   ]
  },
  {
   "cell_type": "code",
   "execution_count": 2,
   "metadata": {},
   "outputs": [
    {
     "data": {
      "text/html": [
       "<table border=\"1\" class=\"dataframe\">\n",
       "    <thead>\n",
       "        <tr>\n",
       "            <th>Gene name</th> <th>UCSC ID</th> <th>G2 mRNA RPKM</th> <th>M mRNA RPKM</th> <th>G1 mRNA RPKM</th> <th>G2 mRNA Read Count</th> <th>M mRNA Read Count</th> <th>G1 mRNA Read Count</th>\n",
       "        </tr>\n",
       "    </thead>\n",
       "    <tbody>\n",
       "        <tr>\n",
       "            <td>SERPINB2 </td> <td>uc002ljo.2</td> <td>3.6         </td> <td>5          </td> <td>651.6       </td> <td>97                </td> <td>214              </td> <td>23231             </td>\n",
       "        </tr>\n",
       "    </tbody>\n",
       "        <tr>\n",
       "            <td>TNFAIP3  </td> <td>uc003qhr.2</td> <td>2.8         </td> <td>1          </td> <td>80.6        </td> <td>144               </td> <td>87               </td> <td>5518              </td>\n",
       "        </tr>\n",
       "    </tbody>\n",
       "        <tr>\n",
       "            <td>RRAD     </td> <td>uc002eqo.2</td> <td>5.9         </td> <td>2.8        </td> <td>134.2       </td> <td>122               </td> <td>87               </td> <td>3534              </td>\n",
       "        </tr>\n",
       "    </tbody>\n",
       "        <tr>\n",
       "            <td>XIRP1    </td> <td>uc003cjk.1</td> <td>0           </td> <td>0.1        </td> <td>3.1         </td> <td>5                 </td> <td>13               </td> <td>491               </td>\n",
       "        </tr>\n",
       "    </tbody>\n",
       "        <tr>\n",
       "            <td>IL1B     </td> <td>uc002tii.1</td> <td>2.6         </td> <td>1.6        </td> <td>70.1        </td> <td>49                </td> <td>44               </td> <td>1609              </td>\n",
       "        </tr>\n",
       "    </tbody>\n",
       "        <tr>\n",
       "            <td>IL6      </td> <td>uc003svj.3</td> <td>2.3         </td> <td>1.1        </td> <td>27.5        </td> <td>31                </td> <td>27               </td> <td>496               </td>\n",
       "        </tr>\n",
       "    </tbody>\n",
       "        <tr>\n",
       "            <td>LIF      </td> <td>uc003agz.2</td> <td>21.4        </td> <td>9.1        </td> <td>174.2       </td> <td>282               </td> <td>206              </td> <td>2986              </td>\n",
       "        </tr>\n",
       "    </tbody>\n",
       "        <tr>\n",
       "            <td>JUN      </td> <td>uc001cze.2</td> <td>99.2        </td> <td>30.8       </td> <td>491.4       </td> <td>2078              </td> <td>1077             </td> <td>13954             </td>\n",
       "        </tr>\n",
       "    </tbody>\n",
       "        <tr>\n",
       "            <td>BTG2     </td> <td>uc001gzq.2</td> <td>11.1        </td> <td>2.7        </td> <td>39.8        </td> <td>112               </td> <td>48               </td> <td>529               </td>\n",
       "        </tr>\n",
       "    </tbody>\n",
       "        <tr>\n",
       "            <td>SSTR1    </td> <td>uc001wul.1</td> <td>1.4         </td> <td>0.5        </td> <td>7.3         </td> <td>33                </td> <td>22               </td> <td>244               </td>\n",
       "        </tr>\n",
       "    </tbody>\n",
       "</table>\n",
       "<p>... (9771 rows omitted)</p>"
      ],
      "text/plain": [
       "Gene name | UCSC ID    | G2 mRNA RPKM | M mRNA RPKM | G1 mRNA RPKM | G2 mRNA Read Count | M mRNA Read Count | G1 mRNA Read Count\n",
       "SERPINB2  | uc002ljo.2 | 3.6          | 5           | 651.6        | 97                 | 214               | 23231\n",
       "TNFAIP3   | uc003qhr.2 | 2.8          | 1           | 80.6         | 144                | 87                | 5518\n",
       "RRAD      | uc002eqo.2 | 5.9          | 2.8         | 134.2        | 122                | 87                | 3534\n",
       "XIRP1     | uc003cjk.1 | 0            | 0.1         | 3.1          | 5                  | 13                | 491\n",
       "IL1B      | uc002tii.1 | 2.6          | 1.6         | 70.1         | 49                 | 44                | 1609\n",
       "IL6       | uc003svj.3 | 2.3          | 1.1         | 27.5         | 31                 | 27                | 496\n",
       "LIF       | uc003agz.2 | 21.4         | 9.1         | 174.2        | 282                | 206               | 2986\n",
       "JUN       | uc001cze.2 | 99.2         | 30.8        | 491.4        | 2078               | 1077              | 13954\n",
       "BTG2      | uc001gzq.2 | 11.1         | 2.7         | 39.8         | 112                | 48                | 529\n",
       "SSTR1     | uc001wul.1 | 1.4          | 0.5         | 7.3          | 33                 | 22                | 244\n",
       "... (9771 rows omitted)"
      ]
     },
     "execution_count": 2,
     "metadata": {},
     "output_type": "execute_result"
    }
   ],
   "source": [
    "# Read in csv file into a table\n",
    "table = Table.read_table('https://raw.githubusercontent.com/data-8/mcb-88-connector/gh-pages/data/lab5/GSE67902_Supplemental_table_S1_mRNA_analysis.csv')\n",
    "\n",
    "table"
   ]
  },
  {
   "cell_type": "markdown",
   "metadata": {},
   "source": [
    "This table contains gene expression quantifications for about 9800 genes in the G2, M and G1 phases of cell division."
   ]
  },
  {
   "cell_type": "markdown",
   "metadata": {
    "collapsed": true
   },
   "source": [
    "<h2 style=\"color:red\">** Question 1**</h2> \n",
    "What does M, G1 and G2 stand for? Breifly describe each of these three phases."
   ]
  },
  {
   "cell_type": "markdown",
   "metadata": {},
   "source": [
    "\n",
    "## <span style=\"color:red\">Student Answer</span>\n",
    "\n",
    "stands for M\n"
   ]
  },
  {
   "cell_type": "markdown",
   "metadata": {},
   "source": [
    "<h2 style=\"color:red\">** Question 2**</h2> \n",
    "Name and explain the 4 basic phases of mitosis. Here is a reference describing the 4 phases: https://www.khanacademy.org/science/biology/cellular-molecular-biology/mitosis/a/phases-of-mitosis"
   ]
  },
  {
   "cell_type": "markdown",
   "metadata": {},
   "source": [
    "---\n",
    "## <span style=\"color:red\">Student Answer</span>\n",
    "\n",
    "*Double-click and add your answer between the lines*\n",
    "\n",
    "---"
   ]
  },
  {
   "cell_type": "markdown",
   "metadata": {},
   "source": [
    "## Looking at the data\n",
    "\n",
    "Notice that the table has 6 columns with numerical data. The first 3 numeric columns are RPKM values. The next three columns are total read counts."
   ]
  },
  {
   "cell_type": "markdown",
   "metadata": {},
   "source": [
    "<h2 style=\"color:red\">** Question 3**</h2> \n",
    "\n",
    "What does RPKM stand for? How might RPKM values differ from the total read counts that are also found in the data table? (Hint: If you are unsure of the relationship between RPKM and total read counts, you may want to look up the definition of RPKM)"
   ]
  },
  {
   "cell_type": "markdown",
   "metadata": {},
   "source": [
    "---\n",
    "## <span style=\"color:red\">Student Answer</span>\n",
    "\n",
    "*Double-click and add your answer between the lines*\n",
    "\n",
    "---"
   ]
  },
  {
   "cell_type": "markdown",
   "metadata": {},
   "source": [
    "<h2 style=\"color:red\">** Question 4**</h2> \n",
    "\n",
    "Why might we prefer using RPKM values, instead of total read counts, when comparing gene expression values from RNA-seq data?"
   ]
  },
  {
   "cell_type": "markdown",
   "metadata": {},
   "source": [
    "---\n",
    "## <span style=\"color:red\">Student Answer</span>\n",
    "\n",
    "*Double-click and add your answer between the lines*\n",
    "\n",
    "---"
   ]
  },
  {
   "cell_type": "markdown",
   "metadata": {},
   "source": [
    "## Genes Upregulated in the G1 Checkpoint\n",
    "\n",
    "Next, we will find all genes that are up-regulated in the G1 checkpoint. To do this, we will calculate the ratio of RPKM in G1 compared to the M phase, and filter by genes where the fraction G1/M > 2. In this filter, we are searching for genes that are overexpressed in G1 phase, relative to M phase."
   ]
  },
  {
   "cell_type": "code",
   "execution_count": null,
   "metadata": {},
   "outputs": [],
   "source": [
    "# append a column with the ratio G1 RPKM/M RPKM\n",
    "table.append_column('G1/M', table['G1 mRNA RPKM']/table['M mRNA RPKM'])\n",
    "\n",
    "# now, filter the table by sites where this ratio is > 2\n",
    "filteredG1 = table.where(table['G1/M'] > 2)\n",
    "\n",
    "filteredG1"
   ]
  },
  {
   "cell_type": "markdown",
   "metadata": {},
   "source": [
    "<h2 style=\"color:red\">** Question 5**</h2> \n",
    "\n",
    "Why might we be filtering for genes a ratio of G1/M > 2, instead of 1, to discover genes upregulated in G1 phase?"
   ]
  },
  {
   "cell_type": "markdown",
   "metadata": {},
   "source": [
    "---\n",
    "## <span style=\"color:red\">Student Answer</span>\n",
    "\n",
    "*Double-click and add your answer between the lines*\n",
    "\n",
    "---"
   ]
  },
  {
   "cell_type": "markdown",
   "metadata": {},
   "source": [
    "<h2 style=\"color:red\">** Question 6**</h2> \n",
    "\n",
    "For how many genes is G1 expression greater than in the M phase? (Hint: Count the rows in the filtered table we produced above)"
   ]
  },
  {
   "cell_type": "code",
   "execution_count": null,
   "metadata": {},
   "outputs": [],
   "source": [
    "# YOUR CODE HERE\n",
    "raise NotImplementedError()"
   ]
  },
  {
   "cell_type": "markdown",
   "metadata": {},
   "source": [
    "<h2 style=\"color:red\">** Question 7**</h2> \n",
    "\n",
    "Run a similar comparison analysis to the one above for G2 phase: find all of the genes that are up-regulated in G2 phase, compared to M phase. Print the number of genes that are up-regulated in G2 phase, relative to M phase."
   ]
  },
  {
   "cell_type": "code",
   "execution_count": null,
   "metadata": {},
   "outputs": [],
   "source": [
    "# YOUR CODE HERE\n",
    "raise NotImplementedError()"
   ]
  },
  {
   "cell_type": "markdown",
   "metadata": {},
   "source": [
    "## Finding similarities in gene expression in the G1 and G2 Phases\n",
    "\n",
    "Next, we will find the intersection of genes that are up-regulated in both the G1 and G2 phases, relative to the M phase. To do this, we will use the intersect() function defined below. This function takes in 2 parameters a and b, which are both lists."
   ]
  },
  {
   "cell_type": "code",
   "execution_count": null,
   "metadata": {},
   "outputs": [],
   "source": [
    "def intersect(a, b):\n",
    "    \"\"\" return the intersection of two lists \"\"\"\n",
    "    return list(set(a) & set(b))"
   ]
  },
  {
   "cell_type": "markdown",
   "metadata": {},
   "source": [
    "As an example, say we have two lists, geneList1 and geneList2. We can use this function to calculate the intersection of the two lists:"
   ]
  },
  {
   "cell_type": "code",
   "execution_count": null,
   "metadata": {},
   "outputs": [],
   "source": [
    "geneList1 = [\"TP53\", \"TRIM52\", \"RRAD\"]\n",
    "geneList2 = [\"TP53\", \"TRIM52\", \"DUSP5\"]\n",
    "\n",
    "intersect(geneList1, geneList2)"
   ]
  },
  {
   "cell_type": "markdown",
   "metadata": {},
   "source": [
    "This means that there are two genes that appear in both lists: TRIM52 and TP53."
   ]
  },
  {
   "cell_type": "markdown",
   "metadata": {},
   "source": [
    "<h2 style=\"color:red\">** Question 8**</h2> \n",
    "\n",
    "Using the intersect() function, find the intersection of genes that are up-regulated in both G1 and G2 phases, relative to the M phase."
   ]
  },
  {
   "cell_type": "code",
   "execution_count": null,
   "metadata": {},
   "outputs": [],
   "source": [
    "# YOUR CODE HERE\n",
    "raise NotImplementedError()"
   ]
  },
  {
   "cell_type": "markdown",
   "metadata": {},
   "source": [
    "<h2 style=\"color:red\">** Question 9**</h2> \n",
    "\n",
    "Notice that the gene CDKN1A is in this intersecting list you just produced above. Go to genecards (http://www.genecards.org/) and search for gene CDKN1A. Give a short description of CDKN1A's role in cell division checkpointing, and any iteractions it may have with p53 gene.\n"
   ]
  },
  {
   "cell_type": "markdown",
   "metadata": {},
   "source": [
    "---\n",
    "## <span style=\"color:red\">Student Answer</span>\n",
    "\n",
    "*Double-click and add your answer between the lines*\n",
    "\n",
    "---"
   ]
  },
  {
   "cell_type": "markdown",
   "metadata": {},
   "source": [
    "<h2 style=\"color:red\">** Question 10**</h2> \n",
    "Now, on genecards (http://www.genecards.org/) search for TP53 and navigate to the section called 'Function'. Read this section. According to this paragraph, is p53 important in G1, G2, or both stages?"
   ]
  },
  {
   "cell_type": "markdown",
   "metadata": {},
   "source": [
    "---\n",
    "## <span style=\"color:red\">Student Answer</span>\n",
    "\n",
    "*Double-click and add your answer between the lines*\n",
    "\n",
    "---"
   ]
  },
  {
   "cell_type": "markdown",
   "metadata": {},
   "source": [
    "<h2 style=\"color:red\">** Question 11**</h2> \n",
    "Now, filter the original data table for the TP53 gene, and observe the expression in the G1, G2 and M phases. Does this data for TP53 support or contradict TP53's role in G1 and G2 described in the problem above? Explain."
   ]
  },
  {
   "cell_type": "code",
   "execution_count": null,
   "metadata": {},
   "outputs": [],
   "source": [
    "# YOUR CODE HERE\n",
    "raise NotImplementedError()"
   ]
  },
  {
   "cell_type": "markdown",
   "metadata": {},
   "source": [
    "** Explanation here:**\n",
    "\n",
    "---\n",
    "## <span style=\"color:red\">Student Answer</span>\n",
    "\n",
    "*Double-click and add your answer between the lines*\n",
    "\n",
    "---"
   ]
  },
  {
   "cell_type": "markdown",
   "metadata": {},
   "source": [
    "<h2 style=\"color:red\">** Question 12**</h2> \n",
    "Given what you know about G1 and G2 phases, how might you expect the RNA expression of checkpoint genes to change in cancer cells?"
   ]
  },
  {
   "cell_type": "markdown",
   "metadata": {},
   "source": [
    "---\n",
    "## <span style=\"color:red\">Student Answer</span>\n",
    "\n",
    "*Double-click and add your answer between the lines*\n",
    "\n",
    "---"
   ]
  },
  {
   "cell_type": "code",
   "execution_count": null,
   "metadata": {},
   "outputs": [],
   "source": []
  }
 ],
 "metadata": {
  "kernelspec": {
   "display_name": "Python 3",
   "language": "python",
   "name": "python3"
  },
  "language_info": {
   "codemirror_mode": {
    "name": "ipython",
    "version": 3
   },
   "file_extension": ".py",
   "mimetype": "text/x-python",
   "name": "python",
   "nbconvert_exporter": "python",
   "pygments_lexer": "ipython3",
   "version": "3.6.1"
  }
 },
 "nbformat": 4,
 "nbformat_minor": 2
}
