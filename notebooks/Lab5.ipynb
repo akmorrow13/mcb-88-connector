{
 "cells": [
  {
   "cell_type": "markdown",
   "metadata": {},
   "source": [
    "# How Cells Divide\n"
   ]
  },
  {
   "cell_type": "code",
   "execution_count": null,
   "metadata": {},
   "outputs": [],
   "source": [
    "# imports\n",
    "from datascience import Table\n",
    "import matplotlib\n",
    "matplotlib.use('Agg')\n",
    "from datascience import Table\n",
    "%matplotlib inline\n",
    "import matplotlib.pyplot as plt\n",
    "import numpy as np\n",
    "plt.style.use('fivethirtyeight')"
   ]
  },
  {
   "cell_type": "markdown",
   "metadata": {},
   "source": [
    "In this lab, we will be looking and RNA-seq data from three phases of cell division: G1, G2 and M phases.\n",
    "\n",
    "The data in this lab is from Regulation of mRNA translation during mitosis by Tanenbaum et al. This paper can be found at https://elifesciences.org/articles/07957. Data for this lab was taken from GEO and can be found at https://www.ncbi.nlm.nih.gov/geo/query/acc.cgi?acc=GSE67902."
   ]
  },
  {
   "cell_type": "code",
   "execution_count": null,
   "metadata": {},
   "outputs": [],
   "source": [
    "# Read in csv file into a table\n",
    "table = Table.read_table('https://raw.githubusercontent.com/data-8/mcb-88-connector/gh-pages/data/lab5/GSE67902_Supplemental_table_S1_mRNA_analysis.csv')"
   ]
  },
  {
   "cell_type": "code",
   "execution_count": null,
   "metadata": {},
   "outputs": [],
   "source": [
    "table"
   ]
  },
  {
   "cell_type": "markdown",
   "metadata": {
    "collapsed": true
   },
   "source": [
    "<h2 style=\"color:red\">** Question 1**</h2> \n",
    "What does M, G1 and G2 stand for? Breifly describe each of these three phases."
   ]
  },
  {
   "cell_type": "markdown",
   "metadata": {},
   "source": [
    "**Answer here:**\n"
   ]
  },
  {
   "cell_type": "markdown",
   "metadata": {},
   "source": [
    "<h2 style=\"color:red\">** Question 2**</h2> \n",
    "Name and explain the 4 basic phases of mitosis."
   ]
  },
  {
   "cell_type": "markdown",
   "metadata": {},
   "source": [
    "** Answer here:**"
   ]
  },
  {
   "cell_type": "markdown",
   "metadata": {},
   "source": [
    "## Looking at the data\n",
    "\n",
    "Notice that the table has 6 numerical columns. The first 3 numeric columns are RPKM values. The next three columns are total read counts."
   ]
  },
  {
   "cell_type": "markdown",
   "metadata": {},
   "source": [
    "<h2 style=\"color:red\">** Question 3**</h2> \n",
    "\n",
    "What does RPKM stand for? How are these values different from the total read counts?"
   ]
  },
  {
   "cell_type": "markdown",
   "metadata": {},
   "source": [
    "**Answer here:**"
   ]
  },
  {
   "cell_type": "markdown",
   "metadata": {},
   "source": [
    "<h2 style=\"color:red\">** Question 4**</h2> \n",
    "\n",
    "Why might we prefer using RPKM values, instead of total read counts, when comparing mitosis phases for RNA-seq data?"
   ]
  },
  {
   "cell_type": "markdown",
   "metadata": {},
   "source": [
    "**Answer here:**"
   ]
  },
  {
   "cell_type": "markdown",
   "metadata": {},
   "source": [
    "## Genes Upregulated in the G1 Checkpoint\n",
    "\n",
    "Next, we will find all genes that are up-regulated in the G1 checkpoint. To do this, we will calculate the ratio of RPKM in G1 compared to the M phase, and filter by genes where the fraction G1/M > 2."
   ]
  },
  {
   "cell_type": "code",
   "execution_count": null,
   "metadata": {},
   "outputs": [],
   "source": [
    "# append a column with the ratio G1 RPKM/M RPKM\n",
    "table.append_column('G1/M', table['G1 mRNA RPKM']/table['M mRNA RPKM'])\n",
    "\n",
    "# now, filter the table by sites where this ratio is > 2\n",
    "filteredG1 = table.where(table['G1/M'] > 2)\n",
    "\n",
    "filteredG1"
   ]
  },
  {
   "cell_type": "markdown",
   "metadata": {},
   "source": [
    "<h2 style=\"color:red\">** Question 5**</h2> \n",
    "\n",
    "Why might we be filtering for genes a ratio of G1/M > 2, instead of 1, to discover genes upregulated in G1 phase?"
   ]
  },
  {
   "cell_type": "markdown",
   "metadata": {},
   "source": [
    "**Answer here:**"
   ]
  },
  {
   "cell_type": "markdown",
   "metadata": {},
   "source": [
    "<h2 style=\"color:red\">** Question 6**</h2> \n",
    "\n",
    "For how many genes is G1 expression greater than in the M phase? (count the rows in the filtered table we produced above)"
   ]
  },
  {
   "cell_type": "code",
   "execution_count": null,
   "metadata": {},
   "outputs": [],
   "source": [
    "# Answer here\n"
   ]
  },
  {
   "cell_type": "markdown",
   "metadata": {},
   "source": [
    "<h2 style=\"color:red\">** Question 7**</h2> \n",
    "\n",
    "Run a similar comparison analysis to the one above for G2 phase: find all of the genes that are up-regulated in G2 phase, compared to M. Print the number of genes that are up-regulated."
   ]
  },
  {
   "cell_type": "code",
   "execution_count": null,
   "metadata": {},
   "outputs": [],
   "source": [
    "# Answer here:\n"
   ]
  },
  {
   "cell_type": "markdown",
   "metadata": {},
   "source": [
    "## Finding similarities in gene expression in the G1 and G2 Phase\n",
    "\n",
    "Next, we will find the intersection of genes that are up-regulated in both the G1 and G2 phase. To do this, we will use the intersect() function defined below. This function takes in 2 parameters: two lists."
   ]
  },
  {
   "cell_type": "code",
   "execution_count": null,
   "metadata": {},
   "outputs": [],
   "source": [
    "def intersect(a, b):\n",
    "    \"\"\" return the intersection of two lists \"\"\"\n",
    "    return list(set(a) & set(b))"
   ]
  },
  {
   "cell_type": "markdown",
   "metadata": {},
   "source": [
    "As an example, say we have two lists, geneList1 and geneList2. We can use this function to calculate the intersection:"
   ]
  },
  {
   "cell_type": "code",
   "execution_count": null,
   "metadata": {},
   "outputs": [],
   "source": [
    "geneList1 = [\"TP53\", \"TRIM52\", \"RRAD\"]\n",
    "geneList2 = [\"TP53\", \"TRIM52\", \"DUSP5\"]\n",
    "\n",
    "intersect(geneList1, geneList2)"
   ]
  },
  {
   "cell_type": "markdown",
   "metadata": {},
   "source": [
    "This means that there are two genes that appear in both lists: TRIM52 and TP53."
   ]
  },
  {
   "cell_type": "markdown",
   "metadata": {},
   "source": [
    "<h2 style=\"color:red\">** Question 8**</h2> \n",
    "\n",
    "Using the intersect() function, find the intersection of genes that are up-regulated in both G1 and G2."
   ]
  },
  {
   "cell_type": "code",
   "execution_count": null,
   "metadata": {},
   "outputs": [],
   "source": [
    "# Answer here:\n"
   ]
  },
  {
   "cell_type": "markdown",
   "metadata": {},
   "source": [
    "<h2 style=\"color:red\">** Question 9**</h2> \n",
    "\n",
    "Go to genecards (http://www.genecards.org/) and search for gene CDKN1A. This gene should be on your list printed in question 8. Give a short description of the gene as it relates to checkpointing.\n"
   ]
  },
  {
   "cell_type": "markdown",
   "metadata": {},
   "source": [
    "**Answer here**:\n"
   ]
  },
  {
   "cell_type": "markdown",
   "metadata": {},
   "source": [
    "<h2 style=\"color:red\">** Question 10**</h2> \n",
    "Now, on genecards (http://www.genecards.org/) search for p53 and navigate to the section called 'Function'. Read this section. According to this paragraph, is p53 important in G1, G2, or both stages?"
   ]
  },
  {
   "cell_type": "markdown",
   "metadata": {},
   "source": [
    "** Answer here: **\n"
   ]
  },
  {
   "cell_type": "markdown",
   "metadata": {},
   "source": [
    "<h2 style=\"color:red\">** Question 11**</h2> \n",
    "Now, flter the original data table for the p53 gene. Does the data in this row support or contradict the p53's role in G1 and G2? Explain."
   ]
  },
  {
   "cell_type": "code",
   "execution_count": null,
   "metadata": {},
   "outputs": [],
   "source": [
    "# Answer here:\n"
   ]
  },
  {
   "cell_type": "markdown",
   "metadata": {},
   "source": [
    "**Explain answer here:**\n"
   ]
  },
  {
   "cell_type": "markdown",
   "metadata": {},
   "source": [
    "<h2 style=\"color:red\">** Question 12**</h2> \n",
    "Given what you know about G1 and G2 phases, how might you expect the RNA expression of checkpoint genes to change in cancer cells?"
   ]
  },
  {
   "cell_type": "markdown",
   "metadata": {},
   "source": [
    "** Answer here: **\n",
    "    "
   ]
  },
  {
   "cell_type": "code",
   "execution_count": null,
   "metadata": {},
   "outputs": [],
   "source": []
  }
 ],
 "metadata": {
  "kernelspec": {
   "display_name": "Python 3",
   "language": "python",
   "name": "python3"
  },
  "language_info": {
   "codemirror_mode": {
    "name": "ipython",
    "version": 3
   },
   "file_extension": ".py",
   "mimetype": "text/x-python",
   "name": "python",
   "nbconvert_exporter": "python",
   "pygments_lexer": "ipython3",
   "version": "3.6.1"
  }
 },
 "nbformat": 4,
 "nbformat_minor": 2
}
