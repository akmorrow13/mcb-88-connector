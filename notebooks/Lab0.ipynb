{
 "cells": [
  {
   "cell_type": "markdown",
   "metadata": {},
   "source": [
    "# Lab 0\n",
    "This lab, as well as following labs, will use the datascience API. \n",
    "For more information about the datascience Table API, see http://data8.org/datascience/tutorial.html#getting-started.\n",
    "\n",
    "One of the most important skills you can learn while coding is how to use available resources, such as API docs and google search, to learn about new functions and APIs.\n",
    "**For this reason, some lab questions will require new functions not described in the lab. Please reference the Table API for guidence.**"
   ]
  },
  {
   "cell_type": "markdown",
   "metadata": {},
   "source": [
    "## 1. Imports\n",
    "\n",
    "Imports are external dependencies you need to run your notebook. For most of the labs, we will be using the 'datascience' package. Functionality included in this package are listed at http://data8.org/datascience/tutorial.html#getting-started. We will also be using some extra packages for graphing.\n",
    "\n",
    "To run the cell below, click the 'play' button above in the tools panel at the top of your page."
   ]
  },
  {
   "cell_type": "code",
   "execution_count": null,
   "metadata": {
    "collapsed": false
   },
   "outputs": [],
   "source": [
    "# imports\n",
    "from datascience import Table\n",
    "import matplotlib\n",
    "matplotlib.use('Agg')\n",
    "from datascience import Table\n",
    "%matplotlib inline\n",
    "import matplotlib.pyplot as plt\n",
    "import numpy as np\n",
    "plt.style.use('fivethirtyeight')"
   ]
  },
  {
   "cell_type": "markdown",
   "metadata": {},
   "source": [
    "## 2. Importing and Reading Data\n",
    "\n",
    "We can use Tables, imported above, to import and read comma delimited files (csv) or tab delimited files (tsv) into our notebook. As an exercise, we will download data from http://data8.org/textbook/notebooks/sat2014.csv, which contains information about state scores on Critical Reading, Math and Writing."
   ]
  },
  {
   "cell_type": "code",
   "execution_count": null,
   "metadata": {
    "collapsed": true
   },
   "outputs": [],
   "source": [
    "# Read in csv file into a table\n",
    "table = Table.read_table('http://data8.org/textbook/notebooks/sat2014.csv')"
   ]
  },
  {
   "cell_type": "markdown",
   "metadata": {},
   "source": [
    "### Now, print the table:"
   ]
  },
  {
   "cell_type": "code",
   "execution_count": null,
   "metadata": {
    "collapsed": false
   },
   "outputs": [],
   "source": [
    "print(table)"
   ]
  },
  {
   "cell_type": "markdown",
   "metadata": {},
   "source": [
    "Notice that all columns have a header at the top. The notebook omits visualization of all records to save space."
   ]
  },
  {
   "cell_type": "markdown",
   "metadata": {},
   "source": [
    "## 3. Accessing and Manipulating Data Tables\n",
    "Now, we can use our table to learn more about our dataset. Let's access just the 'State' column to view the states that have participated in this study.\n"
   ]
  },
  {
   "cell_type": "code",
   "execution_count": null,
   "metadata": {
    "collapsed": false
   },
   "outputs": [],
   "source": [
    "table.column('State')"
   ]
  },
  {
   "cell_type": "markdown",
   "metadata": {},
   "source": [
    "For our next exercise, we will filter out all states that have a participation rate greater than 4."
   ]
  },
  {
   "cell_type": "code",
   "execution_count": null,
   "metadata": {
    "collapsed": false
   },
   "outputs": [],
   "source": [
    "table.where(table['Participation Rate'] > 4.0)"
   ]
  },
  {
   "cell_type": "markdown",
   "metadata": {},
   "source": [
    "## 4. Organizing Data\n",
    "We can use Tables to sort and group data. First, sort data by partition rate to find the state with the lowest participation rate."
   ]
  },
  {
   "cell_type": "code",
   "execution_count": null,
   "metadata": {
    "collapsed": false
   },
   "outputs": [],
   "source": [
    "table.sort('Participation Rate')"
   ]
  },
  {
   "cell_type": "markdown",
   "metadata": {},
   "source": [
    "## 5. Visualizing Data\n",
    "\n",
    "The table command has many built in plots used to visualize your data. First, let's visualize Critical Reading scores vs.\n",
    "Writing scores to see if there is any correlation between the categories."
   ]
  },
  {
   "cell_type": "code",
   "execution_count": null,
   "metadata": {
    "collapsed": false
   },
   "outputs": [],
   "source": [
    "# Select columns for plotting\n",
    "selected = table.select(['Critical Reading', 'Writing'])\n",
    "\n",
    "# Plot points using scatter plot. Put 'Critical Reading' on xaxis.\n",
    "selected.scatter('Critical Reading')\n"
   ]
  },
  {
   "cell_type": "markdown",
   "metadata": {},
   "source": [
    "## Question 1: Filtering\n",
    "Using your filtering skills, count the number of states that have a Critical Reading score greater than or equal to 599.\n"
   ]
  },
  {
   "cell_type": "code",
   "execution_count": null,
   "metadata": {
    "collapsed": true
   },
   "outputs": [],
   "source": [
    "# Answer here:"
   ]
  },
  {
   "cell_type": "markdown",
   "metadata": {},
   "source": [
    "## Question 2: Sorting\n",
    "In part 4, we sorted to find the state with the lowest participation rate. Modify this sort call to find the state with the highest partitipation rate."
   ]
  },
  {
   "cell_type": "code",
   "execution_count": null,
   "metadata": {
    "collapsed": false
   },
   "outputs": [],
   "source": [
    "# Answer here:"
   ]
  },
  {
   "cell_type": "markdown",
   "metadata": {},
   "source": [
    "## Question 3: Bringing it all Together\n",
    "\n",
    "First, select the top 5 states with the highest combined scores. \n",
    "(Hint, you will need to use the sort() and take() functions.)\n",
    "\n",
    "For these top states, create a bar chart of the state names and their corresponding Critical Reading, Math, and Writing scores. (Hint: use the barh plot.) "
   ]
  },
  {
   "cell_type": "code",
   "execution_count": null,
   "metadata": {
    "collapsed": false
   },
   "outputs": [],
   "source": [
    "# Answer here:"
   ]
  },
  {
   "cell_type": "markdown",
   "metadata": {},
   "source": [
    "## Question 4:\n",
    "On a scale from 1 to 10 (1 being worst, 10 being best), please rate this lab in terms of its:\n",
    "1. Clarity\n",
    "2. Helpfulness\n",
    "3. Difficulty\n",
    "\n",
    "Please include a separate score for each category, as well as any extra comments regarding this lab."
   ]
  },
  {
   "cell_type": "markdown",
   "metadata": {
    "collapsed": true
   },
   "source": [
    "Answer here:"
   ]
  },
  {
   "cell_type": "code",
   "execution_count": null,
   "metadata": {
    "collapsed": true
   },
   "outputs": [],
   "source": []
  }
 ],
 "metadata": {
  "kernelspec": {
   "display_name": "Python 3",
   "language": "python",
   "name": "python3"
  },
  "language_info": {
   "codemirror_mode": {
    "name": "ipython",
    "version": 3
   },
   "file_extension": ".py",
   "mimetype": "text/x-python",
   "name": "python",
   "nbconvert_exporter": "python",
   "pygments_lexer": "ipython3",
   "version": "3.5.2"
  },
  "timetravel": {
   "allowedContentTypes": [
    "text/plain"
   ],
   "enabled": false,
   "version": "1.0"
  }
 },
 "nbformat": 4,
 "nbformat_minor": 0
}
