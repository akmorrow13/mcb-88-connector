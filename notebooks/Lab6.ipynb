{
 "cells": [
  {
   "cell_type": "markdown",
   "metadata": {
    "deletable": true,
    "editable": true
   },
   "source": [
    "# Lab 6: Immune Response Checkpoints"
   ]
  },
  {
   "cell_type": "markdown",
   "metadata": {
    "deletable": true,
    "editable": true
   },
   "source": [
    "Today, we will be looking at a couple effector genes that play a crucial role in the inhibition or activation of T cells. By the end of this lab, you will know the structure and function of some of these genes.\n",
    "\n",
    "This lab, as well as following labs, will use the datascience API. For more information about the datascience Table API, see http://data8.org/datascience/tutorial.html#getting-started."
   ]
  },
  {
   "cell_type": "code",
   "execution_count": 26,
   "metadata": {
    "collapsed": false,
    "deletable": true,
    "editable": true
   },
   "outputs": [],
   "source": [
    "# imports\n",
    "from datascience import Table\n",
    "import matplotlib\n",
    "%matplotlib inline\n",
    "import matplotlib.pyplot as plt\n",
    "import numpy as np\n",
    "plt.style.use('fivethirtyeight')\n",
    "from sklearn.cluster import KMeans"
   ]
  },
  {
   "cell_type": "markdown",
   "metadata": {
    "deletable": true,
    "editable": true
   },
   "source": [
    "First, we will load time series data from a subset of the immgen database. This dataset includes the relative expression of 40 genes over 100 days. Many of these genes can be classified into different categories. Two of these categories, which we will see today, include 'naive and late memory' as well as 'effector response' genes.\n",
    "\n",
    "First, let's load in the immgen dataset."
   ]
  },
  {
   "cell_type": "code",
   "execution_count": null,
   "metadata": {
    "collapsed": true,
    "deletable": true,
    "editable": true
   },
   "outputs": [],
   "source": [
    "# load in data for part 2\n",
    "table = Table.read_table('https://raw.githubusercontent.com/data-8/mcb-88-connector/gh-pages/data/lab2/immgen_timeseries.csv')\n",
    "\n",
    "# Show the table\n",
    "table"
   ]
  },
  {
   "cell_type": "markdown",
   "metadata": {
    "deletable": true,
    "editable": true
   },
   "source": [
    "### Filtering data by Category\n",
    "\n",
    "Let's first look at the name of the genes that are in the 'Naive/late memory' category."
   ]
  },
  {
   "cell_type": "code",
   "execution_count": null,
   "metadata": {
    "collapsed": true,
    "deletable": true,
    "editable": true
   },
   "outputs": [],
   "source": [
    "## filter by category\n",
    "\n",
    "## example: filtered category for naive and late memory cells\n",
    "table.where('Category', 'Naive/late memory')"
   ]
  },
  {
   "cell_type": "markdown",
   "metadata": {
    "deletable": true,
    "editable": true
   },
   "source": [
    "Naive and late memory cells include genes with the highest expression in naive and memory CD8+ T cells. Some of genes encode molecules suspected to have roles in suppressing the immune response, such as Cnr2.\n",
    "\n",
    "\n",
    "Today, however, we will be looking at effector response genes. These genes are upregulated shortly after differentiation from naive cells, but remain highly expressed compared to naive cells after initial upregulation. Some of these genes encode for early effector molecules."
   ]
  },
  {
   "cell_type": "markdown",
   "metadata": {
    "deletable": true,
    "editable": true
   },
   "source": [
    "<div style=\"color:red\">** Question 1**:</div> \n",
    "Using the table 'table', filter out genes in the Category of 'effector response'."
   ]
  },
  {
   "cell_type": "code",
   "execution_count": 15,
   "metadata": {
    "collapsed": false,
    "deletable": true,
    "editable": true,
    "scrolled": true
   },
   "outputs": [],
   "source": [
    "## Answer here:\n",
    "effectors = ..."
   ]
  },
  {
   "cell_type": "markdown",
   "metadata": {
    "deletable": true,
    "editable": true
   },
   "source": [
    "<div style=\"color:red\">** Question 2**:</div> \n",
    "How many cells are there in the effector response category in the table? (Note: this is not inclusive, but a small subset of effector genes)"
   ]
  },
  {
   "cell_type": "code",
   "execution_count": 6,
   "metadata": {
    "collapsed": true,
    "deletable": true,
    "editable": true
   },
   "outputs": [],
   "source": [
    "# You will need to use code to answer this question\n"
   ]
  },
  {
   "cell_type": "markdown",
   "metadata": {
    "deletable": true,
    "editable": true
   },
   "source": [
    "## Missing Data\n",
    "Now we will graph the expression over time for all effector response genes. But we are missing values. Missing values are notated in the table by by 'NaN', which stands for 'Not a Number'. If you look at the table for effector response genes, there are 'nan' values in the table. Let's look at where we are missing values."
   ]
  },
  {
   "cell_type": "markdown",
   "metadata": {
    "deletable": true,
    "editable": true
   },
   "source": [
    "<div style=\"color:red\">** Question 3**:</div> In the table of effector response genes, for what times are we missing data?"
   ]
  },
  {
   "cell_type": "code",
   "execution_count": 8,
   "metadata": {
    "collapsed": true,
    "deletable": true,
    "editable": true
   },
   "outputs": [],
   "source": [
    "# Run any code you want for this question\n"
   ]
  },
  {
   "cell_type": "markdown",
   "metadata": {
    "deletable": true,
    "editable": true
   },
   "source": [
    "<div style=\"color:red\">Answer here:</div>\n"
   ]
  },
  {
   "cell_type": "markdown",
   "metadata": {
    "deletable": true,
    "editable": true
   },
   "source": [
    "<div style=\"color:red\">** Question 4**:</div> In the table of effector response genes, for what genes are values missing? "
   ]
  },
  {
   "cell_type": "code",
   "execution_count": 27,
   "metadata": {
    "collapsed": true,
    "deletable": true,
    "editable": true
   },
   "outputs": [],
   "source": [
    "# Run any code you want for this question\n"
   ]
  },
  {
   "cell_type": "markdown",
   "metadata": {
    "deletable": true,
    "editable": true
   },
   "source": [
    "<div style=\"color:red\">Answer here:</div>"
   ]
  },
  {
   "cell_type": "markdown",
   "metadata": {
    "deletable": true,
    "editable": true
   },
   "source": [
    "## Plotting Gene Expression over Time\n",
    "Now, let's graph the time series data for effector response genes. "
   ]
  },
  {
   "cell_type": "code",
   "execution_count": null,
   "metadata": {
    "collapsed": true,
    "deletable": true,
    "editable": true
   },
   "outputs": [],
   "source": [
    "## prepare data to plot\n",
    "\n",
    "# convert to pandas dataframe\n",
    "effectors_df = effectors.to_df()\n",
    "\n",
    "# drop columns that will not be plotted\n",
    "# transpose data matrix\n",
    "data = effectors_df.drop(effectors_df.columns[[0, 1, 3]], axis=1).transpose()\n",
    "\n",
    "# replace headers with gene names\n",
    "data.columns = data.iloc[0]\n",
    "data = data[1:]\n",
    "\n",
    "# show results!\n",
    "data"
   ]
  },
  {
   "cell_type": "code",
   "execution_count": null,
   "metadata": {
    "collapsed": true,
    "deletable": true,
    "editable": true
   },
   "outputs": [],
   "source": [
    "# now, plot the data\n",
    "data.plot()"
   ]
  },
  {
   "cell_type": "markdown",
   "metadata": {
    "deletable": true,
    "editable": true
   },
   "source": [
    "TODO: ask question about molecule presense (for eukayotic cells)"
   ]
  },
  {
   "cell_type": "markdown",
   "metadata": {
    "deletable": true,
    "editable": true
   },
   "source": [
    "### Something is wrong with the plot!\n",
    "You may notice that in the chart above, Ctla4 and II2 have cut off their line. This is because of missing data. We will impute these missing values **for visualization purposes only**."
   ]
  },
  {
   "cell_type": "code",
   "execution_count": null,
   "metadata": {
    "collapsed": true,
    "deletable": true,
    "editable": true
   },
   "outputs": [],
   "source": [
    "# fill in missing values with column means\n",
    "\n",
    "## get column means\n",
    "means = data.mean()\n",
    "print(means)\n",
    "\n",
    "\n",
    "## fillna is a pandas dataframe function that fills empty values using a specific method.\n",
    "## For our purposes, we will fill empty values by the mean expression for a given gene.\n",
    "filled = data.fillna(means)\n",
    "filled"
   ]
  },
  {
   "cell_type": "markdown",
   "metadata": {
    "deletable": true,
    "editable": true
   },
   "source": [
    "As you can see in the resulting table shown above, we no longer have missing values. Now, let's plot these imputed values."
   ]
  },
  {
   "cell_type": "markdown",
   "metadata": {
    "deletable": true,
    "editable": true
   },
   "source": [
    "<div style=\"color:red\">** Question 5**:</div> Plot the imputed data. *Hint:* Look at how we plotted the data in one of previous cells."
   ]
  },
  {
   "cell_type": "code",
   "execution_count": null,
   "metadata": {
    "collapsed": true,
    "deletable": true,
    "editable": true
   },
   "outputs": [],
   "source": [
    "## Answer here:\n"
   ]
  },
  {
   "cell_type": "markdown",
   "metadata": {
    "deletable": true,
    "editable": true
   },
   "source": [
    "Using this plot, answer the following questions:"
   ]
  },
  {
   "cell_type": "markdown",
   "metadata": {
    "deletable": true,
    "editable": true
   },
   "source": [
    "<div style=\"color:red\">** Question 6**:</div>At what point in time to all genes have the highest expression?"
   ]
  },
  {
   "cell_type": "markdown",
   "metadata": {
    "deletable": true,
    "editable": true
   },
   "source": [
    "<div style=\"color:red\">Answer here:</div>\n"
   ]
  },
  {
   "cell_type": "markdown",
   "metadata": {
    "deletable": true,
    "editable": true
   },
   "source": [
    "<div style=\"color:red\">** Question 7**:</div> As stated, this plot shows RNA expression over time. However, increased presence of the molecule a gene encodes may come at a different time from gene expression. Do you expect increased presence of a molecule **before**, **during** or **after** the increased expression of the gene that encodes it?"
   ]
  },
  {
   "cell_type": "markdown",
   "metadata": {
    "deletable": true,
    "editable": true
   },
   "source": [
    "<div style=\"color:red\">Answer here:</div>\n"
   ]
  },
  {
   "cell_type": "markdown",
   "metadata": {
    "deletable": true,
    "editable": true
   },
   "source": [
    "## Exploring CTLA4\n",
    "Now, let's explore the CTLA4 gene in more depth."
   ]
  },
  {
   "cell_type": "markdown",
   "metadata": {
    "deletable": true,
    "editable": true
   },
   "source": [
    "1. Navigate to http://www.genecards.org/cgi-bin/carddisp.pl?gene=CTLA4.\n",
    "2. Scroll to the section labeled 'Summaries'. Read this section and answer the following questions.\n"
   ]
  },
  {
   "cell_type": "markdown",
   "metadata": {
    "deletable": true,
    "editable": true
   },
   "source": [
    "<div style=\"color:red\">** Question 8**:</div>Does the protein that CTLA4 encodes inhibit or activate T cell responses?"
   ]
  },
  {
   "cell_type": "markdown",
   "metadata": {
    "deletable": true,
    "editable": true
   },
   "source": [
    "<div style=\"color:red\">Answer here:</div>\n"
   ]
  },
  {
   "cell_type": "markdown",
   "metadata": {
    "deletable": true,
    "editable": true
   },
   "source": [
    "<div style=\"color:red\">** Question 9**:</div> From this summary, what are the names of two ligands which CTLA4 binds to? (Remember these names, you will be using them in the net parts of the lab)"
   ]
  },
  {
   "cell_type": "markdown",
   "metadata": {
    "deletable": true,
    "editable": true
   },
   "source": [
    "<div style=\"color:red\">Answer here:</div>\n"
   ]
  },
  {
   "cell_type": "markdown",
   "metadata": {
    "deletable": true,
    "editable": true
   },
   "source": [
    "## Exploring the CTLA4 Gene Network\n",
    "\n",
    "Now, we will visually explore genes that bind to CTLA4."
   ]
  },
  {
   "cell_type": "markdown",
   "metadata": {
    "deletable": true,
    "editable": true
   },
   "source": [
    "1. Navigate to http://string-db.org/cgi/network.pl?taskId=QqmR370Wjf30\n",
    "Here, you will see a network of genes, including CTLA4. Edges between genes demonstrate how the genes are connected. \n",
    "\n",
    "2. Click on the network. You can move genes around and click on them."
   ]
  },
  {
   "cell_type": "markdown",
   "metadata": {
    "deletable": true,
    "editable": true
   },
   "source": [
    "The genes you wrote down as an answer to **Question  9** should appear in this network. Click on the first gene.\n",
    "\n",
    "<div style=\"color:red\">** Question 10**:</div> What is the name and function of the **first** gene? What two molecules does it bind to?"
   ]
  },
  {
   "cell_type": "markdown",
   "metadata": {
    "deletable": true,
    "editable": true
   },
   "source": [
    "<div style=\"color:red\">Answer here:</div>\n"
   ]
  },
  {
   "cell_type": "markdown",
   "metadata": {
    "deletable": true,
    "editable": true
   },
   "source": [
    "<div style=\"color:red\">** Question 11**:</div>What is the name and function of the **second** gene? What two molecules does it bind to?"
   ]
  },
  {
   "cell_type": "markdown",
   "metadata": {
    "collapsed": true,
    "deletable": true,
    "editable": true
   },
   "source": [
    "<div style=\"color:red\">Answer here:</div>\n"
   ]
  },
  {
   "cell_type": "markdown",
   "metadata": {
    "deletable": true,
    "editable": true
   },
   "source": [
    "<div style=\"color:red\">** Question 12**:</div> Scroll down below the network to view the color codings for the graph edges. What is the meaning of each edge color that is expressed between CTLA4 and the genes found in **Question  9**?"
   ]
  },
  {
   "cell_type": "markdown",
   "metadata": {
    "collapsed": false,
    "deletable": true,
    "editable": true
   },
   "source": [
    "<div style=\"color:red\">Answer here:</div>\n"
   ]
  },
  {
   "cell_type": "markdown",
   "metadata": {
    "deletable": true,
    "editable": true
   },
   "source": [
    "<div style=\"color:red\">** Question 13**:</div>Based on what you have read about CTLA4, infer whether binding of the two molecules CD80 and CD86 inhibits or activates T cell differentiation."
   ]
  },
  {
   "cell_type": "markdown",
   "metadata": {
    "deletable": true,
    "editable": true
   },
   "source": [
    "<div style=\"color:red\">Answer here:</div>\n"
   ]
  },
  {
   "cell_type": "markdown",
   "metadata": {
    "deletable": true,
    "editable": true
   },
   "source": [
    "## Exploring CD28\n",
    "As you may have seen in the gene network of CTLA4, CD28 was another gene that seems to be connected to CTLA4. \n",
    "Now, let's explore CD28 in more depth."
   ]
  },
  {
   "cell_type": "markdown",
   "metadata": {
    "deletable": true,
    "editable": true
   },
   "source": [
    "1. Navigate to http://www.genecards.org/cgi-bin/carddisp.pl?gene=CD28&keywords=CD28.\n",
    "2. Scroll to the section labeled 'Summaries'. Read this section and answer the following questions."
   ]
  },
  {
   "cell_type": "markdown",
   "metadata": {
    "deletable": true,
    "editable": true
   },
   "source": [
    "<div style=\"color:red\">** Question 14**:</div>Does the protein that CD28 encodes inhibit or activate T cell responses?"
   ]
  },
  {
   "cell_type": "markdown",
   "metadata": {
    "deletable": true,
    "editable": true
   },
   "source": [
    "<div style=\"color:red\">Answer here:</div>\n"
   ]
  },
  {
   "cell_type": "markdown",
   "metadata": {
    "deletable": true,
    "editable": true
   },
   "source": [
    "Scroll down to the section labeled 'Proteins for CD28 Gene'. Read this section and answer the following question: \n",
    "\n",
    "<div style=\"color:red\">** Question 15**:</div>What other proteins does CD28 bind to? Are these the same as the proteins that bind to CTLA4?"
   ]
  },
  {
   "cell_type": "markdown",
   "metadata": {
    "deletable": true,
    "editable": true
   },
   "source": [
    "<div style=\"color:red\">Answer here:</div>\n"
   ]
  },
  {
   "cell_type": "markdown",
   "metadata": {
    "deletable": true,
    "editable": true
   },
   "source": [
    "## Protein Stucture for CTLA-4 and CD28\n",
    "\n",
    "Now, we will view the 3-D structure of CTLA-4 and CD28. \n",
    "\n",
    "### Protein Structure for CTLA-4\n",
    "Navigate to https://www.ncbi.nlm.nih.gov/Structure/pdb/5GGV. Here, you can click on the left bottom corner of the protein structure image. This will take you to a new window that allows you to click and explore the protein."
   ]
  },
  {
   "cell_type": "markdown",
   "metadata": {
    "deletable": true,
    "editable": true
   },
   "source": [
    "<div style=\"color:red\">** Question 16**:</div> \n",
    "What do the pink, blue and brown colors represent?"
   ]
  },
  {
   "cell_type": "markdown",
   "metadata": {
    "deletable": true,
    "editable": true
   },
   "source": [
    "<div style=\"color:red\">Answer here:</div>\n"
   ]
  },
  {
   "cell_type": "markdown",
   "metadata": {
    "deletable": true,
    "editable": true
   },
   "source": [
    "### Protein Structure for CD28\n",
    "Navigate to https://www.ncbi.nlm.nih.gov/Structure/pdb/1YJD. Here, you can click on the left bottom corner of the protein structure image. This will take you to a new window that allows you to click and explore the protein.\n",
    "\n",
    "\n",
    "<div style=\"color:red\">** Question 17**:</div> \n",
    "What molecule names do both CTLA-4 and CD8 share in the structure?"
   ]
  },
  {
   "cell_type": "markdown",
   "metadata": {
    "deletable": true,
    "editable": true
   },
   "source": [
    "<div style=\"color:red\">Answer here:</div>\n"
   ]
  }
 ],
 "metadata": {
  "kernelspec": {
   "display_name": "Python 3",
   "language": "python",
   "name": "python3"
  },
  "language_info": {
   "codemirror_mode": {
    "name": "ipython",
    "version": 3
   },
   "file_extension": ".py",
   "mimetype": "text/x-python",
   "name": "python",
   "nbconvert_exporter": "python",
   "pygments_lexer": "ipython3",
   "version": "3.5.2"
  }
 },
 "nbformat": 4,
 "nbformat_minor": 2
}
