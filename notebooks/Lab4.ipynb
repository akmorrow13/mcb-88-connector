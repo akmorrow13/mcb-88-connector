{
 "cells": [
  {
   "cell_type": "markdown",
   "metadata": {},
   "source": [
    "# Lab 4: Polymorphisms and Mutations"
   ]
  },
  {
   "cell_type": "markdown",
   "metadata": {},
   "source": [
    "For lab 4, we will be comparing polymorphisms in two genes, HLA-A and H2A. Part 1 of the lab will involve following a tutorial using the UCSC Genome Browser. Part 2 of the lab will include an ipython lab."
   ]
  },
  {
   "cell_type": "markdown",
   "metadata": {
    "collapsed": true
   },
   "source": [
    "## Importing the Dependencies"
   ]
  },
  {
   "cell_type": "code",
   "execution_count": null,
   "metadata": {
    "collapsed": false
   },
   "outputs": [],
   "source": [
    "# imports\n",
    "from datascience import Table\n",
    "import matplotlib\n",
    "matplotlib.use('Agg')\n",
    "from datascience import Table\n",
    "%matplotlib inline\n",
    "import matplotlib.pyplot as plt\n",
    "plt.style.use('fivethirtyeight')\n"
   ]
  },
  {
   "cell_type": "markdown",
   "metadata": {},
   "source": [
    "## Part 1: Exploring polymorphisms in the UCSC Genome Browser\n",
    "\n",
    "For part 1, we will use the UCSC Genome Browser to explore polymorphisms. The document for part 1 can be found in bcourses. \n",
    "Please put your answers for part 1 here:"
   ]
  },
  {
   "cell_type": "markdown",
   "metadata": {},
   "source": [
    "### Part 1 Answers\n",
    "\n",
    "#### Questions: Exploring HLA-A\n",
    "1.\n",
    "\n",
    "2.\n",
    "\n",
    "3.\n",
    "\n",
    "4.\n",
    "\n",
    "5.\n",
    "\n",
    "6.\n",
    "\n",
    "7.\n"
   ]
  },
  {
   "cell_type": "markdown",
   "metadata": {},
   "source": [
    "##### Questions: HLA-A SNP Density\n",
    "1."
   ]
  },
  {
   "cell_type": "markdown",
   "metadata": {},
   "source": [
    "#### Questions: HLA-A SNP Search\n",
    "1.\n",
    "\n",
    "2.\n",
    "\n",
    "3.\n",
    "\n",
    "4.\n"
   ]
  },
  {
   "cell_type": "markdown",
   "metadata": {},
   "source": [
    "#### Questions: Exploring H2A\n",
    "1.\n",
    "\n",
    "2.\n",
    "\n",
    "3.\n",
    "\n",
    "4.\n",
    "\n",
    "5.\n"
   ]
  },
  {
   "cell_type": "markdown",
   "metadata": {},
   "source": [
    "#### Questions: H2A SNP Density\n",
    "1.\n",
    "\n",
    "2.\n"
   ]
  },
  {
   "cell_type": "markdown",
   "metadata": {},
   "source": [
    "# Part 2: Multiple Sequence Alignment of HLA-A sequences"
   ]
  },
  {
   "cell_type": "markdown",
   "metadata": {},
   "source": [
    "### Multiple Sequence Alignment of HLA-A sequences\n",
    "\n",
    "Now, we will align all three HLA-A sequences. This requires a multiple sequence alignment (MSA) algorithm. We have applied an MSA alignment algorithm to these sequences for you. The algorithm we used is called T-coffee, and can be found here: http://tcoffee.vital-it.ch/apps/tcoffee/do:regular Here you can find the alignment between any number of sequences."
   ]
  },
  {
   "cell_type": "markdown",
   "metadata": {},
   "source": [
    "## Question 1\n",
    "\n",
    "Why might a multiple sequence alignment (MSA) algorithm be used instead of a sequence alignment algorithm that just aligns two sequences?\n"
   ]
  },
  {
   "cell_type": "markdown",
   "metadata": {},
   "source": [
    "Answer here:"
   ]
  },
  {
   "cell_type": "markdown",
   "metadata": {},
   "source": [
    "## Question 2\n",
    "\n",
    "Take a look at the T-coffee website (http://tcoffee.vital-it.ch/apps/tcoffee/references.html) and give a summary about what their algorithm does.\n"
   ]
  },
  {
   "cell_type": "markdown",
   "metadata": {},
   "source": [
    "Answer here:"
   ]
  },
  {
   "cell_type": "code",
   "execution_count": null,
   "metadata": {
    "collapsed": false
   },
   "outputs": [],
   "source": [
    "# load in sequence data for HLA-A\n",
    "# load in data\n",
    "table = Table.read_table('https://raw.githubusercontent.com/data-8/mcb-88-connector/gh-pages/data/lab4/hla-a_msa.csv')\n",
    "table\n"
   ]
  },
  {
   "cell_type": "markdown",
   "metadata": {},
   "source": [
    "For each of the aligned sequences, there is either a mismatch between the three sequences, or a dash ('-') that indicates an insertion in that sequence, or a deletion in the other sequences.\n",
    "\n",
    "Now, we will visualize the sequence differences, by counting the number differences at each location of the three sequences.\n",
    "\n",
    "First, we define a function, called getDifferenceVector() that returns the counts of differences between three sequences at each location."
   ]
  },
  {
   "cell_type": "code",
   "execution_count": null,
   "metadata": {
    "collapsed": true
   },
   "outputs": [],
   "source": [
    "# Function that calculates the number of differences between three sequences. \n",
    "# Sequences must be the same length.\n",
    "def getDifferenceVector(seq1,seq2,seq3):\n",
    "    if len(seq1) != len(seq2) != len(seq3):\n",
    "        return('Error: the input strings are not of the same length.')\n",
    "    # create empty list to hold counts\n",
    "    counts = [0] * len(seq1)\n",
    "    index = [0] * len(seq1)\n",
    "    for i in range(len(seq1)):\n",
    "        if (seq1[i]!=seq2[i]):\n",
    "            counts[i]+=1\n",
    "        if (seq1[i]!=seq3[i]):\n",
    "            counts[i]+=1\n",
    "        if (seq2[i]!=seq3[i]):\n",
    "            counts[i]+=1\n",
    "        index[i] = i\n",
    "    return (index, counts)\n",
    "    "
   ]
  },
  {
   "cell_type": "markdown",
   "metadata": {},
   "source": [
    "Using this function, we will compute the differences between all three sequences and plot this difference vector."
   ]
  },
  {
   "cell_type": "markdown",
   "metadata": {},
   "source": [
    "### Question 3\n",
    "Fill in the blanks below to plot the difference vector across the three HLA-A sequences."
   ]
  },
  {
   "cell_type": "code",
   "execution_count": null,
   "metadata": {
    "collapsed": false
   },
   "outputs": [],
   "source": [
    "# TODO: Select sequences\n",
    "seq1 = ?\n",
    "seq2 = ?\n",
    "seq3 = ?\n",
    "\n",
    "(index, counts) = getDifferenceVector(seq1,seq2,seq3)\n",
    "plt.plot(index, counts)\n",
    "plt.ylabel('Differences')\n",
    "plt.xlabel('Position')\n",
    "\n",
    "plt.show()"
   ]
  },
  {
   "cell_type": "markdown",
   "metadata": {},
   "source": [
    "## Question 4\n",
    "How does this sample distribution of mismatches compare to the actual distribution for HLA-A we saw in the UCSC Genome Browser?\n",
    "\n",
    "Answer:"
   ]
  },
  {
   "cell_type": "markdown",
   "metadata": {},
   "source": [
    "## Question 5\n",
    "\n",
    "Based on the distribution of mismatches for these three sequences for HLA-A, how would you expect the mismatch distribution for H2A to look?"
   ]
  },
  {
   "cell_type": "markdown",
   "metadata": {},
   "source": [
    "# Part 3: Extra for Experts\n",
    "This section is optional. However, it is highly encouraged if you are comfortable with python."
   ]
  },
  {
   "cell_type": "markdown",
   "metadata": {},
   "source": [
    "## Bonus Question 1\n",
    "\n",
    "Choose a SNP overlapping HLA-A from the UCSC Genome Browser (This can be the same SNP you chose in part 1 of the lab.)\n",
    "Does this SNP appear in any of the sequences above? How can you verify this?"
   ]
  },
  {
   "cell_type": "code",
   "execution_count": null,
   "metadata": {
    "collapsed": true
   },
   "outputs": [],
   "source": []
  }
 ],
 "metadata": {
  "kernelspec": {
   "display_name": "Python 3",
   "language": "python",
   "name": "python3"
  },
  "language_info": {
   "codemirror_mode": {
    "name": "ipython",
    "version": 3
   },
   "file_extension": ".py",
   "mimetype": "text/x-python",
   "name": "python",
   "nbconvert_exporter": "python",
   "pygments_lexer": "ipython3",
   "version": "3.5.2"
  }
 },
 "nbformat": 4,
 "nbformat_minor": 0
}
