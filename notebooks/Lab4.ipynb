{
 "cells": [
  {
   "cell_type": "markdown",
   "metadata": {},
   "source": [
    "# Chromatin Differentiation in T cells"
   ]
  },
  {
   "cell_type": "code",
   "execution_count": null,
   "metadata": {},
   "outputs": [],
   "source": [
    "# imports\n",
    "from datascience import Table\n",
    "%matplotlib inline\n",
    "import numpy as np"
   ]
  },
  {
   "cell_type": "markdown",
   "metadata": {},
   "source": [
    "All data in this lab comes from https://www.nature.com/articles/nature22367. This paper, titled 'Chromatin states define tumour-specific T cell dysfunction and reprogramming', collects ATAC-seq data from normal and dysfunctional T cells that were immunized with Listeria monoctgogenes strain. Here, we compare the accessibility of T cells over time, comparing naive, effector and memory chromatin states.\n",
    "\n",
    "Data can be found at https://www.ncbi.nlm.nih.gov/geo/query/acc.cgi?acc=GSE89309.\n",
    "\n",
    "First, load in the data."
   ]
  },
  {
   "cell_type": "code",
   "execution_count": null,
   "metadata": {},
   "outputs": [],
   "source": [
    "table = Table.read_table('https://raw.githubusercontent.com/data-8/mcb-88-connector/gh-pages/data/lab4/dysfunctional_ATACseq_timeseries.csv')\n",
    "table"
   ]
  },
  {
   "cell_type": "markdown",
   "metadata": {},
   "source": [
    "In this dataset, each peak has a location (chr, start and end) as well as an associated gene symbol. The peak annotation tells us where the peak occurs.\n",
    "\n",
    "The rest of the dataset has labels N1, E5, E7, ... L60_3. These abbreviations stand for the following:\n",
    "\n",
    "<h3>Normal T Cells</h3> \n",
    "\n",
    "- N1: Naive T cell\n",
    "- E5: Effector cell after incubated for 5 days\n",
    "- E7: Effector cell after incubated for 7 days\n",
    "- M1: Memory cell\n",
    "\n",
    "<h3>Dysfunctional T Cells</h3> \n",
    "\n",
    "- L5: Dysfunctional T cells after 5 days\n",
    "- L7: Dysfunctional T cells after 7 days\n",
    "- L14: Dysfunctional T cells after 14 days\n",
    "- L21: Dysfunctional T cells after 21 days\n",
    "- L28: Dysfunctional T cells after 28 days\n",
    "- L35: Dysfunctional T cells after 35 days\n",
    "- L60: Dysfunctional T cells after 60 days\n",
    "\n",
    "You may notice there are multiple samples for each category (i.e. E5_1, E5_2, E5_3). These represent biological replicates. We will not be looking at dysfunctional T cell data today, but will be using this data in future labs.\n"
   ]
  },
  {
   "cell_type": "markdown",
   "metadata": {},
   "source": [
    "<h2 style=\"color:red\">** Question 1**</h2> \n",
    "\n",
    "How many ATAC-seq peaks does this dataset have?"
   ]
  },
  {
   "cell_type": "code",
   "execution_count": null,
   "metadata": {},
   "outputs": [],
   "source": [
    "# YOUR CODE HERE\n",
    "raise NotImplementedError()"
   ]
  },
  {
   "cell_type": "markdown",
   "metadata": {},
   "source": [
    "<h2 style=\"color:red\">** Question 2**</h2> \n",
    "\n",
    "Is there more or less ATAC-seq peaks in this dataset than you would expect in the same dataset for RNA-seq? Explain."
   ]
  },
  {
   "cell_type": "markdown",
   "metadata": {},
   "source": [
    "---\n",
    "## <span style=\"color:red\">Student Answer</span>\n",
    "\n",
    "*Double-click and add your answer between the lines*\n",
    "\n",
    "---"
   ]
  },
  {
   "cell_type": "markdown",
   "metadata": {},
   "source": [
    "## Part 1: Exploring differential accessibility in normal T Cells\n"
   ]
  },
  {
   "cell_type": "markdown",
   "metadata": {},
   "source": [
    "For part 1 of the lab, we will compare differentially accessible regions between different T cell activation states in normal T cells. To do this, we need a method that can calculate whether the diffence in accessibility at a given genomic region in two cell states is statistically significant. To determine whether sites are significantly different, we need a **differential peak calling** algorithm. These algorithms are able to determine which genes are significantly differentially accessible between two states (i.e. naive and effector). We will use our own peak calling algorithm to calculate differential peaks.\n",
    "\n",
    "First, let us define a peak calling function called **callDifferentialPeaks()**:"
   ]
  },
  {
   "cell_type": "code",
   "execution_count": null,
   "metadata": {},
   "outputs": [],
   "source": [
    "def callDifferentialPeaks(table, CAT1_NAMES, CAT2_NAMES):\n",
    "    '''\n",
    "    Calls peaks on two categories of peak calling data. Can be used for ATAC-seq or RNA-seq.\n",
    "    Borrowed from http://dept.stat.lsa.umich.edu/~kshedden/Python-Workshop/gene_expression_comparison.html\n",
    "\n",
    "    param1: Table data: takes for from \n",
    "    https://raw.githubusercontent.com/data-8/mcb-88-connector/gh-pages/data/lab4/dysfunctional_ATACseq_timeseries.csv\n",
    "    param1: column names of first category\n",
    "    param2: column names of second category\n",
    "    return: Table of differentially called regions\n",
    "        Positive values mean the peak was siginificantly higher in the first category\n",
    "        Negative values mean the peak was significantly higher in the second category\n",
    "    '''\n",
    "\n",
    "    # gene list\n",
    "    GID = list(table.column('symbol'))\n",
    "\n",
    "    # matrix of values\n",
    "    dropped = table.drop(['chr', 'start', 'end', 'symbol','refseqID', 'peak_annotation'])\n",
    "    X = np.array(dropped.to_df().as_matrix())\n",
    "    # list of categories\n",
    "    SID = list(table.column_labels)[6:]\n",
    "    \n",
    "    # get indices of category names\n",
    "    CAT1 = [list(dropped.column_labels).index(i) for i in CAT1_NAMES]\n",
    "    CAT2 = [list(dropped.column_labels).index(i) for i in CAT2_NAMES]\n",
    "    \n",
    "\n",
    "    ## Convert X to log scale\n",
    "    XL = np.log(X) / np.log(2)\n",
    "\n",
    "    M1 = XL[:,CAT1].mean(1) ## Mean of category 1 samples for each data point\n",
    "    M2 = XL[:,CAT2].mean(1) ## Mean of category2 samples for each data point\n",
    "    V1 = XL[:,CAT1].var(1)  ## Variance of category 1 samples for each data point\n",
    "    V2 = XL[:,CAT2].var(1)  ## Variance of category 2 samples for each data point\n",
    "    n1 = len(CAT1)          ## Number of category 1 samples\n",
    "    n2 = len(CAT2)          ## Number of category 2 samples\n",
    "\n",
    "    # calculate Z score\n",
    "    Z = (M1 - M2) / np.sqrt(V1/n1 + V2/n2)\n",
    "\n",
    "    ## Gaussian distribution CDF, pdf, quantile function, etc.\n",
    "    from scipy.stats.distributions import norm\n",
    "\n",
    "    ## The Z-score threshold under a Bonferroni correction\n",
    "    zst = -norm.ppf(0.025/Z.shape[0])\n",
    "\n",
    "    # indices of differentially expressed genes\n",
    "    ii = np.flatnonzero(np.abs(Z) > zst) \n",
    "    scores = Z[ii] # scores\n",
    "    genes = np.array(GID)[ii] # gene names\n",
    "    annotation = np.array(table.column('peak_annotation'))[ii]\n",
    "    chr = np.array(table.column('chr'))[ii]\n",
    "    start = np.array(table.column('start'))[ii]\n",
    "    end = np.array(table.column('end'))[ii]\n",
    "\n",
    "    # create new table with differential regions\n",
    "    newTable = Table().with_columns(['chr', chr, 'start', start, 'end', end,'peak_annotation', annotation, 'symbol', genes, 'score', scores])\n",
    "\n",
    "    return newTable\n"
   ]
  },
  {
   "cell_type": "markdown",
   "metadata": {},
   "source": [
    "This method takes as input the data table we are analyzing, as well as the column names of the first category and second category we would like to compare. For example, let's compare naive and 5 day effector states:"
   ]
  },
  {
   "cell_type": "code",
   "execution_count": null,
   "metadata": {},
   "outputs": [],
   "source": [
    "# get column names of category 1 and 2\n",
    "CAT1_NAMES = ['N1','N2','N3'] \n",
    "CAT2_NAMES = ['E5_1','E5_2','E5_3']\n",
    "\n",
    "calledPeaksNaive = callDifferentialPeaks(table, CAT1_NAMES, CAT2_NAMES)\n",
    "\n",
    "calledPeaksNaive"
   ]
  },
  {
   "cell_type": "markdown",
   "metadata": {},
   "source": [
    "The score column contains how different the peak was between the two categories. Positive values indicate that the peak is more accessible in the first category (i.e. more accessible in naive). Negative values indicate that the peak is more accessible in the second category (i.e. more accessible in effector)"
   ]
  },
  {
   "cell_type": "markdown",
   "metadata": {},
   "source": [
    "From this table of called peaks, we can find the all of the peaks that are more accessibile in the 5 day effector cells, relative to the naive cells."
   ]
  },
  {
   "cell_type": "code",
   "execution_count": null,
   "metadata": {},
   "outputs": [],
   "source": [
    "E5_open = calledPeaksNaive.where(calledPeaksNaive['score'] < 0).num_rows\n",
    "print(\"Number of peaks more accessibile in E5, compared to naive cells: \", E5_open)\n"
   ]
  },
  {
   "cell_type": "markdown",
   "metadata": {},
   "source": [
    "<h2 style=\"color:red\">** Question 3**</h2> \n",
    "How many peaks in the table above are less accessible in 5 day effector cells, compared to naive cells? (Save this value as a variable, as we will be plotting the value later.)"
   ]
  },
  {
   "cell_type": "code",
   "execution_count": null,
   "metadata": {},
   "outputs": [],
   "source": [
    "E5_closed = ...\n",
    "\n",
    "# YOUR CODE HERE\n",
    "raise NotImplementedError()"
   ]
  },
  {
   "cell_type": "markdown",
   "metadata": {},
   "source": [
    "<h2 style=\"color:red\">** Question 4**</h2> \n",
    "\n",
    "Find all of the differential peaks between the E5 to E7 (Effector 5 day and 7 day) cell states."
   ]
  },
  {
   "cell_type": "code",
   "execution_count": null,
   "metadata": {},
   "outputs": [],
   "source": [
    "# YOUR CODE HERE\n",
    "raise NotImplementedError()\n"
   ]
  },
  {
   "cell_type": "markdown",
   "metadata": {},
   "source": [
    "<h2 style=\"color:red\">** Question 5**</h2> \n",
    "\n",
    "How many peaks in the table above are more accessible in 7 day effector cells, compared to 5 day effector cells?\n",
    "How many peaks in the table above are less accessible in 7 day effector cells, compared to 5 day effector cells? (Save these values as variables, we will be plotting them later)"
   ]
  },
  {
   "cell_type": "code",
   "execution_count": null,
   "metadata": {},
   "outputs": [],
   "source": [
    "E7_open = ...\n",
    "E7_closed = ...\n",
    "# YOUR CODE HERE\n",
    "raise NotImplementedError()"
   ]
  },
  {
   "cell_type": "markdown",
   "metadata": {},
   "source": [
    "<h2 style=\"color:red\">** Question 6**</h2> \n",
    "\n",
    "Find all of the differential peaks between the E7 to M (Effector 7 day and memory) cell states."
   ]
  },
  {
   "cell_type": "code",
   "execution_count": null,
   "metadata": {},
   "outputs": [],
   "source": [
    "# YOUR CODE HERE\n",
    "raise NotImplementedError()"
   ]
  },
  {
   "cell_type": "markdown",
   "metadata": {},
   "source": [
    "<h2 style=\"color:red\">** Question 7**</h2> \n",
    "\n",
    "How many peaks in the table above are more accessible in memory cells, compared to 7 day effector cells?\n",
    "\n",
    "How many peaks in the table above are less accessible in memory cells, compared to 7 day effector cells? (Save these values as variables, we will be plotting them later)"
   ]
  },
  {
   "cell_type": "code",
   "execution_count": null,
   "metadata": {},
   "outputs": [],
   "source": [
    "M_open = ...\n",
    "\n",
    "M_closed = ...\n",
    "\n",
    "# YOUR CODE HERE\n",
    "raise NotImplementedError()\n"
   ]
  },
  {
   "cell_type": "markdown",
   "metadata": {},
   "source": [
    "<h2 style=\"color:red\">** Question 8**</h2> \n",
    "\n",
    "Make a bar plot that shows shows these changes in accessibility for the transitions N->E5, E5->E7, and E7->M. Plot closed peaks as negative values for easier viewing. There should be 6 total bars on the plot. Most of the code has been provided for the plot. To finish the plot, fill in the **values** variable with the differential values calculated above."
   ]
  },
  {
   "cell_type": "code",
   "execution_count": null,
   "metadata": {},
   "outputs": [],
   "source": [
    "\n",
    "category = ['N->E5\\nopen', 'N-E5\\nclosed', 'E5->E7\\nopen', 'E5-E7\\nclosed', 'E7->M\\nopen', 'E7->M\\nclosed']\n",
    "\n",
    "values = ...\n",
    "\n",
    "# YOUR CODE HERE\n",
    "raise NotImplementedError()\n",
    "\n",
    "# make table with values\n",
    "bar_table = Table().with_columns([\n",
    "    'category', category, \n",
    "    'values', values])\n",
    "bar_table\n",
    "    \n",
    "# generate bar plot\n",
    "bar_table.bar('category')"
   ]
  },
  {
   "cell_type": "markdown",
   "metadata": {},
   "source": [
    "<h2 style=\"color:red\">** Question 9**</h2> \n",
    "\n",
    "Given the bar chart above, which transition has the fewest differences in accessibily? Which transition has the most changes in accessibily?"
   ]
  },
  {
   "cell_type": "markdown",
   "metadata": {},
   "source": [
    "---\n",
    "## <span style=\"color:red\">Student Answer</span>\n",
    "\n",
    "*Double-click and add your answer between the lines*\n",
    "\n",
    "---"
   ]
  },
  {
   "cell_type": "markdown",
   "metadata": {},
   "source": [
    "Now, we will look at some of the genes and observe how their accessibility peaks change over T cell activation."
   ]
  },
  {
   "cell_type": "markdown",
   "metadata": {},
   "source": [
    "<h2 style=\"color:red\">** Question 10**</h2> \n",
    "\n",
    "The first gene, Cd44, was stated in the paper to have low expression in naive cells. Filter the table of differentially expressed genes in the peak table called **calledPeaksNaive** that overlap Cd44. (Hint: Use the **where** function from the Data Science API to filter the **symbol** column by **Cd44**.) Do the scores reflect more or less accessibility in naive cells compared to 5 day effector cells?"
   ]
  },
  {
   "cell_type": "code",
   "execution_count": null,
   "metadata": {},
   "outputs": [],
   "source": [
    "# YOUR CODE HERE\n",
    "raise NotImplementedError()"
   ]
  },
  {
   "cell_type": "markdown",
   "metadata": {},
   "source": [
    "## Part 2: Viewing ATAC-seq data in UCSC Genome Browser"
   ]
  },
  {
   "cell_type": "markdown",
   "metadata": {},
   "source": [
    "Now, we will view accessibility sites for activated T cells in the UCSC genome browser. \n",
    "\n",
    "1. Navigate to http://rstats.immgen.org/Chromatin/chromatin.html. \n",
    "2. Select ab T cells. Under the ab T cell category, select all of the NK (natural killer) cell categories. There are 4.\n",
    "![UCSC Home Page](https://raw.githubusercontent.com/data-8/mcb-88-connector/gh-pages/images/lab4/select_NKcells.png)\n",
    "    \n",
    "3. Search for the gene 'Gzma' and click 'View data on UCSC Genome Browser'\n",
    "    "
   ]
  },
  {
   "cell_type": "markdown",
   "metadata": {},
   "source": [
    "<h2 style=\"color:red\">** Question 11**</h2> \n",
    "Viewing Gzma in the genome browser, does the naive cell (NKT_Sp) look more or less accessible than the other three activated cell states?"
   ]
  },
  {
   "cell_type": "markdown",
   "metadata": {},
   "source": [
    "---\n",
    "## <span style=\"color:red\">Student Answer</span>\n",
    "\n",
    "*Double-click and add your answer between the lines*\n",
    "\n",
    "---"
   ]
  },
  {
   "cell_type": "markdown",
   "metadata": {},
   "source": [
    "<h2 style=\"color:red\">** Question 12**</h2> \n",
    "Navigate to gene cards (http://www.genecards.org/) and search for the gene **Gzma** and read the description. What process is this gene involved in? Does the function of this gene align with the accessibility trends you observed in the previous question? Explain."
   ]
  },
  {
   "cell_type": "markdown",
   "metadata": {},
   "source": [
    "---\n",
    "## <span style=\"color:red\">Student Answer</span>\n",
    "\n",
    "*Double-click and add your answer between the lines*\n",
    "\n",
    "---"
   ]
  },
  {
   "cell_type": "markdown",
   "metadata": {},
   "source": [
    "<h2 style=\"color:red\">** Bonus Question**</h2> \n",
    "Describe, in your own words, how the differential peak calling algorithm works."
   ]
  },
  {
   "cell_type": "markdown",
   "metadata": {},
   "source": [
    "---\n",
    "## <span style=\"color:red\">Student Answer</span>\n",
    "\n",
    "*Double-click and add your answer between the lines*\n",
    "\n",
    "---"
   ]
  },
  {
   "cell_type": "code",
   "execution_count": null,
   "metadata": {},
   "outputs": [],
   "source": []
  }
 ],
 "metadata": {
  "kernelspec": {
   "display_name": "Python 3",
   "language": "python",
   "name": "python3"
  },
  "language_info": {
   "codemirror_mode": {
    "name": "ipython",
    "version": 3
   },
   "file_extension": ".py",
   "mimetype": "text/x-python",
   "name": "python",
   "nbconvert_exporter": "python",
   "pygments_lexer": "ipython3",
   "version": "3.6.1"
  }
 },
 "nbformat": 4,
 "nbformat_minor": 2
}
