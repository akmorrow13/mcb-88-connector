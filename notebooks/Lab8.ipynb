{
 "cells": [
  {
   "cell_type": "markdown",
   "metadata": {
    "deletable": true,
    "editable": true
   },
   "source": [
    "# Lab 8: Immunotherapy Clinical Trials"
   ]
  },
  {
   "cell_type": "code",
   "execution_count": null,
   "metadata": {
    "collapsed": true,
    "deletable": true,
    "editable": true
   },
   "outputs": [],
   "source": [
    "# imports\n",
    "from datascience import *\n",
    "import matplotlib\n",
    "matplotlib.use('Agg')\n",
    "%matplotlib inline\n",
    "import matplotlib.pyplot as plt\n",
    "import numpy as np\n",
    "plt.style.use('fivethirtyeight')\n",
    "from sklearn.cluster import KMeans\n",
    "import pandas as pd"
   ]
  },
  {
   "cell_type": "markdown",
   "metadata": {
    "collapsed": true,
    "deletable": true,
    "editable": true
   },
   "source": [
    "# Part 1: DNA Mutations and Protein Sequences\n",
    "\n",
    "In part 1 of today's lab we will be making the connection between DNA mutations and their effect on proteins. First, let's load in the dataset for part 1. From this dataset, we store a dataframe called 'mutations', which contains clinical data for a number of patients. For each patient, we have a series of variants and information on that variant's effect on a protein sequence. We also have metadata for each variant on possible tumor alleles at each of these locations."
   ]
  },
  {
   "cell_type": "code",
   "execution_count": null,
   "metadata": {
    "collapsed": true,
    "deletable": true,
    "editable": true
   },
   "outputs": [],
   "source": [
    "# load in data for part 1\n",
    "mutations = Table.read_table('https://raw.githubusercontent.com/data-8/mcb-88-connector/gh-pages/data/lab8/TableS1.Mutation_list_all_patients.csv')\n",
    "mutations"
   ]
  },
  {
   "cell_type": "markdown",
   "metadata": {
    "deletable": true,
    "editable": true
   },
   "source": [
    "## Filtering exercise\n",
    "The next few cells will show you how to filter rows based on a condition. Let us select the patients with `Chromosome` as `21`. Let us name this new table as `chromosome_21`. You can mock this filtering functionality in future questions. "
   ]
  },
  {
   "cell_type": "code",
   "execution_count": null,
   "metadata": {
    "collapsed": true,
    "deletable": true,
    "editable": true
   },
   "outputs": [],
   "source": [
    "chromosome_21 = mutations.where(\"Chromosome\", \"21\")\n",
    "chromosome_21"
   ]
  },
  {
   "cell_type": "markdown",
   "metadata": {
    "deletable": true,
    "editable": true
   },
   "source": [
    "The next cell creates a table that gives us the distinct patients (notice that in the previous table, the same patient has been repeated) multiple times. "
   ]
  },
  {
   "cell_type": "code",
   "execution_count": null,
   "metadata": {
    "collapsed": true,
    "deletable": true,
    "editable": true
   },
   "outputs": [],
   "source": [
    "# Dropping duplicates from the previous table. These are the individual patients with Chromosome = 21\n",
    "patients_21 = chromosome_21.select('patient').group('patient').drop(1)\n",
    "patients_21"
   ]
  },
  {
   "cell_type": "code",
   "execution_count": null,
   "metadata": {
    "collapsed": true,
    "deletable": true,
    "editable": true
   },
   "outputs": [],
   "source": [
    "# counts the number of distinct patients with chromosome 21\n",
    "patients_21.num_rows"
   ]
  },
  {
   "cell_type": "markdown",
   "metadata": {
    "deletable": true,
    "editable": true
   },
   "source": [
    "So, there are 88 patients who have `Chromosome` equal to `21`."
   ]
  },
  {
   "cell_type": "markdown",
   "metadata": {
    "deletable": true,
    "editable": true
   },
   "source": [
    "<h2 style=\"color:red\">** Question 1**:</h2> \n",
    "Filter the table to find the distinct variant classes. There should be 17 classes. What are their names? (For full credit, you must get the answer programmatically)\n",
    "\n",
    "*Hint:* How did we get the distinct patients in the previous cells?"
   ]
  },
  {
   "cell_type": "code",
   "execution_count": 17,
   "metadata": {
    "collapsed": false,
    "deletable": true,
    "editable": true
   },
   "outputs": [],
   "source": [
    "## type code for answer here:\n"
   ]
  },
  {
   "cell_type": "markdown",
   "metadata": {
    "deletable": true,
    "editable": true
   },
   "source": [
    "<h2 style=\"color:red\">** Question 2**:</h2> \n",
    "Look up the meaning of the following variant classes:\n",
    "- Silent\n",
    "- Missense_Mutation\n",
    "- Nonsense_Mutation\n",
    "- Splice_Site\n",
    "\n",
    "\n",
    "What do each of these mean?"
   ]
  },
  {
   "cell_type": "markdown",
   "metadata": {
    "deletable": true,
    "editable": true
   },
   "source": [
    "<div style=\"color:red\">**Answer here:**</div> "
   ]
  },
  {
   "cell_type": "markdown",
   "metadata": {
    "deletable": true,
    "editable": true
   },
   "source": [
    "<h2 style=\"color:red\">** Question 3**:</h2> \n",
    "Filter the table to find the distinct variant types. There should be 3 classes. What are their names? (For full credit, you must get the answer programmatically)\n"
   ]
  },
  {
   "cell_type": "code",
<<<<<<< HEAD
   "execution_count": 18,
=======
   "execution_count": null,
>>>>>>> aad20e05d2ff8caed1775be8eea26e94f2076c73
   "metadata": {
    "collapsed": false,
    "deletable": true,
    "editable": true
   },
   "outputs": [],
   "source": [
    "## type code for answer here:\n"
   ]
  },
  {
   "cell_type": "markdown",
   "metadata": {
    "deletable": true,
    "editable": true
   },
   "source": [
    "<h2 style=\"color:red\">** Question 4**:</h2> \n",
    "How can each of these variant types affect protein coding differently? (I.e. How could the effect of a SNP differ from the effect of an insertion or deletion?)"
   ]
  },
  {
   "cell_type": "markdown",
   "metadata": {
    "deletable": true,
    "editable": true
   },
   "source": [
    "<div style=\"color:red\">**Answer here:**</div> "
   ]
  },
  {
   "cell_type": "markdown",
   "metadata": {
    "deletable": true,
    "editable": true
   },
   "source": [
    "## Protein Changes\n",
    "\n",
    "In the table, we have three columns labeled 'cDNA_Change', 'Codon_Change' and 'Protein_Change'.\n",
    "\n",
    "<h2 style=\"color:red\">** Question 5**:</h2> \n",
    "What is a cDNA change? a codon change? a protein change? How do their impacts on biological function differ?"
   ]
  },
  {
   "cell_type": "markdown",
   "metadata": {
    "deletable": true,
    "editable": true
   },
   "source": [
    "<div style=\"color:red\">**Answer here:**</div> "
   ]
  },
  {
   "cell_type": "markdown",
   "metadata": {
    "deletable": true,
    "editable": true
   },
   "source": [
    "<h2 style=\"color:red\">** Question 6**:</h2> \n",
    "Look at the column labeled protein change. There is a specific notation for documenting these protein changes. Go to http://www.hgvs.org/mutnomen/recs-prot.html, and navigate to the section labeled **Substitutions**. Describe the notation components for a protein change. What does p.G446E mean?"
   ]
  },
  {
   "cell_type": "markdown",
   "metadata": {
    "deletable": true,
    "editable": true
   },
   "source": [
    "<div style=\"color:red\">**Answer here:**</div> \n"
   ]
  },
  {
   "cell_type": "markdown",
   "metadata": {
    "deletable": true,
    "editable": true
   },
   "source": [
    "<h2 style=\"color:red\">** Question 7**:</h2> \n",
    "Note that in the mutations table, there are two columns for 'Tumor_Seq_Allele1' and 'Tumor_Seq_Allele2'. Explain, in words, how you would filter the table to find all patients that have a mutation that matches with either of these tumor alleles.\n"
   ]
  },
  {
   "cell_type": "markdown",
   "metadata": {
    "deletable": true,
    "editable": true
   },
   "source": [
    "<div style=\"color:red\">**Answer here:**</div> "
   ]
  },
  {
   "cell_type": "markdown",
   "metadata": {
    "deletable": true,
    "editable": true
   },
   "source": [
    "<h2 style=\"color:red\">**Extra for Experts**:</h2> \n",
    "Filter the table to find the patient mutations that result in a tumor allele. How many of these mutations are there?\n"
   ]
  },
  {
   "cell_type": "code",
<<<<<<< HEAD
   "execution_count": 7,
=======
   "execution_count": null,
>>>>>>> aad20e05d2ff8caed1775be8eea26e94f2076c73
   "metadata": {
    "collapsed": false,
    "deletable": true,
    "editable": true
   },
   "outputs": [],
   "source": [
    "## type code for answer here:\n"
   ]
  },
  {
   "cell_type": "markdown",
   "metadata": {
    "deletable": true,
    "editable": true
   },
   "source": [
    "## Part 2: Neoantigens and HLA-A\n",
    "\n",
    "For part 2 of the lab, we will be looking into how neoantigens affect immune system response. First, answer the following questions.\n"
   ]
  },
  {
   "cell_type": "markdown",
   "metadata": {
    "deletable": true,
    "editable": true
   },
   "source": [
    "<h2 style=\"color:red\">** Question 8**:</h2> \n",
    "What is a neoantigen?"
   ]
  },
  {
   "cell_type": "markdown",
   "metadata": {
    "deletable": true,
    "editable": true
   },
   "source": [
    "<div style=\"color:red\">**Answer here:**</div> "
   ]
  },
  {
   "cell_type": "markdown",
   "metadata": {
    "deletable": true,
    "editable": true
   },
   "source": [
    "<h2 style=\"color:red\">** Question 9**:</h2> \n",
    "How could the presence of neoantigens affect the role of MHC Class 1 molecules in epitope presentation to the immune system?"
   ]
  },
  {
   "cell_type": "markdown",
   "metadata": {
    "deletable": true,
    "editable": true
   },
   "source": [
    "<div style=\"color:red\">**Answer here:**</div> \n",
    "    "
   ]
  },
  {
   "cell_type": "markdown",
   "metadata": {
    "deletable": true,
    "editable": true
   },
   "source": [
    "Now, let's load in the dataset. This dataset consists of neoantigens from multiple patients. For each neoantigen, we are given the binding affinity of a specific HLA allele to both the original and mutated neoantigen."
   ]
  },
  {
   "cell_type": "code",
   "execution_count": null,
   "metadata": {
    "collapsed": true,
    "deletable": true,
    "editable": true
   },
   "outputs": [],
   "source": [
    "# load in data\n",
    "neoantigens = Table.read_table('https://raw.githubusercontent.com/data-8/mcb-88-connector/gh-pages/data/lab8/TableS4.Neoantigen_list.csv')\n",
    "neoantigens = neoantigens.to_df() #Converting to Pandas dataframe\n",
    "neoantigens"
   ]
  },
  {
   "cell_type": "markdown",
   "metadata": {
    "deletable": true,
    "editable": true
   },
   "source": [
    "<h2 style=\"color:red\">** Question 10**:</h2> \n",
    "Based on previous labs, why is it important to look at specific HLA alleles when analyzing binding affinity to different epitopes?"
   ]
  },
  {
   "cell_type": "markdown",
   "metadata": {
    "deletable": true,
    "editable": true
   },
   "source": [
    "<div style=\"color:red\">**Answer here:**</div> "
   ]
  },
  {
   "cell_type": "markdown",
   "metadata": {
    "deletable": true,
    "editable": true
   },
   "source": [
    "<h2 style=\"color:red\">** Question 11**:</h2> \n",
<<<<<<< HEAD
    "Count the number of times that the binding affinity of the original peptide is greater than the binding affinity of the mutated peptide. \n",
    "We have already converted the Table to a Pandas dataframe to make the filtering easier.\n",
    "\n",
    "*Hint:* Call the dataframe neoantigens, and filter where 'affinity_original' column > 'affinity mutated' column"
=======
    "Count the number of times that the binding affinity of the original peptide is greater than the binding affinity of the mutated peptide. (Hint: call the dataframe neoantigens, and filter where 'affinity_original' column > 'affinity mutated' column)"
>>>>>>> aad20e05d2ff8caed1775be8eea26e94f2076c73
   ]
  },
  {
   "cell_type": "code",
   "execution_count": null,
   "metadata": {
    "collapsed": false,
    "deletable": true,
    "editable": true
   },
   "outputs": [],
   "source": [
    "## type code for answer here:\n"
   ]
  },
  {
   "cell_type": "markdown",
   "metadata": {
    "deletable": true,
    "editable": true
   },
   "source": [
    "<h2 style=\"color:red\">** Question 12**:</h2> \n",
    "\n",
    "What implications might a mutated epitope have if the mutation decreases the binding affinity to the HLA allele?\n"
   ]
  },
  {
   "cell_type": "markdown",
   "metadata": {
    "deletable": true,
    "editable": true
   },
   "source": [
    "<div style=\"color:red\">**Answer here:**</div> \n"
   ]
  },
  {
   "cell_type": "markdown",
   "metadata": {
    "deletable": true,
    "editable": true
   },
   "source": [
    "<h2 style=\"color:red\">** Question 13**:</h2> \n",
<<<<<<< HEAD
    "Count the number of times that the binding affinity of the original peptide is less than the binding affinity of the mutated peptide.\n",
    "\n",
    "*Hint:* Call the dataframe neoantigens, and filter where 'affinity_original' column < 'affinity mutated' column. Similar to Q7."
=======
    "Count the number of times that the binding affinity of the original peptide is less than the binding affinity of the mutated peptide. (Hint: call the dataframe neoantigens, and filter where 'affinity_original' column < 'affinity mutated' column)"
>>>>>>> aad20e05d2ff8caed1775be8eea26e94f2076c73
   ]
  },
  {
   "cell_type": "code",
   "execution_count": null,
   "metadata": {
    "collapsed": false,
    "deletable": true,
    "editable": true
   },
   "outputs": [],
   "source": [
    "## type code for answer here:\n"
   ]
  },
  {
   "cell_type": "markdown",
   "metadata": {
    "deletable": true,
    "editable": true
   },
   "source": [
    "<h2 style=\"color:red\">** Question 14**:</h2> \n",
    "\n",
    "What implications might a mutated epitope have if the mutation increases the binding affinity of the HLA molecule?\n"
   ]
  },
  {
   "cell_type": "markdown",
   "metadata": {
    "deletable": true,
    "editable": true
   },
   "source": [
    "<div style=\"color:red\">**Answer here:**</div> "
   ]
  }
 ],
 "metadata": {
  "kernelspec": {
   "display_name": "Python 3",
   "language": "python",
   "name": "python3"
  },
  "language_info": {
   "codemirror_mode": {
    "name": "ipython",
    "version": 3
   },
   "file_extension": ".py",
   "mimetype": "text/x-python",
   "name": "python",
   "nbconvert_exporter": "python",
   "pygments_lexer": "ipython3",
   "version": "3.5.2"
  }
 },
 "nbformat": 4,
 "nbformat_minor": 2
}
