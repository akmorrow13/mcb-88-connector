{
 "cells": [
  {
   "cell_type": "markdown",
   "metadata": {},
   "source": [
    "# Lab 1: Immunotherapy Survival Rates\n",
    "\n",
    "The purpose of this lab is to introduce you to the python modules we will be using for this class, as well as the effect of cancer immunotherapy on patient survival rates.\n",
    "\n",
    "## **Note: This lab is to be done alone, as it is an assessment of programming skills required for this class.**\n",
    "\n",
    "This lab, as well as following labs, will use the datascience API. \n",
    "For more information about the datascience Table API, see http://data8.org/datascience/tutorial.html#getting-started.\n",
    "\n",
    "One of the most important skills you can learn while coding is how to use available resources, such as API docs and google search, to learn about new functions and APIs.\n",
    "**For this reason, some lab questions will require new functions not described in the lab. Please reference the Table API for guidence.**\n",
    "\n",
    "### **Read all text in this lab! Skipping explanations will inhibit your ability to answer questions.**"
   ]
  },
  {
   "cell_type": "markdown",
   "metadata": {},
   "source": [
    "## 1. Imports\n",
    "\n",
    "Imports are external dependencies you need to run your notebook. For most of the labs, we will be using the 'datascience' package. Functionality included in this package are listed at http://data8.org/datascience/tutorial.html#getting-started. We will also be using some extra packages for graphing.\n",
    "\n",
    "To run the cell below, click the 'play' button above in the tools panel at the top of your page."
   ]
  },
  {
   "cell_type": "code",
   "execution_count": 58,
   "metadata": {},
   "outputs": [
    {
     "name": "stderr",
     "output_type": "stream",
     "text": [
      "/Library/Frameworks/Python.framework/Versions/3.5/lib/python3.5/site-packages/matplotlib/__init__.py:1357: UserWarning:  This call to matplotlib.use() has no effect\n",
      "because the backend has already been chosen;\n",
      "matplotlib.use() must be called *before* pylab, matplotlib.pyplot,\n",
      "or matplotlib.backends is imported for the first time.\n",
      "\n",
      "  warnings.warn(_use_error_msg)\n"
     ]
    }
   ],
   "source": [
    "# imports\n",
    "from datascience import Table\n",
    "import matplotlib\n",
    "matplotlib.use('Agg')\n",
    "from datascience import Table\n",
    "%matplotlib inline\n",
    "import matplotlib.pyplot as plt\n",
    "import numpy as np\n",
    "plt.style.use('fivethirtyeight')"
   ]
  },
  {
   "cell_type": "markdown",
   "metadata": {},
   "source": [
    "<h2 style=\"color:red\">** Question 1**</h2> \n",
    "What is the purpose of an import?"
   ]
  },
  {
   "cell_type": "markdown",
   "metadata": {},
   "source": [
    "Answer here:\n",
    "To load in prewritten modules to be used."
   ]
  },
  {
   "cell_type": "markdown",
   "metadata": {},
   "source": [
    "## 2. Importing and Reading Data\n",
    "\n",
    "We can use Tables, imported above, to import and read comma delimited files (csv) or tab delimited files (tsv) into our notebook. As an exercise, we will import data containing survival rates of patients treated with nivolumab (NIVO), an immunotherapy treatment. This data came from the following abstract: http://cancerres.aacrjournals.org/content/76/14_Supplement/CT001.\n",
    "\n",
    "There are two cohorts in this study. The first cohort, labeled (Survival rate (NIVO treated N=17)) contains 17 patients treated with NIVO. The second cohort, labeled (Survival rate (All patients N=107)), contains both patients treated with NIVO and patients treated with NIVO who were priorly treated with other therapies.\n",
    "\n",
    "\n",
    "First, read in the data to a table:"
   ]
  },
  {
   "cell_type": "code",
   "execution_count": 59,
   "metadata": {
    "collapsed": true
   },
   "outputs": [],
   "source": [
    "# Read in csv file into a table\n",
    "table = Table.read_table('https://raw.githubusercontent.com/data-8/mcb-88-connector/gh-pages/data/lab1/NIVO_patient_survival.csv')"
   ]
  },
  {
   "cell_type": "markdown",
   "metadata": {},
   "source": [
    "### Now, print the table:"
   ]
  },
  {
   "cell_type": "code",
   "execution_count": 60,
   "metadata": {},
   "outputs": [
    {
     "name": "stdout",
     "output_type": "stream",
     "text": [
      "Months | Survival rate (NIVO treated N=17) | Survival rate (All patients N=107)\n",
      "12     | 64.7                              | 62.7\n",
      "24     | 47.1                              | 48\n",
      "36     | 41.2                              | 42.1\n",
      "48     | 35.3                              | 34.8\n",
      "60     | 35.3                              | 33.6\n"
     ]
    }
   ],
   "source": [
    "print(table)"
   ]
  },
  {
   "cell_type": "markdown",
   "metadata": {},
   "source": [
    "This table contains survival rates over 60 Months for patients with advanced melanoma treated with NIVO, an immunotherapy treatment."
   ]
  },
  {
   "cell_type": "markdown",
   "metadata": {},
   "source": [
    "## 3. Accessing and Manipulating Data Tables\n",
    "Now, we can use our table to learn more about our dataset. Let's print the survival rates of patients treated with NIVO."
   ]
  },
  {
   "cell_type": "code",
   "execution_count": 61,
   "metadata": {},
   "outputs": [
    {
     "data": {
      "text/plain": [
       "array([ 64.7,  47.1,  41.2,  35.3,  35.3])"
      ]
     },
     "execution_count": 61,
     "metadata": {},
     "output_type": "execute_result"
    }
   ],
   "source": [
    "table.column('Survival rate (NIVO treated N=17)')"
   ]
  },
  {
   "cell_type": "markdown",
   "metadata": {},
   "source": [
    "For our next exercise, we will look at the survival rates for the last 2 years (months > 36)."
   ]
  },
  {
   "cell_type": "code",
   "execution_count": 62,
   "metadata": {},
   "outputs": [
    {
     "data": {
      "text/html": [
       "<table border=\"1\" class=\"dataframe\">\n",
       "    <thead>\n",
       "        <tr>\n",
       "            <th>Months</th> <th>Survival rate (NIVO treated N=17)</th> <th>Survival rate (All patients N=107)</th>\n",
       "        </tr>\n",
       "    </thead>\n",
       "    <tbody>\n",
       "        <tr>\n",
       "            <td>48    </td> <td>35.3                             </td> <td>34.8                              </td>\n",
       "        </tr>\n",
       "    </tbody>\n",
       "        <tr>\n",
       "            <td>60    </td> <td>35.3                             </td> <td>33.6                              </td>\n",
       "        </tr>\n",
       "    </tbody>\n",
       "</table>"
      ],
      "text/plain": [
       "Months | Survival rate (NIVO treated N=17) | Survival rate (All patients N=107)\n",
       "48     | 35.3                              | 34.8\n",
       "60     | 35.3                              | 33.6"
      ]
     },
     "execution_count": 62,
     "metadata": {},
     "output_type": "execute_result"
    }
   ],
   "source": [
    "table.where(table['Months'] > 36)"
   ]
  },
  {
   "cell_type": "markdown",
   "metadata": {},
   "source": [
    "<h2 style=\"color:red\">** Question 2**</h2> \n",
    "\n",
    "What do you notice about the survival rates for 48 adn 60 months for the NIVO treated cohort?"
   ]
  },
  {
   "cell_type": "markdown",
   "metadata": {},
   "source": [
    "Answer here:\n",
    "\n",
    "The values are the same.\n"
   ]
  },
  {
   "cell_type": "markdown",
   "metadata": {},
   "source": [
    "## 5. Visualizing Data\n",
    "\n",
    "The table command has many built in functions used to visualize your data. Built in plots allow you to make line plots, scatter plots, box plots and others. "
   ]
  },
  {
   "cell_type": "markdown",
   "metadata": {},
   "source": [
    "<h2 style=\"color:red\">** Question 3**</h2> \n",
    "\n",
    "Plot the survival rates for both cohorts (Nivo treated and all patients) on a line graph. **(Hint: you will need to use the plot function, specified in the datascience API.)**"
   ]
  },
  {
   "cell_type": "code",
   "execution_count": 63,
   "metadata": {},
   "outputs": [
    {
     "data": {
      "image/png": "[encoded data removed]",
      "text/plain": [
       "<matplotlib.figure.Figure at 0x10a8f26d8>"
      ]
     },
     "metadata": {},
     "output_type": "display_data"
    }
   ],
   "source": [
    "# Answer here:\n",
    "table.plot('Months')\n"
   ]
  },
  {
   "cell_type": "markdown",
   "metadata": {},
   "source": [
    "## 6. Working with Pandas Dataframes\n",
    "\n",
    "Sometimes, there are questions we want to ask which the datascience API can not calculate. For these questions, we will convert our tables to a pandas dataframe (http://pandas.pydata.org/pandas-docs/version/0.15.2/10min.html). Pandas dataframes have an expansive API that allow us to answer more complex questions from our data. If you are unfamiliar with pandas dataframes, please take some time to review.\n",
    "\n",
    "To convert from a datascience table to a pandas dataframe, use the **to_df()** function, specified in the datascience API. To select columns in a pandas dataframe you can call **df[['column name']]** to select a column called 'column_name'."
   ]
  },
  {
   "cell_type": "markdown",
   "metadata": {},
   "source": [
    "<h2 style=\"color:red\">** Question 4**</h2> \n",
    "\n",
    "Calculate the mean survival rate across both cohorts, for each timespan. Your result should contain 5 values, 1 mean for each timepoint. **(Hint: You will first convert to a pandas dataframe, then use the mean function to calculate mean survival rates of the two cohorts)** Here is a link to the pandas mean function: https://pandas.pydata.org/pandas-docs/stable/generated/pandas.DataFrame.mean.html"
   ]
  },
  {
   "cell_type": "code",
   "execution_count": 64,
   "metadata": {},
   "outputs": [
    {
     "data": {
      "text/plain": [
       "0    63.70\n",
       "1    47.55\n",
       "2    41.65\n",
       "3    35.05\n",
       "4    34.45\n",
       "dtype: float64"
      ]
     },
     "execution_count": 64,
     "metadata": {},
     "output_type": "execute_result"
    }
   ],
   "source": [
    "# Answer here:\n",
    "# Convert to df and select columns\n",
    "selected = table.to_df()[['Survival rate (NIVO treated N=17)','Survival rate (All patients N=107)']]\n",
    "\n",
    "# get mean on row axis\n",
    "selected.mean(axis=1)"
   ]
  },
  {
   "cell_type": "markdown",
   "metadata": {
    "collapsed": true
   },
   "source": [
    "<h2 style=\"color:red\">** Question 5**</h2> \n",
    "What is the mean survival rate at 4 years? At 5 years?"
   ]
  },
  {
   "cell_type": "markdown",
   "metadata": {},
   "source": [
    "Answer text here (no code required):\n",
    "\n",
    "35.05, 34.45"
   ]
  },
  {
   "cell_type": "markdown",
   "metadata": {},
   "source": [
    "<h2 style=\"color:red\">** Question 6**</h2> \n",
    "\n",
    "The authors of this datasource state that the survival rates plateau around 48 months. Does the plot support this claim for both cohorts? What implications would this plateau effect have for treated cancer patients?"
   ]
  },
  {
   "cell_type": "markdown",
   "metadata": {},
   "source": [
    "Answer here:\n",
    "\n",
    "It means patients are actually getting better, without regression."
   ]
  },
  {
   "cell_type": "markdown",
   "metadata": {},
   "source": [
    "<h2 style=\"color:red\">** Question 7**</h2> \n",
    "\n",
    "Would you expect a survival rate curve for patients treated with chemotherapy to pleatau? Why or why not?"
   ]
  },
  {
   "cell_type": "markdown",
   "metadata": {},
   "source": [
    "Answer here:\n",
    "\n",
    "No pleateau, there is usually regression back to cancer."
   ]
  }
 ],
 "metadata": {
  "kernelspec": {
   "display_name": "Python 3",
   "language": "python",
   "name": "python3"
  },
  "language_info": {
   "codemirror_mode": {
    "name": "ipython",
    "version": 3
   },
   "file_extension": ".py",
   "mimetype": "text/x-python",
   "name": "python",
   "nbconvert_exporter": "python",
   "pygments_lexer": "ipython3",
   "version": "3.5.2"
  },
  "timetravel": {
   "allowedContentTypes": [
    "text/plain"
   ],
   "enabled": false,
   "version": "1.0"
  }
 },
 "nbformat": 4,
 "nbformat_minor": 1
}
