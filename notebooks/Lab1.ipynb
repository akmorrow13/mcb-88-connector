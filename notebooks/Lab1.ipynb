{
 "cells": [
  {
   "cell_type": "markdown",
   "metadata": {},
   "source": [
    "# Lab 1: Immunotherapy Survival Rates\n",
    "\n",
    "The purpose of this lab is to introduce you to the python modules we will be using for this class, as well as the effect of cancer immunotherapy on patient survival rates.\n",
    "\n",
    "## **Note: This lab is to be done alone, as it is an assessment of programming skills required for this class.**\n",
    "\n",
    "This lab, as well as following labs, will use the datascience API. \n",
    "For more information about the datascience Table API, see http://data8.org/datascience/tutorial.html#getting-started.\n",
    "\n",
    "One of the most important skills you can learn while coding is how to use available resources, such as API docs and google search, to learn about new functions and APIs.\n",
    "**For this reason, some lab questions will require new functions not described in the lab. Please reference the Table API for guidence.**\n",
    "\n",
    "### **Read all text in this lab! Skipping explanations will inhibit your ability to answer questions.**"
   ]
  },
  {
   "cell_type": "markdown",
   "metadata": {},
   "source": [
    "## 1. Imports\n",
    "\n",
    "Imports are external dependencies you need to run your notebook. For most of the labs, we will be using the 'datascience' package. Functionality included in this package are listed at http://data8.org/datascience/tutorial.html#getting-started. We will also be using some extra packages for graphing.\n",
    "\n",
    "To run the cell below, click the 'play' button above in the tools panel at the top of your page."
   ]
  },
  {
   "cell_type": "code",
   "execution_count": null,
   "metadata": {
    "collapsed": true
   },
   "outputs": [],
   "source": [
    "# imports\n",
    "from datascience import Table\n",
    "import matplotlib\n",
    "matplotlib.use('Agg')\n",
    "from datascience import Table\n",
    "%matplotlib inline\n",
    "import matplotlib.pyplot as plt\n",
    "import numpy as np\n",
    "plt.style.use('fivethirtyeight')"
   ]
  },
  {
   "cell_type": "markdown",
   "metadata": {},
   "source": [
    "<h2 style=\"color:red\">** Question 1**</h2> \n",
    "What is the purpose of an import?"
   ]
  },
  {
   "cell_type": "markdown",
   "metadata": {},
   "source": [
    "Answer here:\n"
   ]
  },
  {
   "cell_type": "markdown",
   "metadata": {},
   "source": [
    "## 2. Importing and Reading Data\n",
    "\n",
    "We can use Tables, imported above, to import and read comma delimited files (csv) or tab delimited files (tsv) into our notebook. As an exercise, we will import data containing survival rates of patients treated with nivolumab (NIVO), an immunotherapy treatment. This data came from the following abstract: http://cancerres.aacrjournals.org/content/76/14_Supplement/CT001.\n",
    "\n",
    "There are two cohorts in this study. The first cohort, labeled (Survival rate (NIVO treated N=17)) contains 17 patients treated with NIVO. The second cohort, labeled (Survival rate (All patients N=107)), contains both patients treated with NIVO and patients treated with NIVO who were priorly treated with other therapies.\n",
    "\n",
    "\n",
    "First, read in the data to a table:"
   ]
  },
  {
   "cell_type": "code",
   "execution_count": null,
   "metadata": {
    "collapsed": true
   },
   "outputs": [],
   "source": [
    "# Read in csv file into a table\n",
    "table = Table.read_table('https://raw.githubusercontent.com/data-8/mcb-88-connector/gh-pages/data/lab1/NIVO_patient_survival.csv')"
   ]
  },
  {
   "cell_type": "markdown",
   "metadata": {},
   "source": [
    "### Now, print the table:"
   ]
  },
  {
   "cell_type": "code",
   "execution_count": null,
   "metadata": {
    "collapsed": true
   },
   "outputs": [],
   "source": [
    "table"
   ]
  },
  {
   "cell_type": "markdown",
   "metadata": {},
   "source": [
    "This table contains survival rates over 60 Months for patients with advanced melanoma treated with NIVO, an immunotherapy treatment."
   ]
  },
  {
   "cell_type": "markdown",
   "metadata": {},
   "source": [
    "## 3. Accessing and Manipulating Data Tables\n",
    "Now, we can use our table to learn more about our dataset. Let's print the survival rates of patients treated with NIVO."
   ]
  },
  {
   "cell_type": "code",
   "execution_count": null,
   "metadata": {
    "collapsed": true
   },
   "outputs": [],
   "source": [
    "table.column('Survival rate (NIVO treated N=17)')"
   ]
  },
  {
   "cell_type": "markdown",
   "metadata": {},
   "source": [
    "For our next exercise, we will look at the survival rates for the last 2 years (months > 36)."
   ]
  },
  {
   "cell_type": "code",
   "execution_count": null,
   "metadata": {
    "collapsed": true
   },
   "outputs": [],
   "source": [
    "table.where(table['Months'] > 36)"
   ]
  },
  {
   "cell_type": "markdown",
   "metadata": {},
   "source": [
    "<h2 style=\"color:red\">** Question 2**</h2> \n",
    "\n",
    "What difference in survival rates for 48 and 60 months do you see when comparing the two cohorts?"
   ]
  },
  {
   "cell_type": "markdown",
   "metadata": {},
   "source": [
    "Answer here:\n",
    "\n"
   ]
  },
  {
   "cell_type": "markdown",
   "metadata": {},
   "source": [
    "## 5. Visualizing Data\n",
    "\n",
    "The table command has many built in functions used to visualize your data. Built in plots allow you to make line plots, scatter plots, box plots and others. "
   ]
  },
  {
   "cell_type": "markdown",
   "metadata": {},
   "source": [
    "<h2 style=\"color:red\">** Question 3**</h2> \n",
    "\n",
    "Plot the survival rates for both cohorts (Nivo treated and all patients) on a line graph. **(Hint: you will need to use the plot function, specified in the datascience API.)**"
   ]
  },
  {
   "cell_type": "code",
   "execution_count": null,
   "metadata": {
    "collapsed": true
   },
   "outputs": [],
   "source": [
    "# Answer here\n",
    "\n"
   ]
  },
  {
   "cell_type": "markdown",
   "metadata": {},
   "source": [
    "## 6. Working with Pandas Dataframes\n",
    "\n",
    "Sometimes, there are questions we want to ask which the datascience API can not calculate. For these questions, we will convert our tables to a pandas dataframe (http://pandas.pydata.org/pandas-docs/version/0.15.2/10min.html). Pandas dataframes have an expansive API that allow us to answer more complex questions from our data. If you are unfamiliar with pandas dataframes, please take some time to review.\n",
    "\n",
    "To convert from a datascience table to a pandas dataframe, use the **to_df()** function, specified in the datascience API. To select columns in a pandas dataframe you can call **df[['column name']]** to select a column called 'column_name'."
   ]
  },
  {
   "cell_type": "markdown",
   "metadata": {},
   "source": [
    "<h2 style=\"color:red\">** Question 4**</h2> \n",
    "\n",
    "Calculate the mean survival rate across both cohorts, for each timespan. Your result should contain 5 values, 1 mean for each timepoint. **(Hint: You will first convert to a pandas dataframe, then use the mean function to calculate mean survival rates of the two cohorts)** Here is a link to the pandas mean function: https://pandas.pydata.org/pandas-docs/stable/generated/pandas.DataFrame.mean.html"
   ]
  },
  {
   "cell_type": "code",
   "execution_count": null,
   "metadata": {
    "collapsed": true
   },
   "outputs": [],
   "source": [
    "# Answer here"
   ]
  },
  {
   "cell_type": "markdown",
   "metadata": {
    "collapsed": true
   },
   "source": [
    "<h2 style=\"color:red\">** Question 5**</h2> \n",
    "What is the mean survival rate at 4 years? At 5 years?"
   ]
  },
  {
   "cell_type": "markdown",
   "metadata": {},
   "source": [
    "Answer text here (no code required):\n"
   ]
  },
  {
   "cell_type": "markdown",
   "metadata": {},
   "source": [
    "<h2 style=\"color:red\">** Question 6**</h2> \n",
    "\n",
    "The authors of this datasource state that the survival rates plateau around 48 months for NIVO treated patients. Does the plot support this claim for both cohorts? What implications would this plateau effect have for treated cancer patients?"
   ]
  },
  {
   "cell_type": "markdown",
   "metadata": {},
   "source": [
    "Answer here:\n"
   ]
  },
  {
   "cell_type": "markdown",
   "metadata": {},
   "source": [
    "<h2 style=\"color:red\">** Question 7**</h2> \n",
    "\n",
    "Would you expect a survival rate curve for patients treated with chemotherapy to pleatau? Why or why not?"
   ]
  },
  {
   "cell_type": "markdown",
   "metadata": {},
   "source": [
    "Answer here:\n"
   ]
  }
 ],
 "metadata": {
  "kernelspec": {
   "display_name": "Python 3",
   "language": "python",
   "name": "python3"
  },
  "language_info": {
   "codemirror_mode": {
    "name": "ipython",
    "version": 3
   },
   "file_extension": ".py",
   "mimetype": "text/x-python",
   "name": "python",
   "nbconvert_exporter": "python",
   "pygments_lexer": "ipython3",
   "version": "3.5.2"
  },
  "timetravel": {
   "allowedContentTypes": [
    "text/plain"
   ],
   "enabled": false,
   "version": "1.0"
  }
 },
 "nbformat": 4,
 "nbformat_minor": 1
}
