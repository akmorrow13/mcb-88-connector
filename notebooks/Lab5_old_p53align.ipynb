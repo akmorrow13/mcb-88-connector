{
 "cells": [
  {
   "cell_type": "markdown",
   "metadata": {},
   "source": [
    "## Lab 3: Sequence Alignment of p53 Protein"
   ]
  },
  {
   "cell_type": "markdown",
   "metadata": {},
   "source": [
    "For this lab, we will be aligning multiple variations of the p53 protein sequence. The p53 protein is a tumor suppressor protein. To learn more about p53, see https://en.wikipedia.org/wiki/TP53.\n",
    "\n",
    "Additionally, look here for a more in depth description of p53 mutants: http://genesdev.cshlp.org/content/26/12/1268.full"
   ]
  },
  {
   "cell_type": "markdown",
   "metadata": {
    "collapsed": false
   },
   "source": [
    "Our data will come from the NCBI database (see https://www.ncbi.nlm.nih.gov/protein). For this lab, we take multiple isoforms of the p53 protein sequence and compare their sequence differences."
   ]
  },
  {
   "cell_type": "markdown",
   "metadata": {
    "collapsed": true
   },
   "source": [
    "## Importing the Dependencies"
   ]
  },
  {
   "cell_type": "code",
   "execution_count": null,
   "metadata": {
    "collapsed": false
   },
   "outputs": [],
   "source": [
    "# imports\n",
    "from datascience import Table\n"
   ]
  },
  {
   "cell_type": "code",
   "execution_count": null,
   "metadata": {
    "collapsed": false
   },
   "outputs": [],
   "source": [
    "# load in data for part 1\n",
    "table = Table.read_table('https://raw.githubusercontent.com/data-8/mcb-88-connector/gh-pages/data/lab3/p53_sequences.csv')\n",
    "table"
   ]
  },
  {
   "cell_type": "markdown",
   "metadata": {},
   "source": [
    "# Part 1: Distances Between Sequences"
   ]
  },
  {
   "cell_type": "markdown",
   "metadata": {},
   "source": [
    "One approach to calculating distance between sequences is Hamming Distance. The hamming distance between two strings of equal length is the number of positions in which they differ. \n",
    "\n",
    "For example, 'Hello, Dolly!' and 'Help-, Dolly!' have Hamming Distance 2."
   ]
  },
  {
   "cell_type": "markdown",
   "metadata": {},
   "source": [
    "## Question 1\n",
    "Calculate the hamming distance **(by hand)** for DNA sequences \"ATGCCCCCG\" and \"ATGAACCCC\"."
   ]
  },
  {
   "cell_type": "markdown",
   "metadata": {},
   "source": [
    "Answer: "
   ]
  },
  {
   "cell_type": "markdown",
   "metadata": {},
   "source": [
    "The function below calculates the Hamming Distance between two strings."
   ]
  },
  {
   "cell_type": "code",
   "execution_count": null,
   "metadata": {
    "collapsed": false
   },
   "outputs": [],
   "source": [
    "# function that calculates the distance between 2 strings s1 and s2\n",
    "def hammingDistance(s1, s2):\n",
    "    '''For two strings s1 and s2, output the number of position that they differ in.\n",
    "    Strings s1 and s2 must be the same length.'''\n",
    "    if len(s1)!=len(s2):\n",
    "        return('The input strings are not of the same length.')\n",
    "    else:\n",
    "        return(sum([i!=j for i,j in zip(s1, s2)]))\n",
    "    \n"
   ]
  },
  {
   "cell_type": "markdown",
   "metadata": {},
   "source": [
    "This next function, called visualizeHammingDistance(), visualizes the locations of the differences between two strings."
   ]
  },
  {
   "cell_type": "code",
   "execution_count": null,
   "metadata": {
    "collapsed": true
   },
   "outputs": [],
   "source": [
    "# function that visualizes the differences between two strings s1 and s2\n",
    "def visualizeHammingDistance(expected, actual):\n",
    "    if len(expected)!=len(actual):\n",
    "        return('The input strings are not of the same length.')\n",
    "    diff = list('-') * len(expected)\n",
    "    \n",
    "    # convert strings to lists of chars\n",
    "    expectedArray = list(expected)\n",
    "    actualArray = list(actual)\n",
    "    \n",
    "    # zip lists together\n",
    "    zipped = zip(expectedArray, actualArray)\n",
    "    \n",
    "    # for each char, if different, add to list of characters\n",
    "    for i, n in enumerate(zipped):\n",
    "        if n[0]!=n[1]: \n",
    "            diff[i]=n[1]\n",
    "    \n",
    "    return ''.join(diff)"
   ]
  },
  {
   "cell_type": "markdown",
   "metadata": {},
   "source": [
    "Using the 'Hello, Dolly!', we will calculate the hamming distance:"
   ]
  },
  {
   "cell_type": "code",
   "execution_count": null,
   "metadata": {
    "collapsed": false
   },
   "outputs": [],
   "source": [
    "hammingDistance('Hello, Dolly!','Help-, Dolly!')"
   ]
  },
  {
   "cell_type": "markdown",
   "metadata": {},
   "source": [
    "## Question 2\n",
    "Make sure that you get the same distance from the strings in **Question 1** using the hammingDistance() function."
   ]
  },
  {
   "cell_type": "code",
   "execution_count": null,
   "metadata": {
    "collapsed": false
   },
   "outputs": [],
   "source": [
    "# Answer: "
   ]
  },
  {
   "cell_type": "markdown",
   "metadata": {},
   "source": [
    "## Question 3\n",
    "\n",
    "Using the visualizeHammingDistance() function, visualize the difference in the two DNA sequences from **Question 1**.\n",
    "Does the output change if you switch the order of inputs in the function?"
   ]
  },
  {
   "cell_type": "code",
   "execution_count": null,
   "metadata": {
    "collapsed": true
   },
   "outputs": [],
   "source": [
    "# Answer:"
   ]
  },
  {
   "cell_type": "markdown",
   "metadata": {},
   "source": [
    "## Part 2: Calculating the distance between p53 sequences."
   ]
  },
  {
   "cell_type": "markdown",
   "metadata": {},
   "source": [
    "Now, let's look at the protein sequences for p53."
   ]
  },
  {
   "cell_type": "markdown",
   "metadata": {},
   "source": [
    "## Question 4\n",
    "Lookup p53 online and list some of the traits and functions of p53. Start here for a resource:  https://en.wikipedia.org/wiki/TP53."
   ]
  },
  {
   "cell_type": "markdown",
   "metadata": {},
   "source": [
    "Answer:"
   ]
  },
  {
   "cell_type": "markdown",
   "metadata": {},
   "source": [
    "## Question 5\n",
    "Given the sequence descriptions in the table, what are the two main types of mutations we can see in these sequences?"
   ]
  },
  {
   "cell_type": "markdown",
   "metadata": {},
   "source": [
    "Answer:"
   ]
  },
  {
   "cell_type": "markdown",
   "metadata": {},
   "source": [
    "## Question 6\n",
    "Search for these mutations listed in the table descriptions. What are the difference between these two mutations?"
   ]
  },
  {
   "cell_type": "markdown",
   "metadata": {},
   "source": [
    "Answer:"
   ]
  },
  {
   "cell_type": "markdown",
   "metadata": {},
   "source": [
    "## Question 7\n",
    "Calculate the hamming distance for all pairs of sequences in the table. There are 6 total comparisons."
   ]
  },
  {
   "cell_type": "code",
   "execution_count": null,
   "metadata": {
    "collapsed": false
   },
   "outputs": [],
   "source": [
    "# Answer"
   ]
  },
  {
   "cell_type": "markdown",
   "metadata": {},
   "source": [
    "## Question 8\n",
    "A. Using the visualize visualizeHammingDistance() function, visualize the difference between all pairs of sequences in the table and print out the results. There are 6 total comparisons.\n",
    "\n",
    "B. From these comparisons, can you pinpoint the location of the mutations discovered in **Question 5**?"
   ]
  },
  {
   "cell_type": "code",
   "execution_count": null,
   "metadata": {
    "collapsed": true
   },
   "outputs": [],
   "source": [
    "# A. Answer: sequence comparison"
   ]
  },
  {
   "cell_type": "markdown",
   "metadata": {},
   "source": [
    "B. Answer: "
   ]
  },
  {
   "cell_type": "markdown",
   "metadata": {},
   "source": [
    "## Question 9 \n",
    "On a scale from 1 to 10 (1 being worst, 10 being best), please rate this lab in terms of its:\n",
    "1. Clarity\n",
    "2. Difficulty\n",
    "3. Length\n",
    "4. Insight"
   ]
  },
  {
   "cell_type": "markdown",
   "metadata": {
    "collapsed": true
   },
   "source": [
    "Answer:"
   ]
  }
 ],
 "metadata": {
  "kernelspec": {
   "display_name": "Python 3",
   "language": "python",
   "name": "python3"
  },
  "language_info": {
   "codemirror_mode": {
    "name": "ipython",
    "version": 3
   },
   "file_extension": ".py",
   "mimetype": "text/x-python",
   "name": "python",
   "nbconvert_exporter": "python",
   "pygments_lexer": "ipython3",
   "version": "3.5.2"
  }
 },
 "nbformat": 4,
 "nbformat_minor": 0
}
