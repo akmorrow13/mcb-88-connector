{
 "cells": [
  {
   "cell_type": "code",
   "execution_count": null,
   "metadata": {
    "collapsed": false
   },
   "outputs": [],
   "source": [
    "# imports\n",
    "from datascience import Table\n",
    "import matplotlib\n",
    "matplotlib.use('Agg')\n",
    "from datascience import Table\n",
    "%matplotlib inline\n",
    "import matplotlib.pyplot as plt\n",
    "import numpy as np\n",
    "plt.style.use('fivethirtyeight')\n",
    "from sklearn.cluster import KMeans"
   ]
  },
  {
   "cell_type": "markdown",
   "metadata": {},
   "source": [
    "# Part 1\n",
    "This lab, as well as following labs, will use the datascience API. For more information about the datascience Table API, see http://data8.org/datascience/tutorial.html#getting-started.\n",
    "\n",
    "For part 1 of the lab, we will investigate the expression of 1000 genes in CD8+ T cells in mice infected with vesicular stomatitis virus infection over six days. This data is from the Immgen database, and can be can be explored at http://rstats.immgen.org/PopulationComparison/.\n",
    "\n",
    "## Load in the Data\n",
    "\n",
    "1. First, load in the data for '../data/lab2/lab2_immgen.csv' using the read_table function."
   ]
  },
  {
   "cell_type": "code",
   "execution_count": null,
   "metadata": {
    "collapsed": false
   },
   "outputs": [],
   "source": [
    "# load in data for part 1\n",
    "table1 = Table.read_table('https://raw.githubusercontent.com/data-8/mcb-88-connector/gh-pages/data/lab2/lab2_immgen.csv')\n",
    "table1"
   ]
  },
  {
   "cell_type": "markdown",
   "metadata": {},
   "source": [
    "### What do the table headers mean?\n",
    "For each gene, we are given a gene symbol and description. Other values include fold change (FC) and mean expression. We will discuss mean expression in part 2. \n",
    "\n",
    "A description of fold change: https://en.wikipedia.org/wiki/Fold_change\n"
   ]
  },
  {
   "cell_type": "markdown",
   "metadata": {},
   "source": [
    "The data loaded in shows 1000 genes and their mean expression after 6 days of incubation. This expression value is shown in the column labeled 'mean_6d'. \n",
    "\n",
    "First, let's sort the genes by expression. First, we will sort in order of descending expression to find the 3 highest expressed genes."
   ]
  },
  {
   "cell_type": "code",
   "execution_count": null,
   "metadata": {
    "collapsed": false
   },
   "outputs": [],
   "source": [
    "# sort by mean_6d descending then choose top 3\n",
    "\n",
    "# First, select the Gene symbol and mean expression columns\n",
    "expression = table1.select(['Gene_Symbol', 'mean_6d'])\n",
    "\n",
    "# Next, sort by mean expression. Set descending to true.\n",
    "sortedDescending = expression.sort('mean_6d', descending = True)\n",
    "\n",
    "# Select the top 3 expressed genes\n",
    "print(sortedDescending.rows[0], sortedDescending.rows[1], sortedDescending.rows[2])"
   ]
  },
  {
   "cell_type": "markdown",
   "metadata": {},
   "source": [
    "Here, we see the highest expressed genes are Cc15, Hist1h3b, and Hist2h3b.\n",
    "\n",
    "## Question 1\n",
    "Using the **sort()** functionality for table, what are the 3 lowest expressed genes and their expression values? "
   ]
  },
  {
   "cell_type": "code",
   "execution_count": null,
   "metadata": {
    "collapsed": true
   },
   "outputs": [],
   "source": [
    "# Answer here:"
   ]
  },
  {
   "cell_type": "markdown",
   "metadata": {},
   "source": [
    "## Question 2\n",
    "Still using the sort() function, find the genes with top 3 and lowest 3 fold counts (FC)? Are these the same as the top and lowest genes expressed above? Why or why not?"
   ]
  },
  {
   "cell_type": "code",
   "execution_count": null,
   "metadata": {
    "collapsed": true
   },
   "outputs": [],
   "source": [
    "# Answer here:"
   ]
  },
  {
   "cell_type": "markdown",
   "metadata": {},
   "source": [
    "## Question 3\n",
    "A. Plot the naive and 6 day expressions, with naive (mean_naive) on the x axis and 6 day (mean_6d). \n",
    "\n",
    "\n",
    "B. What does this plot tell you about relative expression after 6 days of incubation?\n",
    "\n",
    "**Answer here:**"
   ]
  },
  {
   "cell_type": "code",
   "execution_count": null,
   "metadata": {
    "collapsed": false
   },
   "outputs": [],
   "source": [
    "plot_data = table1.select(['mean_naive', 'mean_6d'])\n",
    "\n",
    "# Answer here: Plot the plot_data, using the '.scatter' function\n"
   ]
  },
  {
   "cell_type": "markdown",
   "metadata": {},
   "source": [
    "# Part 2"
   ]
  },
  {
   "cell_type": "markdown",
   "metadata": {},
   "source": [
    "For part 2 of the lab, we will gather timeseries data for the expression of 42 genes from 0 hours to 100 days. The goal of this exercise is to find relationships among genes using k-means clustering. A description of k-means clustering can be found here: \n",
    "We will be using the sklearn implementation: http://scikit-learn.org/stable/modules/generated/sklearn.cluster.KMeans.html"
   ]
  },
  {
   "cell_type": "code",
   "execution_count": null,
   "metadata": {
    "collapsed": false
   },
   "outputs": [],
   "source": [
    "# load in data for part 2\n",
    "table2 = Table.read_table('https://raw.githubusercontent.com/data-8/mcb-88-connector/gh-pages/data/lab2/immgen_timeseries.csv')\n",
    "\n",
    "# Show the table\n",
    "table2"
   ]
  },
  {
   "cell_type": "markdown",
   "metadata": {},
   "source": [
    "### What do the table headers mean?\n",
    "In this table, 'mean_n' indicates mean gene expression for naive cells. 'mean_12h' indicates mean expression after 12 hours, etc."
   ]
  },
  {
   "cell_type": "markdown",
   "metadata": {},
   "source": [
    "Fit 10 clusters to the 42 genes available in immgen_timeseries.csv. You first must convert the dataframe into an np matrix. To do so, select relevant columns, then call `table.to_df().as_matrix()`."
   ]
  },
  {
   "cell_type": "code",
   "execution_count": null,
   "metadata": {
    "collapsed": false
   },
   "outputs": [],
   "source": [
    "# Select the expression columns for 0 to 100 days\n",
    "columns = table2.select(['mean_n','mean_12h','mean_24h','mean_48h','mean_6d', 'mean_8d','mean_10d', 'mean_15d', 'mean_45d','mean_100d'])\n",
    "\n",
    "# To use kmeans, we must format our data as a matrix. These functions let us extract a matrix of values from our table \n",
    "# of expression data.\n",
    "matrix = columns.to_df().as_matrix()\n",
    "\n",
    "# Run kmeans with 10 clusters\n",
    "kmeans = KMeans(n_clusters=10, random_state=0).fit(matrix)\n",
    "\n",
    "# Print out the cluster labels. Each label 0-9 represents a different cluster. Genes in the same cluster should have \n",
    "#'similar' expression patterns. \n",
    "kmeans.labels_"
   ]
  },
  {
   "cell_type": "markdown",
   "metadata": {},
   "source": [
    "Now, we will plot time series data for cluster 0 over time from 0 to 100 days of incubation."
   ]
  },
  {
   "cell_type": "code",
   "execution_count": null,
   "metadata": {
    "collapsed": false
   },
   "outputs": [],
   "source": [
    "# Add a new column to our table that holds the cluster label kmeans assigned.\n",
    "columns_and_labels = columns.with_column('cluster_id', kmeans.labels_.tolist())"
   ]
  },
  {
   "cell_type": "code",
   "execution_count": null,
   "metadata": {
    "collapsed": false
   },
   "outputs": [],
   "source": [
    "# Get genes that were clustered into cluster 0. Drop the cluster column for plotting.\n",
    "cluster_0 = columns_and_labels.where('cluster_id', 0).drop('cluster_id')\n",
    "\n",
    "# Graphing a line for each gene is tricky. To do this, we will be converting our data to a matrix, \n",
    "# then using matplotlib. 'T' transposes our data.\n",
    "x=cluster_0.to_df().as_matrix().T\n",
    "\n",
    "# Plot each gene using matplotlib.\n",
    "matplotlib.pyplot.plot(x)"
   ]
  },
  {
   "cell_type": "markdown",
   "metadata": {},
   "source": [
    "## Question 4\n",
    "Following the instrunctions from the cell above, plot and save clusters 2, 4, 7 and 8."
   ]
  },
  {
   "cell_type": "code",
   "execution_count": null,
   "metadata": {
    "collapsed": false
   },
   "outputs": [],
   "source": [
    "# Answer here:"
   ]
  },
  {
   "cell_type": "markdown",
   "metadata": {},
   "source": [
    "## Question 5\n",
    "What are some trends you can see between and across gene clusters?"
   ]
  },
  {
   "cell_type": "markdown",
   "metadata": {},
   "source": [
    "**Answer here:**"
   ]
  },
  {
   "cell_type": "markdown",
   "metadata": {
    "collapsed": true
   },
   "source": [
    "## Question 6\n",
    "What may be some factors that differentiate specific genes from one another?"
   ]
  },
  {
   "cell_type": "markdown",
   "metadata": {},
   "source": [
    "**Answer here:**"
   ]
  },
  {
   "cell_type": "markdown",
   "metadata": {
    "collapsed": true
   },
   "source": [
    "## Question 7\n",
    "On a scale from 1 to 10 (1 being worst, 10 being best), please rate this lab in terms of its:\n",
    "1. Clarity\n",
    "2. Difficulty\n",
    "3. Length\n",
    "4. Insight"
   ]
  },
  {
   "cell_type": "markdown",
   "metadata": {
    "collapsed": true
   },
   "source": [
    "## Bonus Problem 1\n",
    "\n",
    "Look at some of the clusters and the genes in each cluster. Can you find any genes in cluster 0 that may have synergystic roles? (Hint: This will require you to join Gene Symbols with cluster ids.)"
   ]
  },
  {
   "cell_type": "markdown",
   "metadata": {},
   "source": [
    "**Answer here:**"
   ]
  },
  {
   "cell_type": "markdown",
   "metadata": {},
   "source": [
    "## Bonus Problem 2\n",
    "\n",
    "Read over https://www.immgen.org/ImmGenPublications/ni.2536.pdf. Specifically, take a look at Figure 1c. These clusters in Figure 1c may be similar the the clusters we created above. What are the cluster categories the paper groups genes into? Can you guess which, if any, clusters we generated match with the clusters from the paper?"
   ]
  },
  {
   "cell_type": "markdown",
   "metadata": {},
   "source": [
    "**Answer here:**"
   ]
  },
  {
   "cell_type": "code",
   "execution_count": null,
   "metadata": {
    "collapsed": true
   },
   "outputs": [],
   "source": []
  }
 ],
 "metadata": {
  "kernelspec": {
   "display_name": "Python 3",
   "language": "python",
   "name": "python3"
  },
  "language_info": {
   "codemirror_mode": {
    "name": "ipython",
    "version": 3
   },
   "file_extension": ".py",
   "mimetype": "text/x-python",
   "name": "python",
   "nbconvert_exporter": "python",
   "pygments_lexer": "ipython3",
   "version": "3.5.2"
  },
  "timetravel": {
   "allowedContentTypes": [
    "text/plain"
   ],
   "enabled": false,
   "version": "1.0"
  }
 },
 "nbformat": 4,
 "nbformat_minor": 0
}
