{
 "cells": [
  {
   "cell_type": "markdown",
   "metadata": {},
   "source": [
    "# Lab 2: Genome Analysis\n",
    "\n",
    "In this lab, we will use a myriad of public interfaces that allow us to learn and explore specific genes.\n",
    "\n",
    "### Terms to know before Starting\n",
    "Some important keywords that will help you understand this lab more clearly are listed below."
   ]
  },
  {
   "cell_type": "markdown",
   "metadata": {},
   "source": [
    "<h2 style=\"color:red\">** Pre-Exercises**</h2> \n",
    "\n",
    "Define each of these terms:\n",
    "\n",
    "A. Single Nucleotide Polymorphism (SNP)\n",
    "\n",
    "B. Coding Sequence\n",
    "\n",
    "C. Transcript\n",
    "\n",
    "D. RNA-sequencing (RNA-seq)"
   ]
  },
  {
   "cell_type": "markdown",
   "metadata": {},
   "source": []
  },
  {
   "cell_type": "markdown",
   "metadata": {},
   "source": [
    "## Part 1: Using the UCSC Genome Browser to explore the HLA class I histocompatibility antigen, alpha chain E (HLA-E) Gene\n",
    "\n",
    "Today, we will be using the [UCSC Genome Browser](http://genome.ucsc.edu/) to explore the HLA class I histocompatibility antigen, alpha chain E (HLA-E) gene.\n",
    "## Sections\n",
    "1. Accessing the UCSC Genome Browser\n",
    "2. Searching for the HLA-E Gene\n",
    "3. Genome Browser Overview\n",
    "4. Exploring HLA-E Annotations\n",
    "5. Phenotype and Disease Association Tracks\n",
    "6. Gene Expression Tracks\n",
    "\n",
    "\n",
    "This tutorial follows the format of [Fishing for Genes in the UCSC Genome Browser](https://genome.ucsc.edu/training/ucscGeneFishing.pdf).\n",
    "For a more thorough tutorial of the UCSC Genome Browser, please visit this tutorial.\n",
    "\n",
    "## Accessing the UCSC Genome Browser\n",
    "To access the UCSC Genome Browser, go to [UCSC Genome Browser](http://genome.ucsc.edu/).\n",
    "On the resulting page, you will see many tools in the blue ribbon menu, as well as a list of tools labeled 'Our tools' with a yellow background. The tools we will be using today are highlighted in the Figure ![UCSC Home Page](../images/lab2/ucscHomepage.png)\n",
    "These tools include:\n",
    "- Genome Browser link on the top blue\n",
    "menu bar links to the Gateway page\n",
    "for the Genome Browser. The Gateway page is explored in greater\n",
    "depth in the next section.\n",
    "- Gene Sorter is a tool that displays a sorted\n",
    "table of genes that are related by some metric\n",
    "selected by the user. Such metrics include similar gene expression\n",
    "and gene distance. The Gene Sorter is explored in the second part of this lab.\n",
    "To read more about the Gene Sorter, see [Gene Sorter Abstract](http://genome.cshlp.org/content/15/5/737.abstract).\n",
    "- Downloads allows users to bulk download data from multiple species from the UCSC\n",
    "Genome Browser.\n",
    "\n",
    "## 1. Searching for the HLA-E Gene\n",
    "For this exercise, we will be exploring the UCSC Genome Browser with a focus on\n",
    "the HLA class I histocompatibility antigen, alpha chain E (HLA-E) gene. The HLA-E gene encodes for the MHC Class I antigen E. HLA-E displays a subset of peptides on a cell surface to be read by natural killer cells. HLA-E has a limited set of polymorphisms, as we will explore in these exercises. To read more about HLA-E, see [HLA-E Gene](https://www.ncbi.nlm.nih.gov/gene/3133).\n"
   ]
  },
  {
   "cell_type": "markdown",
   "metadata": {},
   "source": [
    "<h2 style=\"color:red\">** Question 1A **</h2> \n",
    "Given the [link for HLA-E](https://www.ncbi.nlm.nih.gov/gene/3133), write a summary of the gene's function."
   ]
  },
  {
   "cell_type": "markdown",
   "metadata": {},
   "source": []
  },
  {
   "cell_type": "markdown",
   "metadata": {},
   "source": [
    "### Instructions\n",
    "\n",
    "1. To get started exploring HLA-E, click on the **Genome Browser** tab on the home page. Clicking on this link takes you to the **Gateway page** that displays\n",
    "the genome and multiple assemblies. Make sure the human assembly is The Gateway page is shown in the Figure. ![UCSC Gateway](../images/lab2/ucscGateway.png) On this Gateway page, you can zoom in and out of\n",
    "the genome and search for gene symbols and other search terms in the **search term box**, highlighted in red.\n",
    "\n",
    "2.  Enter the gene symbol **HLA-E** into the **search term box**.\n",
    "Clicking on the submit button directs you to a page of search results.\n",
    "Results are presented as links to genome positions where there is data for the HLA-E Genes or HLA-E related terms. ![Search HLA-E](../images/lab2/ucscHLAESearch.png)\n",
    "3. Next, click on the link for HLA-E under **RefSeq Genes** where the chromosome is 'chr6', outlined in the Figure above. This will take you to the locus of HLA-E on the genome in the UCSC genome browser.\n",
    "\n",
    "## 2. Genome Browser Overview\n",
    "The Genome Browser displays certain annotation\n",
    "tracks by default on the browser. The default image for the browser is shown below.\n",
    "![Browser Home](../images/lab2/ucscBrowserHBBHome.png) Highlighted components include:\n",
    "- Search bar. Here, you can search positions, gene symbols and other search terms.\n",
    "- Navigation. These tools allow you to zoom in and out and scroll to new parts of the\n",
    "genome.\n",
    "- Annotation Options. UCSC Genome Browser provides the ability to toggle annotation options to learn more about a specific region.\n",
    "\n",
    "\n",
    "Now, let's look at the track for HLA-E.\n",
    "\n",
    "Gene structure is shown on the HLA-E gene track with filled blue blocks representing\n",
    "exons. Thick blocks are in the coding sequences (CDS) and thin\n",
    "blocks represent untranslated regions (UTRs).\n",
    "The lines connecting the blocks are introns.\n",
    "The direction of arrowheads show the strand on which the element resides.\n",
    "Right-facing arrows show that it is on the\n",
    "forward strand while left-facing arrows show that\n",
    "it is on the reverse strand. To toggle the direction of the strand, click\n",
    "on the **reverse** button under all of the tracks."
   ]
  },
  {
   "cell_type": "markdown",
   "metadata": {},
   "source": [
    "<h2 style=\"color:red\">** Question 2A **</h2> \n",
    "What is the start and end location of HLA-E?\n",
    "\n"
   ]
  },
  {
   "cell_type": "markdown",
   "metadata": {},
   "source": []
  },
  {
   "cell_type": "markdown",
   "metadata": {},
   "source": [
    "<h2 style=\"color:red\">** Question 2B **</h2> \n",
    "Hover over the HLA-E exons and introns. How many exons does the HLA-E gene have? Introns?"
   ]
  },
  {
   "cell_type": "markdown",
   "metadata": {},
   "source": []
  },
  {
   "cell_type": "markdown",
   "metadata": {},
   "source": [
    "## 3. Exploring HLA-E Annotations\n",
    "Each track has an associated description page\n",
    "which can be reached by clicking on the name of the track. To access detailed gene annotations, click on the label **HLA-E** next to the RefSeq Gene track in the browser. This will\n",
    "take you to a new page displaying more in depth information about HLA-E."
   ]
  },
  {
   "cell_type": "markdown",
   "metadata": {},
   "source": [
    "<h2 style=\"color:red\">** Question 3A **</h2>\n",
    "Which strand does this gene reside on?"
   ]
  },
  {
   "cell_type": "markdown",
   "metadata": {},
   "source": []
  },
  {
   "cell_type": "markdown",
   "metadata": {},
   "source": [
    "<h2 style=\"color:red\">** Question 3B **</h2>\n",
    "Navigate to the Sequence and Links to Tools and Databases  section. What are the lengths of the predicted protein? The mRNA sequence? The genomic sequence? What is the correlation between these difference sequences?"
   ]
  },
  {
   "cell_type": "markdown",
   "metadata": {},
   "source": []
  },
  {
   "cell_type": "markdown",
   "metadata": {},
   "source": [
    "<h2 style=\"color:red\">** Question 3C **</h2>\n",
    "Nativate to the RNA-Seq Expression Data from GTEx section. In what tissue is HLA-E most highly expressed?"
   ]
  },
  {
   "cell_type": "markdown",
   "metadata": {},
   "source": []
  },
  {
   "cell_type": "markdown",
   "metadata": {},
   "source": [
    "## 4. Phenotype and Disease Association Tracks\n",
    "Navigate back to the genome browser to view HLA-E.\n",
    "\n",
    "If the user scrolls down to the annotation sections, there is a **Phenotype and Literature** section under the browser view. Here, we can select options to view diseases associated with\n",
    "a particular gene. Today, we will use **OMIM Pheno Loci View\n",
    "track** to visualize diseases associated with HLA-E.\n",
    "![Phenotype Annotation](../images/lab2/pheno_clickOMIM.png)\n",
    "\n",
    "### Instructions\n",
    "1. Make sure you navigate back to the genome browser.\n",
    "2. Scroll down to  **Phenotype and Literature** and toggle **OMIM Pheno Loci** to **full**. Make sure to click refresh.\n",
    "3. Scroll back to the the browser view at the top of the page. Here, you will see multiple\n",
    "colored bars that demonstrates the presence of diseases associated potentially associated with HLA-E.\n",
    "![OMIM Visualization](../images/lab2/pheno_redDisease.png)"
   ]
  },
  {
   "cell_type": "markdown",
   "metadata": {},
   "source": [
    "<h2 style=\"color:red\">** Question 4A **</h2>\n",
    "Scroll below the browser and click on the OMIM Pheno Loci  title in Phenotype and Literature. Where does the information from GAD View come from?"
   ]
  },
  {
   "cell_type": "markdown",
   "metadata": {},
   "source": []
  },
  {
   "cell_type": "markdown",
   "metadata": {},
   "source": [
    "<h2 style=\"color:red\">** Question 4B **</h2>\n",
    "In the browser, hover over some of the colored bars that signal associated diseases with the HLA-E gene. List one of these associated diseases and describe them."
   ]
  },
  {
   "cell_type": "markdown",
   "metadata": {},
   "source": []
  },
  {
   "cell_type": "markdown",
   "metadata": {},
   "source": [
    "## 5. Gene Expression Tracks\n",
    "Users can also search Gene Expression Tracks across multiple databases. These tracks\n",
    "display gene expression across cell tissues from multiple samples. We will visualize gene expression from the GTEx Track.\n",
    "\n",
    "### Instructions\n",
    "1. Scroll down beneath the genome browser and select **full** view for GTEx Gene in the Expression section. Click Refresh.\n",
    "\n",
    "2. In the refreshed browser, you will see a new bar chart showing the expression of HLA-E in different cell types. Click on that bar chart.\n",
    "![Gene Expression GTEx](../images/lab2/genex_gtex.png)"
   ]
  },
  {
   "cell_type": "markdown",
   "metadata": {},
   "source": [
    "<h2 style=\"color:red\">** Question 5A **</h2> \n",
    "In the GTEx bar chart, the y axis measures expression in RPKM. What does this stand for?"
   ]
  },
  {
   "cell_type": "markdown",
   "metadata": {},
   "source": []
  },
  {
   "cell_type": "markdown",
   "metadata": {},
   "source": [
    "<h2 style=\"color:red\">** Question 5B **</h2>\n",
    "What tissue has the highest median expression of HLA-E? The lowest?"
   ]
  },
  {
   "cell_type": "markdown",
   "metadata": {},
   "source": []
  },
  {
   "cell_type": "markdown",
   "metadata": {},
   "source": [
    "## Part 2: Exploring HLA-E\n",
    "For this part of lab, we will be using [UCSC Gene Sorter](https://genome.ucsc.edu/cgi-bin/hgNear) to compare genes based on certain traits, specifically by distance and expression.\n",
    "Genes of interest for this portion of the lab include HLA-A, HLA-C and HLA-E.\n",
    "\n",
    "### Search for HLA-E by distance:\n",
    "1. Navigate to [UCSC Gene Sorter](https://genome.ucsc.edu/cgi-bin/hgNear).\n",
    "2. Search for HLA-E in the search box, sorting by **GTEx Expression** in the **Sort By** dropdown menu. Here you will see a list of gene names and their position, description and BLASTP E-Value. ![Gene Sorter](../images/lab2/geneSorterHBB.png)"
   ]
  },
  {
   "cell_type": "markdown",
   "metadata": {},
   "source": [
    "<h2 style=\"color:red\">** Question 6A **</h2>\n",
    "What is the BLASTP E-value represent?\n"
   ]
  },
  {
   "cell_type": "markdown",
   "metadata": {},
   "source": []
  },
  {
   "cell_type": "markdown",
   "metadata": {},
   "source": [
    "<h2 style=\"color:red\">** Question 6B **</h2>\n",
    "What are the 2 most similarly expressed genes to HLA-E?\n"
   ]
  },
  {
   "cell_type": "markdown",
   "metadata": {},
   "source": []
  },
  {
   "cell_type": "markdown",
   "metadata": {},
   "source": [
    "\n",
    "<h2 style=\"color:red\">** Question 6C **</h2>\n",
    "Using the gene descriptions, are there any similarities between HLA-E and these closest genes? What are they?\n",
    "\n"
   ]
  },
  {
   "cell_type": "markdown",
   "metadata": {},
   "source": []
  },
  {
   "cell_type": "markdown",
   "metadata": {},
   "source": [
    "<h2 style=\"color:red\">** Question 6D **</h2>\n",
    "In this view, is there any way to gain information of how this gene is expressed? What\n",
    "  can you learn about HLA-E expression from this view?"
   ]
  },
  {
   "cell_type": "markdown",
   "metadata": {},
   "source": []
  },
  {
   "cell_type": "markdown",
   "metadata": {},
   "source": [
    "<h2 style=\"color:red\">** Question 6E **</h2>\n",
    "What does homology mean?\n",
    "\n"
   ]
  },
  {
   "cell_type": "markdown",
   "metadata": {},
   "source": []
  },
  {
   "cell_type": "markdown",
   "metadata": {},
   "source": [
    "<h2 style=\"color:red\">** Question 6F **</h2>\n",
    "What genes have similar homology to HLA-E? Is this list of genes surprising? Why or why not?"
   ]
  },
  {
   "cell_type": "markdown",
   "metadata": {},
   "source": []
  }
 ],
 "metadata": {
  "kernelspec": {
   "display_name": "Python 3",
   "language": "python",
   "name": "python3"
  },
  "language_info": {
   "codemirror_mode": {
    "name": "ipython",
    "version": 3
   },
   "file_extension": ".py",
   "mimetype": "text/x-python",
   "name": "python",
   "nbconvert_exporter": "python",
   "pygments_lexer": "ipython3",
   "version": "3.6.1"
  }
 },
 "nbformat": 4,
 "nbformat_minor": 2
}
