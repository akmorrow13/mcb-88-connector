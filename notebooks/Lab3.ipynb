{
 "cells": [
  {
   "cell_type": "markdown",
   "metadata": {},
   "source": [
    "## Lab 3: Sequence Alignment of p53 Protein"
   ]
  },
  {
   "cell_type": "markdown",
   "metadata": {},
   "source": [
    "For this lab, we will be aligning multiple variations of the p53 protein sequence. The p53 protein is a tumor suppressor protein. To learn more about p53, see https://en.wikipedia.org/wiki/TP53.\n",
    "\n",
    "Additionally, look here for a more in depth description of p53 mutants: http://genesdev.cshlp.org/content/26/12/1268.full"
   ]
  },
  {
   "cell_type": "markdown",
   "metadata": {
    "collapsed": false
   },
   "source": [
    "Our data will come from the NCBI database (see https://www.ncbi.nlm.nih.gov/protein). For this lab, we take multiple isoforms of the p53 protein sequence and compare their sequence differences."
   ]
  },
  {
   "cell_type": "markdown",
   "metadata": {
    "collapsed": true
   },
   "source": [
    "## Importing the Dependencies"
   ]
  },
  {
   "cell_type": "code",
   "execution_count": null,
   "metadata": {
    "collapsed": false
   },
   "outputs": [],
   "source": [
    "# imports\n",
    "from datascience import Table\n"
   ]
  },
  {
   "cell_type": "code",
   "execution_count": null,
   "metadata": {
    "collapsed": false
   },
   "outputs": [],
   "source": [
    "# load in data for part 1\n",
    "table = Table.read_table('../data/lab3/p53_sequences.csv')\n",
    "table"
   ]
  },
  {
   "cell_type": "markdown",
   "metadata": {},
   "source": [
    "# Part 1: Distances Between Sequences"
   ]
  },
  {
   "cell_type": "markdown",
   "metadata": {},
   "source": [
    "One approach to calculating distance between sequences is Hamming Distance. The hamming distance between two strings of equal length is the number of positions in which they differ. \n",
    "\n",
    "For example, 'Hello, Dolly!' and 'Help-, Dolly!' have Hamming Distance 2."
   ]
  },
  {
   "cell_type": "markdown",
   "metadata": {},
   "source": [
    "## Question 1\n",
    "Calculate the hamming distance **(by hand)** for DNA sequences \"ATGCCCCCG\" and \"ATGAACCCC\"."
   ]
  },
  {
   "cell_type": "markdown",
   "metadata": {},
   "source": [
    "Answer: "
   ]
  },
  {
   "cell_type": "markdown",
   "metadata": {},
   "source": [
    "The function below calculates the Hamming Distance between two strings."
   ]
  },
  {
   "cell_type": "code",
   "execution_count": null,
   "metadata": {
    "collapsed": false
   },
   "outputs": [],
   "source": [
    "def hammingDistance(s1, s2):\n",
    "    '''For two strings s1 and s2, output the number of position that they differ in.\n",
    "    Strings s1 and s2 must be the same length.'''\n",
    "    if len(s1)!=len(s2):\n",
    "        return('The input strings are not of the same length.')\n",
    "    else:\n",
    "        return(sum([i!=j for i,j in zip(s1, s2)]))"
   ]
  },
  {
   "cell_type": "markdown",
   "metadata": {},
   "source": [
    "## Question 2\n",
    "Make sure that you get the same distance from the strings in **Q1** using the hammingDistance function."
   ]
  },
  {
   "cell_type": "code",
   "execution_count": null,
   "metadata": {
    "collapsed": false
   },
   "outputs": [],
   "source": [
    "# Answer: "
   ]
  },
  {
   "cell_type": "markdown",
   "metadata": {},
   "source": [
    "## Part 2: Calculating the distance between p53 sequences."
   ]
  },
  {
   "cell_type": "markdown",
   "metadata": {},
   "source": [
    "Now, let's look at the protein sequences for p53."
   ]
  },
  {
   "cell_type": "markdown",
   "metadata": {},
   "source": [
    "## Question 3\n",
    "Lookup p53 online and list some of the traits and functions of p53. Start here for a resource:  https://en.wikipedia.org/wiki/TP53."
   ]
  },
  {
   "cell_type": "markdown",
   "metadata": {},
   "source": [
    "Answer:\n",
    "p53 is a tumor supressor protein. p53 can initiate apoptosis, hold cell production at G1 phase to allow for damage DNA to be repaired, and can initiate DNA repair proteins."
   ]
  },
  {
   "cell_type": "markdown",
   "metadata": {},
   "source": [
    "## Question 4\n",
    "Given the sequence descriptions in the table, what are the two main types of mutations we can see in these seqeunces?"
   ]
  },
  {
   "cell_type": "markdown",
   "metadata": {},
   "source": [
    "Answer:"
   ]
  },
  {
   "cell_type": "markdown",
   "metadata": {},
   "source": [
    "## Question 5\n",
    "Search for these mutations. What are the difference between these two mutations?"
   ]
  },
  {
   "cell_type": "markdown",
   "metadata": {},
   "source": [
    "Answer:"
   ]
  },
  {
   "cell_type": "markdown",
   "metadata": {},
   "source": [
    "## Question 6\n",
    "Calculate the hamming distance for all pairs of sequences in the table. There"
   ]
  },
  {
   "cell_type": "code",
   "execution_count": null,
   "metadata": {
    "collapsed": false
   },
   "outputs": [],
   "source": [
    "# Answer"
   ]
  },
  {
   "cell_type": "markdown",
   "metadata": {},
   "source": [
    "## Question 7 (Optional)\n",
    "Modify the hamming distance function and print the locations of where the sequences differ. What spots differ the most across sequences? Can you identify the location of  R273h and T284r mutations?"
   ]
  },
  {
   "cell_type": "markdown",
   "metadata": {
    "collapsed": true
   },
   "source": [
    "Answer:"
   ]
  }
 ],
 "metadata": {
  "kernelspec": {
   "display_name": "Python 3",
   "language": "python",
   "name": "python3"
  },
  "language_info": {
   "codemirror_mode": {
    "name": "ipython",
    "version": 3
   },
   "file_extension": ".py",
   "mimetype": "text/x-python",
   "name": "python",
   "nbconvert_exporter": "python",
   "pygments_lexer": "ipython3",
   "version": "3.5.2"
  }
 },
 "nbformat": 4,
 "nbformat_minor": 0
}
