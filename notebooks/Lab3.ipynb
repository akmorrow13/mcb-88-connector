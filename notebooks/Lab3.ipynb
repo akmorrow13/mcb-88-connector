{
 "cells": [
  {
   "cell_type": "markdown",
   "metadata": {},
   "source": [
    "# Lab 3: T Cell Differentiation"
   ]
  },
  {
   "cell_type": "code",
   "execution_count": 1,
   "metadata": {},
   "outputs": [],
   "source": [
    "# imports\n",
    "from datascience import Table\n",
    "import matplotlib\n",
    "matplotlib.use('Agg')\n",
    "from datascience import Table\n",
    "%matplotlib inline\n",
    "import matplotlib.pyplot as plt\n",
    "import numpy as np\n",
    "plt.style.use('fivethirtyeight')\n",
    "from sklearn.cluster import KMeans\n",
    "from IPython.display import Markdown as md"
   ]
  },
  {
   "cell_type": "markdown",
   "metadata": {},
   "source": [
    "# Part 1\n",
    "This lab, as well as following labs, will use the datascience API. For more information about the datascience Table API, see http://data8.org/datascience/tutorial.html#getting-started.\n",
    "\n",
    "For part 1 of the lab, we will investigate the expression of 24923 genes in CD8+ T cells over time.\n",
    "\n",
    "These mice were injected with naive T cells that have a T cell receptor (TCR) which is specific for an epitope from the ovalbumin (ov) protein. These mice were then were infected with two different viruses: vesicular stomatitis virus (VSV) and listeria bacterium (LisOva).\n",
    "\n",
    "VSV infected mice were sampled over 106 days. Lis infected mice were sampled over 100 days. These time points demonstrate differentiation in expression of genes as the CD8+ T Cells are introduced the the ov epitope after infection.\n",
    "\n",
    "This data is from the Immgen database, and can be can be explored at the [Immgen Population Comparison](http://rstats.immgen.org/PopulationComparison/). This dataset was downloaded from [ImmGen DataRequest](http://rstats.immgen.org/DataRequest/) for activated T cells.\n",
    "\n",
    "## Load in the Data\n",
    "\n",
    "1. First, load in the data for containing T Cell expression using the read_table function."
   ]
  },
  {
   "cell_type": "code",
   "execution_count": null,
   "metadata": {
    "collapsed": true
   },
   "outputs": [],
   "source": [
    "# load in data for part 1\n",
    "table1 = Table.read_table('https://raw.githubusercontent.com/data-8/mcb-88-connector/gh-pages/data/lab3/rnaseq_Tcell_quantifications.csv')\n",
    "table1"
   ]
  },
  {
   "cell_type": "markdown",
   "metadata": {},
   "source": [
    "### What do the table headers mean?\n",
    "For each gene, we are given a gene symbol and description. We are also given a value for each time point in each cell type. These values are drawn from microarray experiments, and measure the flourescence of hybridization of each gene to a probe. The higher the measure of flourescence, the greater the expression of RNA at that probe. Note that all probes are specific to a given gene."
   ]
  },
  {
   "cell_type": "markdown",
   "metadata": {},
   "source": [
    "The data loaded in shows 24923 probes and their expression over 100 days of incubation. \n",
    "\n",
    "First, let's sort the genes by naive expression. First, we will sort in order of descending expression to find the 3 highest expressed genes."
   ]
  },
  {
   "cell_type": "code",
   "execution_count": null,
   "metadata": {
    "collapsed": true
   },
   "outputs": [],
   "source": [
    "# First, select the Gene symbol and mean expression columns\n",
    "expression = table1.select(['GeneSymbol', 'T_8Nve_Sp_OT1'])\n",
    "\n",
    "# Next, sort by mean expression. Set descending to true.\n",
    "sortedDescending = expression.sort('T_8Nve_Sp_OT1', descending = True)\n",
    "\n",
    "# Select the top expressed genes\n",
    "sortedDescending"
   ]
  },
  {
   "cell_type": "markdown",
   "metadata": {},
   "source": [
    "Here, we see the highest expressed genes are LOC236598, Rn18s, and Eef1a1.\n"
   ]
  },
  {
   "cell_type": "markdown",
   "metadata": {},
   "source": [
    "<h2 style=\"color:red\">** Question 1**</h2> \n",
    "\n",
    "Using the **sort()** functionality for table, what are the top 3 expressed genes and their expression values for late memory cells (days = 106) infected with VSVOva? \n"
   ]
  },
  {
   "cell_type": "code",
   "execution_count": null,
   "metadata": {
    "collapsed": true
   },
   "outputs": [],
   "source": [
    "# Answer here:\n"
   ]
  },
  {
   "cell_type": "markdown",
   "metadata": {},
   "source": [
    "<h2 style=\"color:red\">** Question 2**</h2> \n",
    "Using the **sort()** functionality for table, what are the top 3 expressed genes and their expression values for late effector cells (days = 8) infected with VSVOva? "
   ]
  },
  {
   "cell_type": "code",
   "execution_count": null,
   "metadata": {
    "collapsed": true
   },
   "outputs": [],
   "source": [
    "# Answer here\n"
   ]
  },
  {
   "cell_type": "markdown",
   "metadata": {
    "collapsed": true
   },
   "source": [
    "<h2 style=\"color:red\">** Question 3**</h2> \n",
    "Is there any overlap between the most highly expressed genes in naive, effector and memory? What does it mean if there are genes highly expressed in all three groups? "
   ]
  },
  {
   "cell_type": "markdown",
   "metadata": {},
   "source": [
    "Answer:\n"
   ]
  },
  {
   "cell_type": "markdown",
   "metadata": {},
   "source": [
    "<h2 style=\"color:red\">** Question 4**</h2> \n",
    "Is there any differentially expressed genes in naive, effector and memory? What does it mean if there are differentially expressed genes across categories?"
   ]
  },
  {
   "cell_type": "markdown",
   "metadata": {},
   "source": [
    "Answer:\n"
   ]
  },
  {
   "cell_type": "markdown",
   "metadata": {},
   "source": [
    "# Part 2: K Means Clustering of Microarray Probe Intensities"
   ]
  },
  {
   "cell_type": "markdown",
   "metadata": {},
   "source": [
    "For part 2 of the lab, we will cluster genes based on their gene specific probe intensities over 100 days. The goal of this exercise is to find relationships among genes using k-means clustering, a common machine-learning technique for unsupervised learning.\n",
    "\n",
<<<<<<< HEAD
    "For the curious: A description of k-means clustering can be found here: http://stanford.edu/~cpiech/cs221/handouts/kmeans.html A more python-focused implementation of k-means can be found here: https://mubaris.com/2017/10/01/kmeans-clustering-in-python/\n",
    "\n",
    "In short, k-means clustering is a method to group a dataset. Using an iterative algorithm, k-means can identify relationships between seemingly disparate data points and deeper patterns than predicted by theory. Rather than implementing our own k-means algorithm(which can take quite some time), we will use someone else's! As it is much more likely to be developed, optimized, and tested, we can build off of other's work while saving time ourselves.\n",
    "\n",
    "In particular, we will be using the sklearn implementation: http://scikit-learn.org/stable/modules/generated/sklearn.cluster.KMeans.html/ Sklearn is an excellent data science and modelling package in Python and can run just about any model one could desire(besides neural networks), all of which follow a simple, easy-to-understand API.\n"
=======
    "For the curious: \n",
    "A description of k-means clustering can be found here: http://stanford.edu/~cpiech/cs221/handouts/kmeans.html\n",
    "A more python-focused implementation of k-means can be found here: https://mubaris.com/2017/10/01/kmeans-clustering-in-python/"
   ]
  },
  {
   "cell_type": "markdown",
   "metadata": {},
   "source": [
    "In short, k-means clustering is a method to group a dataset. Using an iterative algorithm, k-means can identify relationships between seemingly disparate data points and deeper patterns than predicted by theory.\n",
    "Rather than implementing our own k-means algorithm(which can take quite some time), we will use someone else's! As it is much more likely to be developed, optimized, and tested, we can build off of other's work while saving time ourselves.\n",
    "\n",
    "In particular, we will be using the sklearn implementation: http://scikit-learn.org/stable/modules/generated/sklearn.cluster.KMeans.html/\n",
    "Sklearn is an excellent data science and modelling package in Python and can run just about any model one could desire(besides neural networks), all of which follow a simple, easy-to-understand API. "
>>>>>>> 120703f... Edits to Lab3
   ]
  },
  {
   "cell_type": "markdown",
   "metadata": {},
   "source": [
    "First, we will load in the data for a subset of the probes. We will use these to filter our original dataset."
   ]
  },
  {
   "cell_type": "code",
   "execution_count": null,
   "metadata": {},
   "outputs": [],
   "source": [
    "# load in a list of probe IDs we are interested in clustering\n",
    "fileProbes = Table.read_table('https://raw.githubusercontent.com/data-8/mcb-88-connector/gh-pages/data/lab3/cluster_probes.csv')\n",
    "\n",
    "# get the probe IDs from the table and convert to a list\n",
    "filteredProbes = list(fileProbes.to_df().columns)\n",
    "filteredProbes = list(map(int, filteredProbes))\n",
    "filteredProbes"
   ]
  },
  {
   "cell_type": "code",
   "execution_count": null,
   "metadata": {},
   "outputs": [],
   "source": [
    "# filter the data with the selected gene symbols\n",
    "allProbes = table1[\"ProbeSetID\"].tolist() \n",
    "\n",
    "# make empty list to hold booleans for geneSymbols\n",
    "bools = list(range(len(allProbes)))\n",
    "\n",
    "# assign bools to whether or not gene symbol was found\n",
    "# in our filtered list geneSymbols\n",
    "for index, i in enumerate(allProbes):\n",
    "    if i in filteredProbes:\n",
    "        bools[index] = True\n",
    "    else:\n",
    "        bools[index] = False\n",
    "\n",
    "# filter table by geneSymbol booleans        \n",
    "table2 = table1.where(bools)\n",
    "table2"
   ]
  },
  {
   "cell_type": "markdown",
   "metadata": {},
   "source": [
    "Fit 10 clusters to the all genes available in our dataset. You first must convert the dataframe into an np matrix. To do so, select relevant columns, then call `table.to_df().as_matrix()`."
   ]
  },
  {
   "cell_type": "code",
   "execution_count": null,
   "metadata": {
    "collapsed": true
   },
   "outputs": [],
   "source": [
    "# Select the expression columns for 0 to 100 days\n",
    "columns = table2.select(['T_8Nve_Sp_OT1', 'T_8Eff_Sp_OT1_d5_VSVOva', 'T_8Eff_Sp_OT1_d6_VSVOva', \\\n",
    "                         'T_8Eff_Sp_OT1_d8_VSVOva', 'T_8Eff_Sp_OT1_d15_VSVOva', 'T_8Mem_Sp_OT1_d45_VSVOva', \\\n",
    "                         'T_8Mem_Sp_OT1_d106_VSVOva'])\n",
    "\n",
    "# To use kmeans, we must format our data as a matrix. These functions let us extract a matrix of values from our table \n",
    "# of expression data.\n",
    "matrix = columns.to_df().as_matrix()\n",
    "\n",
    "# Run kmeans with 10 clusters\n",
    "kmeans = KMeans(n_clusters=10, random_state=0).fit(matrix)\n",
    "\n",
    "# Print out the cluster labels. Each label 0-9 represents a different cluster. Genes in the same cluster should have \n",
    "#'similar' expression patterns. \n",
    "kmeans_labels = kmeans.labels_\n",
    "print(kmeans_labels)"
   ]
  },
  {
   "cell_type": "markdown",
   "metadata": {},
   "source": [
    "Now, we will plot time series data for cluster 1 over time from 0 to 100 days of incubation."
   ]
  },
  {
   "cell_type": "code",
   "execution_count": null,
   "metadata": {
    "collapsed": true
   },
   "outputs": [],
   "source": [
    "# Add a new column to our table that holds the cluster label kmeans assigned.\n",
    "columns_and_labels = columns.with_column('cluster_id', kmeans.labels_.tolist())"
   ]
  },
  {
   "cell_type": "code",
   "execution_count": null,
   "metadata": {
    "collapsed": true
   },
   "outputs": [],
   "source": [
    "# Get genes that were clustered into cluster 0. Drop the cluster column for plotting.\n",
    "cluster_0 = columns_and_labels.where('cluster_id', 0).drop('cluster_id')\n",
    "\n",
    "# get figure and axes for plot\n",
    "fig, ax = plt.subplots()\n",
    "\n",
    "# Graphing a line for each gene is tricky. To do this, we will be converting our data to a matrix, \n",
    "# then using matplotlib. 'T' transposes our data.\n",
    "x=cluster_0.to_df().as_matrix().T\n",
    "\n",
    "# Plot each gene using matplotlib.\n",
    "results = ax.plot(x)\n",
    "\n",
    "# set labels to incubation days\n",
    "labels = ['', 'Nve', 'd5', 'd6', 'd8', 'd15', 'd45', 'd106']\n",
    "# rewrite labels\n",
    "ax.set_xticklabels(labels)\n"
   ]
  },
  {
   "cell_type": "markdown",
   "metadata": {},
   "source": [
    "<h2 style=\"color:red\">** Question 5**</h2> \n",
    "Using the matplotlib.pyplot \n",
    "Following the instructions from the cell above, plot all of the 10 clusters on a subplot. (Hint: you should use a loop so you don't have to re-write code 9 times.) **Make sure to label and title your plots for full credit.**"
   ]
  },
  {
   "cell_type": "code",
   "execution_count": null,
   "metadata": {
    "collapsed": true
   },
   "outputs": [],
   "source": [
<<<<<<< HEAD
    "# Answer here:\n",
    "\n",
    "# get figure and axes for plot\n",
    "fig, ax = plt.subplots()\n",
    "for i in range(10):\n",
    "    '''Answer: Fill in the rest of this code'''\n",
=======
    "# get figure and axes for plot\n",
    "fig, ax = plt.subplots()\n",
    "for i in range(10):\n",
    "    '''Fill in the rest of this code'''\n",
>>>>>>> 120703f... Edits to Lab3
    "    cluster = \n",
    "    cluster_matrix = cluster.to_df().as_matrix().T\n",
    "    ax.plt(cluster_matrix)\n",
    "    \n",
    "\n",
    "# set labels to incubation days\n",
    "labels = ['', 'Nve', 'd5', 'd6', 'd8', 'd15', 'd45', 'd106']\n",
    "# rewrite labels\n",
<<<<<<< HEAD
    "ax.set_xticklabels(labels)"
=======
    "ax.set_xticklabels(labels)\n"
>>>>>>> 120703f... Edits to Lab3
   ]
  },
  {
   "cell_type": "markdown",
   "metadata": {},
   "source": [
    "<h2 style=\"color:red\">** Question 6**</h2> \n",
    "What are some trends you can see between and across gene clusters over time?"
   ]
  },
  {
   "cell_type": "markdown",
   "metadata": {},
   "source": [
    "**Answer here:**\n"
   ]
  },
  {
   "cell_type": "markdown",
   "metadata": {},
   "source": [
    "<h2 style=\"color:red\">** Question 7**</h2> \n",
    "List all of the genes in each of the categories. (Hint: We printed out the labels for each gene above. This is stored in the **kmeans_labels** array. Join this with the Gene names, and print the gene names in each cluster."
   ]
  },
  {
   "cell_type": "code",
   "execution_count": null,
   "metadata": {
    "collapsed": true
   },
   "outputs": [],
   "source": [
    "# Answer here:\n"
   ]
  },
  {
   "cell_type": "markdown",
   "metadata": {},
   "source": [
    "<h2 style=\"color:red\">** Question 8**</h2> "
   ]
  },
  {
   "cell_type": "markdown",
   "metadata": {},
   "source": [
    "Which clusters have the most genes in them? Which cluster have the fewest genes in them?"
   ]
  },
  {
   "cell_type": "markdown",
   "metadata": {},
   "source": [
    "**Answer here:**"
   ]
  },
  {
   "cell_type": "markdown",
   "metadata": {},
   "source": [
    "<h2 style=\"color:red\">** Question 9**</h2> \n",
    "Open https://www.immgen.org/ImmGenPublications/ni.2536.pdf. This paper contains the original clustering experiments of this gene set. In Figure 1c, you can see their 10 clusters. Read the genes in each of these clusters. Which of your clusters correspond to the clusters they found in the paper (ie Cluster 1 from paper -> my cluster 2). If unsure of specific, you can put 2 clusters."
   ]
  },
  {
   "cell_type": "markdown",
   "metadata": {},
   "source": [
    "**Answer here:**"
   ]
  },
  {
   "cell_type": "markdown",
   "metadata": {},
   "source": [
    "<h2 style=\"color:red\">** Question 10**</h2> \n",
    "It seems like our clusting results differ from those in the paper. What are some potential sources that are creating these differences?"
   ]
  },
  {
   "cell_type": "markdown",
   "metadata": {},
   "source": [
    "**Answer here:**"
   ]
  },
  {
   "cell_type": "markdown",
   "metadata": {},
   "source": [
    "<h2 style=\"color:red\">** Question 11**</h2> \n",
    "\n",
    "Pick one of the 10 clusters defined in the paper. Give a description of the category from the paper and explain one of its genes. \n"
   ]
  },
  {
   "cell_type": "markdown",
   "metadata": {},
   "source": [
    "**Answer here:**\n"
   ]
  },
  {
   "cell_type": "markdown",
   "metadata": {
    "collapsed": true
   },
   "source": [
    "<h2 style=\"color:red\">** Question 12**</h2> \n",
    "On a scale from 1 to 10 (1 being worst, 10 being best), please rate this lab in terms of its:\n",
    "1. Clarity\n",
    "2. Difficulty\n",
    "3. Length\n",
    "4. Insight"
   ]
  },
  {
   "cell_type": "markdown",
   "metadata": {
    "collapsed": true
   },
   "source": [
    "**Answer here:**"
   ]
  },
  {
   "cell_type": "code",
   "execution_count": null,
   "metadata": {
    "collapsed": true
   },
   "outputs": [],
   "source": []
  }
 ],
 "metadata": {
  "kernelspec": {
   "display_name": "Python 3",
   "language": "python",
   "name": "python3"
  },
  "language_info": {
   "codemirror_mode": {
    "name": "ipython",
    "version": 3
   },
   "file_extension": ".py",
   "mimetype": "text/x-python",
   "name": "python",
   "nbconvert_exporter": "python",
   "pygments_lexer": "ipython3",
   "version": "3.6.2"
  },
  "timetravel": {
   "allowedContentTypes": [
    "text/plain"
   ],
   "enabled": false,
   "version": "1.0"
  }
 },
 "nbformat": 4,
 "nbformat_minor": 1
}
