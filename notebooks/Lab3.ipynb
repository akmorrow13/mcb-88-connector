{
 "cells": [
  {
   "cell_type": "markdown",
   "metadata": {},
   "source": [
    "Questions\n",
    "\n",
    "- where does RNA data come from?\n",
    "\n",
    "-- microarray data\n",
    "\n",
    "- what are the units?\n",
    "\n",
    "-- measures the flourescence of the hybridization of the gene to the probe\n",
    "\n",
    "- virus information\n",
    "\n",
    "-- ovalbumin: protein (found in chicken eggs)\n",
    "\n",
    "-- transgenic mice (called OT1) have TCRs that are specific for a specific epitope in ova\n",
    "\n",
    "-- cells from OT1 transgenic mouse are tranfered to a new mouse\n",
    "\n",
    "-- LisOva (listeria bacterium): This bacterium has been designed to express the ova protein\n",
    "\n",
    "-- VSVOva (vesticular stomatitis virus): virus is forced to produced ova protein\n",
    "\n",
    "\n",
    "TODO\n",
    "\n",
    "- okpy\n"
   ]
  },
  {
   "cell_type": "markdown",
   "metadata": {},
   "source": [
    "Questions [TODO]\n",
    "- what platform is the data collected from?\n",
    "- what are the measurement units in the table?\n",
    "- why are there multiple probes for a given gene?"
   ]
  },
  {
   "cell_type": "markdown",
   "metadata": {},
   "source": [
    "# Lab 3: T Cell Differentiation"
   ]
  },
  {
   "cell_type": "code",
   "execution_count": 1,
   "metadata": {
    "collapsed": true
   },
   "outputs": [],
   "source": [
    "# imports\n",
    "from datascience import Table\n",
    "import matplotlib\n",
    "matplotlib.use('Agg')\n",
    "from datascience import Table\n",
    "%matplotlib inline\n",
    "import matplotlib.pyplot as plt\n",
    "import numpy as np\n",
    "plt.style.use('fivethirtyeight')\n",
    "from sklearn.cluster import KMeans\n",
    "from IPython.display import Markdown as md"
   ]
  },
  {
   "cell_type": "markdown",
   "metadata": {},
   "source": [
    "# Part 1\n",
    "This lab, as well as following labs, will use the datascience API. For more information about the datascience Table API, see http://data8.org/datascience/tutorial.html#getting-started.\n",
    "\n",
    "For part 1 of the lab, we will investigate the expression of 24923 genes in CD8+ T cells.\n",
    "\n",
    "These mice were infected with two different viruses: vesicular stomatitis virus (VSV) and Lis.\n",
    "\n",
    "VSV infected mice were sampled over 106 days. Lis infected mice were sampled over 100 days. [TODO explanation of diseases]\n",
    "\n",
    "This data is from the Immgen database, and can be can be explored at http://rstats.immgen.org/PopulationComparison/. This dataset was downloaded from http://rstats.immgen.org/DataRequest/ for activated T cells.\n",
    "\n",
    "## Load in the Data\n",
    "\n",
    "1. First, load in the data for '/data/lab3/rnaseq_Tcell_quantifications.csv' using the read_table function."
   ]
  },
  {
   "cell_type": "code",
   "execution_count": 2,
   "metadata": {},
   "outputs": [
    {
     "data": {
      "text/html": [
       "<table border=\"1\" class=\"dataframe\">\n",
       "    <thead>\n",
       "        <tr>\n",
       "            <th>ProbeSetID</th> <th>GeneSymbol</th> <th>Description</th> <th>T_8Nve_Sp_OT1</th> <th>T_8Eff_Sp_OT1_d5_VSVOva</th> <th>T_8Eff_Sp_OT1_d6_VSVOva</th> <th>T_8Eff_Sp_OT1_d8_VSVOva</th> <th>T_8Eff_Sp_OT1_d15_VSVOva</th> <th>T_8Mem_Sp_OT1_d45_VSVOva</th> <th>T_8Mem_Sp_OT1_d106_VSVOva</th> <th>T_8Eff_Sp_OT1_12hr_LisOva</th> <th>T_8Eff_Sp_OT1_24hr_LisOva</th> <th>T_8Eff_Sp_OT1_48hr_LisOva</th> <th>T_8Eff_Sp_OT1_d6_LisOva</th> <th>T_8Eff_Sp_OT1_d8_LisOva</th> <th>T_8Eff_Sp_OT1_d10_LisOva</th> <th>T_8Eff_Sp_OT1_d15_LisOva</th> <th>T_8Mem_Sp_OT1_d45_LisOva</th> <th>T_8Mem_Sp_OT1_d100_LisOva</th>\n",
       "        </tr>\n",
       "    </thead>\n",
       "    <tbody>\n",
       "        <tr>\n",
       "            <td>10344620  </td> <td>Gm10568   </td> <td>predicted gene 10568                                        </td> <td>17.1066      </td> <td>15.2134                </td> <td>16.1687                </td> <td>18.3247                </td> <td>18.4808                 </td> <td>17.1266                 </td> <td>17.2547                  </td> <td>15.4919                  </td> <td>17.4334                  </td> <td>15.8074                  </td> <td>18.1414                </td> <td>20.4086                </td> <td>18.6309                 </td> <td>17.7465                 </td> <td>14.0495                 </td> <td>15.1544                  </td>\n",
       "        </tr>\n",
       "    </tbody>\n",
       "        <tr>\n",
       "            <td>10344622  </td> <td>Gm10568   </td> <td>predicted gene 10568                                        </td> <td>310.79       </td> <td>246.054                </td> <td>232.078                </td> <td>262.501                </td> <td>284.436                 </td> <td>251.487                 </td> <td>307.685                  </td> <td>303.883                  </td> <td>320.485                  </td> <td>475.209                  </td> <td>275.023                </td> <td>259.291                </td> <td>302.312                 </td> <td>217.506                 </td> <td>249.44                  </td> <td>287.275                  </td>\n",
       "        </tr>\n",
       "    </tbody>\n",
       "        <tr>\n",
       "            <td>10344624  </td> <td>Lypla1    </td> <td>lysophospholipase 1                                         </td> <td>516.851      </td> <td>642.906                </td> <td>438.234                </td> <td>336.047                </td> <td>213.322                 </td> <td>327.039                 </td> <td>253.454                  </td> <td>597.673                  </td> <td>678.466                  </td> <td>780.735                  </td> <td>745.074                </td> <td>463.95                 </td> <td>393.953                 </td> <td>341.124                 </td> <td>462.903                 </td> <td>391.016                  </td>\n",
       "        </tr>\n",
       "    </tbody>\n",
       "        <tr>\n",
       "            <td>10344633  </td> <td>Tcea1     </td> <td>transcription elongation factor A (SII) 1                   </td> <td>657.929      </td> <td>1128.72                </td> <td>937.971                </td> <td>783.696                </td> <td>723.474                 </td> <td>844.218                 </td> <td>975.749                  </td> <td>842.74                   </td> <td>935.525                  </td> <td>1167.71                  </td> <td>990.534                </td> <td>852.897                </td> <td>862.77                  </td> <td>850.499                 </td> <td>766.995                 </td> <td>686.519                  </td>\n",
       "        </tr>\n",
       "    </tbody>\n",
       "        <tr>\n",
       "            <td>10344637  </td> <td>Atp6v1h   </td> <td>ATPase H+ transporting lysosomal V1 subunit H               </td> <td>258.565      </td> <td>271.917                </td> <td>196.91                 </td> <td>204.652                </td> <td>140.238                 </td> <td>221.026                 </td> <td>187.96                   </td> <td>239.804                  </td> <td>293.867                  </td> <td>321.674                  </td> <td>254.231                </td> <td>218.453                </td> <td>198.944                 </td> <td>215.98                  </td> <td>244.8                   </td> <td>232.754                  </td>\n",
       "        </tr>\n",
       "    </tbody>\n",
       "        <tr>\n",
       "            <td>10344653  </td> <td>Oprk1     </td> <td>opioid receptor kappa 1                                     </td> <td>13.8118      </td> <td>16.823                 </td> <td>20.0322                </td> <td>24.1092                </td> <td>26.5062                 </td> <td>18.8644                 </td> <td>20.0481                  </td> <td>16.4834                  </td> <td>16.762                   </td> <td>17.0419                  </td> <td>15.737                 </td> <td>17.7592                </td> <td>18.6077                 </td> <td>20.1285                 </td> <td>18.4554                 </td> <td>17.1098                  </td>\n",
       "        </tr>\n",
       "    </tbody>\n",
       "        <tr>\n",
       "            <td>10344658  </td> <td>Rb1cc1    </td> <td>RB1-inducible coiled-coil 1                                 </td> <td>321.48       </td> <td>211.864                </td> <td>206.51                 </td> <td>261.817                </td> <td>184.712                 </td> <td>269.507                 </td> <td>182.116                  </td> <td>116.314                  </td> <td>141.272                  </td> <td>110.904                  </td> <td>288.695                </td> <td>301.651                </td> <td>318.267                 </td> <td>221.695                 </td> <td>240.517                 </td> <td>204.084                  </td>\n",
       "        </tr>\n",
       "    </tbody>\n",
       "        <tr>\n",
       "            <td>10344674  </td> <td>Fam150a   </td> <td>family with sequence similarity 150 member A                </td> <td>9.80566      </td> <td>10.4646                </td> <td>10.4375                </td> <td>10.4173                </td> <td>14.7071                 </td> <td>10.4059                 </td> <td>11.0453                  </td> <td>10.2226                  </td> <td>10.8312                  </td> <td>8.70721                  </td> <td>9.58962                </td> <td>12.4688                </td> <td>13.4258                 </td> <td>12.5919                 </td> <td>12.3598                 </td> <td>10.3268                  </td>\n",
       "        </tr>\n",
       "    </tbody>\n",
       "        <tr>\n",
       "            <td>10344679  </td> <td>St18      </td> <td>suppression of tumorigenicity 18                            </td> <td>42.7689      </td> <td>42.072                 </td> <td>53.3134                </td> <td>44.3263                </td> <td>53.9271                 </td> <td>41.2916                 </td> <td>50.0826                  </td> <td>36.4488                  </td> <td>32.8533                  </td> <td>41.727                   </td> <td>41.4922                </td> <td>46.9989                </td> <td>44.7015                 </td> <td>50.0333                 </td> <td>40.1597                 </td> <td>44.4181                  </td>\n",
       "        </tr>\n",
       "    </tbody>\n",
       "        <tr>\n",
       "            <td>10344707  </td> <td>Pcmtd1    </td> <td>protein-L-isoaspartate (D-aspartate) O-methyltransferase ...</td> <td>396.905      </td> <td>181.392                </td> <td>258.147                </td> <td>329.725                </td> <td>241.175                 </td> <td>338.861                 </td> <td>343.022                  </td> <td>109.367                  </td> <td>121.253                  </td> <td>83.4858                  </td> <td>251.369                </td> <td>297.788                </td> <td>348.985                 </td> <td>284.373                 </td> <td>310.145                 </td> <td>347.757                  </td>\n",
       "        </tr>\n",
       "    </tbody>\n",
       "</table>\n",
       "<p>... (24912 rows omitted)</p"
      ],
      "text/plain": [
       "ProbeSetID | GeneSymbol | Description                                                  | T_8Nve_Sp_OT1 | T_8Eff_Sp_OT1_d5_VSVOva | T_8Eff_Sp_OT1_d6_VSVOva | T_8Eff_Sp_OT1_d8_VSVOva | T_8Eff_Sp_OT1_d15_VSVOva | T_8Mem_Sp_OT1_d45_VSVOva | T_8Mem_Sp_OT1_d106_VSVOva | T_8Eff_Sp_OT1_12hr_LisOva | T_8Eff_Sp_OT1_24hr_LisOva | T_8Eff_Sp_OT1_48hr_LisOva | T_8Eff_Sp_OT1_d6_LisOva | T_8Eff_Sp_OT1_d8_LisOva | T_8Eff_Sp_OT1_d10_LisOva | T_8Eff_Sp_OT1_d15_LisOva | T_8Mem_Sp_OT1_d45_LisOva | T_8Mem_Sp_OT1_d100_LisOva\n",
       "10344620   | Gm10568    | predicted gene 10568                                         | 17.1066       | 15.2134                 | 16.1687                 | 18.3247                 | 18.4808                  | 17.1266                  | 17.2547                   | 15.4919                   | 17.4334                   | 15.8074                   | 18.1414                 | 20.4086                 | 18.6309                  | 17.7465                  | 14.0495                  | 15.1544\n",
       "10344622   | Gm10568    | predicted gene 10568                                         | 310.79        | 246.054                 | 232.078                 | 262.501                 | 284.436                  | 251.487                  | 307.685                   | 303.883                   | 320.485                   | 475.209                   | 275.023                 | 259.291                 | 302.312                  | 217.506                  | 249.44                   | 287.275\n",
       "10344624   | Lypla1     | lysophospholipase 1                                          | 516.851       | 642.906                 | 438.234                 | 336.047                 | 213.322                  | 327.039                  | 253.454                   | 597.673                   | 678.466                   | 780.735                   | 745.074                 | 463.95                  | 393.953                  | 341.124                  | 462.903                  | 391.016\n",
       "10344633   | Tcea1      | transcription elongation factor A (SII) 1                    | 657.929       | 1128.72                 | 937.971                 | 783.696                 | 723.474                  | 844.218                  | 975.749                   | 842.74                    | 935.525                   | 1167.71                   | 990.534                 | 852.897                 | 862.77                   | 850.499                  | 766.995                  | 686.519\n",
       "10344637   | Atp6v1h    | ATPase H+ transporting lysosomal V1 subunit H                | 258.565       | 271.917                 | 196.91                  | 204.652                 | 140.238                  | 221.026                  | 187.96                    | 239.804                   | 293.867                   | 321.674                   | 254.231                 | 218.453                 | 198.944                  | 215.98                   | 244.8                    | 232.754\n",
       "10344653   | Oprk1      | opioid receptor kappa 1                                      | 13.8118       | 16.823                  | 20.0322                 | 24.1092                 | 26.5062                  | 18.8644                  | 20.0481                   | 16.4834                   | 16.762                    | 17.0419                   | 15.737                  | 17.7592                 | 18.6077                  | 20.1285                  | 18.4554                  | 17.1098\n",
       "10344658   | Rb1cc1     | RB1-inducible coiled-coil 1                                  | 321.48        | 211.864                 | 206.51                  | 261.817                 | 184.712                  | 269.507                  | 182.116                   | 116.314                   | 141.272                   | 110.904                   | 288.695                 | 301.651                 | 318.267                  | 221.695                  | 240.517                  | 204.084\n",
       "10344674   | Fam150a    | family with sequence similarity 150 member A                 | 9.80566       | 10.4646                 | 10.4375                 | 10.4173                 | 14.7071                  | 10.4059                  | 11.0453                   | 10.2226                   | 10.8312                   | 8.70721                   | 9.58962                 | 12.4688                 | 13.4258                  | 12.5919                  | 12.3598                  | 10.3268\n",
       "10344679   | St18       | suppression of tumorigenicity 18                             | 42.7689       | 42.072                  | 53.3134                 | 44.3263                 | 53.9271                  | 41.2916                  | 50.0826                   | 36.4488                   | 32.8533                   | 41.727                    | 41.4922                 | 46.9989                 | 44.7015                  | 50.0333                  | 40.1597                  | 44.4181\n",
       "10344707   | Pcmtd1     | protein-L-isoaspartate (D-aspartate) O-methyltransferase ... | 396.905       | 181.392                 | 258.147                 | 329.725                 | 241.175                  | 338.861                  | 343.022                   | 109.367                   | 121.253                   | 83.4858                   | 251.369                 | 297.788                 | 348.985                  | 284.373                  | 310.145                  | 347.757\n",
       "... (24912 rows omitted)"
      ]
     },
     "execution_count": 2,
     "metadata": {},
     "output_type": "execute_result"
    }
   ],
   "source": [
    "# load in data for part 1\n",
    "#table1 = Table.read_table('https://raw.githubusercontent.com/data-8/mcb-88-connector/gh-pages/data/lab3/rnaseq_Tcell_quantifications.csv')\n",
    "table1 = Table.read_table('../data/lab3/rnaseq_Tcell_quantifications.csv')\n",
    "\n",
    "table1"
   ]
  },
  {
   "cell_type": "markdown",
   "metadata": {},
   "source": [
    "### What do the table headers mean?\n",
    "For each gene, we are given a gene symbol and description. TODO: what are the values"
   ]
  },
  {
   "cell_type": "markdown",
   "metadata": {},
   "source": [
    "The data loaded in shows 24923 probes and their expression over 100 days of incubation. \n",
    "\n",
    "First, let's sort the genes by naive expression. First, we will sort in order of descending expression to find the 3 highest expressed genes."
   ]
  },
  {
   "cell_type": "code",
   "execution_count": null,
   "metadata": {
    "collapsed": true
   },
   "outputs": [],
   "source": [
    "# First, select the Gene symbol and mean expression columns\n",
    "expression = table1.select(['GeneSymbol', 'T_8Nve_Sp_OT1'])\n",
    "\n",
    "# Next, sort by mean expression. Set descending to true.\n",
    "sortedDescending = expression.sort('T_8Nve_Sp_OT1', descending = True)\n",
    "\n",
    "# Select the top expressed genes\n",
    "sortedDescending"
   ]
  },
  {
   "cell_type": "markdown",
   "metadata": {},
   "source": [
    "Here, we see the highest expressed genes are LOC236598, Rn18s, and Eef1a1.\n"
   ]
  },
  {
   "cell_type": "markdown",
   "metadata": {},
   "source": [
    "## Question "
   ]
  },
  {
   "cell_type": "markdown",
   "metadata": {},
   "source": [
    "Using the **sort()** functionality for table, what are the top 3 expressed genes and their expression values for late memory cells (days = 106)? "
   ]
  },
  {
   "cell_type": "code",
   "execution_count": null,
   "metadata": {
    "collapsed": true
   },
   "outputs": [],
   "source": [
    "# Answer here:\n",
    "\n",
    "# First, select the Gene symbol and mean expression columns\n",
    "expression = table1.select(['GeneSymbol', 'T_8Mem_Sp_OT1_d106_VSVOva'])\n",
    "\n",
    "# Next, sort by mean expression. Set descending to true.\n",
    "sortedDescending = expression.sort('T_8Mem_Sp_OT1_d106_VSVOva', descending = True)\n",
    "\n",
    "# Select the top expressed genes\n",
    "sortedDescending"
   ]
  },
  {
   "cell_type": "markdown",
   "metadata": {},
   "source": [
    "## Question\n",
    "Using the **sort()** functionality for table, what are the top 3 expressed genes and their expression values for late effector cells (days = 8)? "
   ]
  },
  {
   "cell_type": "code",
   "execution_count": null,
   "metadata": {
    "collapsed": true
   },
   "outputs": [],
   "source": [
    "# Answer here\n",
    "\n",
    "# First, select the Gene symbol and mean expression columns\n",
    "expression = table1.select(['GeneSymbol', 'T_8Eff_Sp_OT1_d8_VSVOva'])\n",
    "\n",
    "# Next, sort by mean expression. Set descending to true.\n",
    "sortedDescending = expression.sort('T_8Eff_Sp_OT1_d8_VSVOva', descending = True)\n",
    "\n",
    "# Select the top expressed genes\n",
    "sortedDescending"
   ]
  },
  {
   "cell_type": "markdown",
   "metadata": {
    "collapsed": true
   },
   "source": [
    "## Question\n",
    "Is there any overlap between the most highly expressed genes in naive, effector and memory? What does it mean if there are genes highly expressed in all three groups? "
   ]
  },
  {
   "cell_type": "markdown",
   "metadata": {},
   "source": [
    "Answer:\n",
    "\n",
    "LOC236598, Rn18s, Cox1, Actb are similar. This means that they don't define the cell state.\n"
   ]
  },
  {
   "cell_type": "markdown",
   "metadata": {},
   "source": [
    "## Question\n",
    "Is there any differentially expressed genes in naive, effector and memory? What does it mean if there are differentially expressed genes across categories?"
   ]
  },
  {
   "cell_type": "markdown",
   "metadata": {},
   "source": [
    "Answer:\n",
    "\n",
    "Effector has Ccl5 and B2m, which aren't expressed highly in the other cell states.\n",
    "This means that they are defining cell state and may have a roll in differentiation."
   ]
  },
  {
   "cell_type": "markdown",
   "metadata": {},
   "source": [
    "# Part 2: K Means Clustering of Gene Expression"
   ]
  },
  {
   "cell_type": "markdown",
   "metadata": {},
   "source": [
    "For part 2 of the lab, we will cluster genes based on their expression over 100 days. The goal of this exercise is to find relationships among genes using k-means clustering. A description of k-means clustering can be found here: \n",
    "We will be using the sklearn implementation: http://scikit-learn.org/stable/modules/generated/sklearn.cluster.KMeans.html"
   ]
  },
  {
   "cell_type": "markdown",
   "metadata": {},
   "source": [
    "First, we will load in the data for a subset of our genes."
   ]
  },
  {
   "cell_type": "code",
   "execution_count": null,
   "metadata": {
    "collapsed": true
   },
   "outputs": [],
   "source": [
    "# load in a list of gene symbols we are interested in clustering\n",
    "with open('../data/lab3/cluster_genes.csv') as f:\n",
    "    geneSymbols = f.read()\n",
    "    "
   ]
  },
  {
   "cell_type": "code",
   "execution_count": null,
   "metadata": {
    "collapsed": true
   },
   "outputs": [],
   "source": [
    "# filter the data with the selected gene symbols\n",
    "#table1.where(table1[\"GeneSymbol\"].isin(list))\n",
    "allSymbols = table1[\"GeneSymbol\"].tolist() \n",
    "\n",
    "# make empty list to hold booleans for geneSymbols\n",
    "bools = list(range(len(allSymbols)))\n",
    "\n",
    "# assign bools to whether or not gene symbol was found\n",
    "# in our filtered list geneSymbols\n",
    "for index, i in enumerate(allSymbols):\n",
    "    if i in geneSymbols:\n",
    "        bools[index] = True\n",
    "    else:\n",
    "        bools[index] = False\n",
    "\n",
    "# filter table by geneSymbol booleans        \n",
    "table2 = table1.where(bools)\n",
    "table2"
   ]
  },
  {
   "cell_type": "markdown",
   "metadata": {},
   "source": [
    "Fit 10 clusters to the all genes available in our dataset. You first must convert the dataframe into an np matrix. To do so, select relevant columns, then call `table.to_df().as_matrix()`."
   ]
  },
  {
   "cell_type": "code",
   "execution_count": null,
   "metadata": {
    "collapsed": true
   },
   "outputs": [],
   "source": [
    "# Select the expression columns for 0 to 100 days\n",
    "columns = table2.select(['T_8Nve_Sp_OT1', 'T_8Eff_Sp_OT1_d5_VSVOva', 'T_8Eff_Sp_OT1_d6_VSVOva', \\\n",
    "                         'T_8Eff_Sp_OT1_d8_VSVOva', 'T_8Eff_Sp_OT1_d15_VSVOva', 'T_8Mem_Sp_OT1_d45_VSVOva', \\\n",
    "                         'T_8Mem_Sp_OT1_d106_VSVOva'])\n",
    "\n",
    "# To use kmeans, we must format our data as a matrix. These functions let us extract a matrix of values from our table \n",
    "# of expression data.\n",
    "matrix = columns.to_df().as_matrix()\n",
    "\n",
    "# Run kmeans with 10 clusters\n",
    "kmeans = KMeans(n_clusters=10, random_state=0).fit(matrix)\n",
    "\n",
    "# Print out the cluster labels. Each label 0-9 represents a different cluster. Genes in the same cluster should have \n",
    "#'similar' expression patterns. \n",
    "kmeans_labels = kmeans.labels_\n",
    "print(kmeans_labels)"
   ]
  },
  {
   "cell_type": "markdown",
   "metadata": {},
   "source": [
    "Now, we will plot time series data for cluster 0 over time from 0 to 100 days of incubation."
   ]
  },
  {
   "cell_type": "code",
   "execution_count": null,
   "metadata": {
    "collapsed": true
   },
   "outputs": [],
   "source": [
    "# Add a new column to our table that holds the cluster label kmeans assigned.\n",
    "columns_and_labels = columns.with_column('cluster_id', kmeans.labels_.tolist())"
   ]
  },
  {
   "cell_type": "code",
   "execution_count": null,
   "metadata": {
    "collapsed": true
   },
   "outputs": [],
   "source": [
    "# Get genes that were clustered into cluster 0. Drop the cluster column for plotting.\n",
    "cluster_0 = columns_and_labels.where('cluster_id', 0).drop('cluster_id')\n",
    "\n",
    "# get figure and axes for plot\n",
    "fig, ax = plt.subplots()\n",
    "\n",
    "# Graphing a line for each gene is tricky. To do this, we will be converting our data to a matrix, \n",
    "# then using matplotlib. 'T' transposes our data.\n",
    "x=cluster_0.to_df().as_matrix().T\n",
    "\n",
    "# Plot each gene using matplotlib.\n",
    "results = ax.plot(x)\n",
    "\n",
    "# set labels to incubation days\n",
    "labels = ['Nve', 'd5', 'd6', 'd8', 'd15', 'd45', 'd106']\n",
    "# rewrite labels\n",
    "ax.set_xticklabels(labels)\n"
   ]
  },
  {
   "cell_type": "markdown",
   "metadata": {},
   "source": [
    "## Question\n",
    "Following the instrunctions from the cell above, plot all of the 10 clusters on a subplot. (Hint: you should use a loop so you don't have to re-write code 9 times.) **Make sure to label and title your plots for full credit.**"
   ]
  },
  {
   "cell_type": "code",
   "execution_count": null,
   "metadata": {
    "collapsed": true
   },
   "outputs": [],
   "source": [
    "# Answer here:\n",
    "\n",
    "for i in range(0, 10):\n",
    "    fig, ax = plt.subplots()\n",
    "\n",
    "    # Get genes that were clustered into cluster 0. Drop the cluster column for plotting.\n",
    "    cluster = columns_and_labels.where('cluster_id', i).drop('cluster_id')\n",
    "\n",
    "    # Graphing a line for each gene is tricky. To do this, we will be converting our data to a matrix, \n",
    "    # then using matplotlib. 'T' transposes our data.\n",
    "    x=cluster.to_df().as_matrix().T\n",
    "    \n",
    "    # Plot each gene using matplotlib.\n",
    "    ax.plot(x)\n",
    "    ax.set_title(\"Cluster %i\" % (i+1))\n",
    "    ax.set_xticklabels(labels)\n",
    "    \n",
    "    fig.show()"
   ]
  },
  {
   "cell_type": "markdown",
   "metadata": {},
   "source": [
    "## Question \n",
    "What are some trends you can see between and across gene clusters over time?"
   ]
  },
  {
   "cell_type": "markdown",
   "metadata": {},
   "source": [
    "**Answer here:**\n",
    "\n",
    "Clusters 5, 6 and 9 peak around 5 days."
   ]
  },
  {
   "cell_type": "markdown",
   "metadata": {},
   "source": [
    "## Question\n",
    "List all of the genes in each of the categories. (Hint: We printed out the labels for each gene above. This is stored in the **kmeans_labels** array. Join this with the Gene names, and print the gene names in each cluster."
   ]
  },
  {
   "cell_type": "code",
   "execution_count": null,
   "metadata": {
    "collapsed": true
   },
   "outputs": [],
   "source": [
    "# Answer here:\n",
    "\n",
    "# zip gene names and labels\n",
    "zipped = list(zip(kmeans_labels, table2[\"GeneSymbol\"].tolist()))\n",
    "\n",
    "# TODO: Finish code here:\n",
    "for i in range(0, 10):\n",
    "    print(\"Cluster %i\" % (i+1))\n",
    "    values = [x for x in zipped if x[0] == i]\n",
    "    genes = [x[1] for x in values]\n",
    "    print(genes)\n"
   ]
  },
  {
   "cell_type": "markdown",
   "metadata": {},
   "source": [
    "## Question"
   ]
  },
  {
   "cell_type": "markdown",
   "metadata": {},
   "source": [
    "Which clusters have the most genes in them? Which cluster have the fewest genes in them?"
   ]
  },
  {
   "cell_type": "markdown",
   "metadata": {},
   "source": [
    "Clusters 2, 10 and 1 have the most genes."
   ]
  },
  {
   "cell_type": "markdown",
   "metadata": {},
   "source": [
    "## Question\n",
    "Open https://www.immgen.org/ImmGenPublications/ni.2536.pdf. This paper contains the original clustering experiments of this gene set. In Figure 1c, you can see their 10 clusters. Read the genes in each of these clusters. Which of your clusters correspond to the clusters they found in the paper (ie Cluster 1 from paper -> my cluster 2). If unsure, you can put 2 clusters."
   ]
  },
  {
   "cell_type": "markdown",
   "metadata": {},
   "source": [
    "Answer here:\n",
    "\n",
    "Cluster 1: Cluster 2\n",
    "Cluster 2: 10 or  2\n",
    "Cluster 3: 2 and 4\n",
    "Cluster 4: 2,5\n",
    "Cluster 5:\n",
    "Cluster 6: \n",
    "Cluster 7:\n",
    "Cluster 8:\n",
    "Cluster 9:\n",
    "Cluster 10: "
   ]
  },
  {
   "cell_type": "markdown",
   "metadata": {},
   "source": [
    "## Question\n",
    "It seems like our clusting results differ from those in the paper. What are some potential sources that are creating these differences?"
   ]
  },
  {
   "cell_type": "markdown",
   "metadata": {},
   "source": [
    "**Answer here:**\n",
    "    \n",
    "They have more time points, different clustering technique"
   ]
  },
  {
   "cell_type": "markdown",
   "metadata": {},
   "source": [
    "## Question\n",
    "\n",
    "Pick one of the 10 clusters defined in the paper. Give a description of the category and explain one of its genes. \n"
   ]
  },
  {
   "cell_type": "markdown",
   "metadata": {},
   "source": [
    "**Answer here:**\n"
   ]
  },
  {
   "cell_type": "markdown",
   "metadata": {
    "collapsed": true
   },
   "source": [
    "## Question\n",
    "On a scale from 1 to 10 (1 being worst, 10 being best), please rate this lab in terms of its:\n",
    "1. Clarity\n",
    "2. Difficulty\n",
    "3. Length\n",
    "4. Insight"
   ]
  },
  {
   "cell_type": "code",
   "execution_count": null,
   "metadata": {
    "collapsed": true
   },
   "outputs": [],
   "source": []
  }
 ],
 "metadata": {
  "kernelspec": {
   "display_name": "Python 3",
   "language": "python",
   "name": "python3"
  },
  "language_info": {
   "codemirror_mode": {
    "name": "ipython",
    "version": 3
   },
   "file_extension": ".py",
   "mimetype": "text/x-python",
   "name": "python",
   "nbconvert_exporter": "python",
   "pygments_lexer": "ipython3",
   "version": "3.5.2"
  },
  "timetravel": {
   "allowedContentTypes": [
    "text/plain"
   ],
   "enabled": false,
   "version": "1.0"
  }
 },
 "nbformat": 4,
 "nbformat_minor": 1
}
